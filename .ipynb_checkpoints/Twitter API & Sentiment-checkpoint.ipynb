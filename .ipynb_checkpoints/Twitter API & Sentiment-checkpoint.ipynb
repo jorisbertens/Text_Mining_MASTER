{
 "cells": [
  {
   "cell_type": "code",
   "execution_count": 2,
   "metadata": {},
   "outputs": [],
   "source": [
    "from tweepy import Stream\n",
    "from tweepy import OAuthHandler\n",
    "from tweepy.streaming import StreamListener\n",
    "import json\n",
    "import sentiment_mod as s\n",
    "from textblob import TextBlob"
   ]
  },
  {
   "cell_type": "raw",
   "metadata": {},
   "source": [
    "def sentiment_textblob(text):\n",
    "    analyze = TextBlob(text)\n",
    "    \n",
    "    if analyze.polarity == 0.0:\n",
    "        return \"neutral\", analyze.polarity\n",
    "        #textblob_sentiment_list.append(neutral)\n",
    "    elif analyze.polarity > 0.0:\n",
    "        return \"positive\", analyze.polarity\n",
    "        #textblob_sentiment_list.append(positive)\n",
    "    elif analyze.polarity < 0.0:\n",
    "        return \"negative\", analyze.polarity\n",
    "        #textblob_sentiment_list.append(negative)\n",
    "\n",
    "    def on_data(self, data):\n",
    "        all_data = json.loads(data)\n",
    "        \n",
    "        tweet = all_data[\"text\"]\n",
    "        sentiment_value, polarity = sentiment_textblob(tweet)     \n",
    "        print((tweet, sentiment_value, polarity))\n",
    "        \n",
    "        return True"
   ]
  },
  {
   "cell_type": "code",
   "execution_count": null,
   "metadata": {
    "pycharm": {}
   },
   "outputs": [
    {
     "name": "stdout",
     "output_type": "stream",
     "text": [
      "('@CNBC #btc #bitcoin New crypto-bot, daily profit under 15%, link: https://t.co/35v7T9j7qq', 'pos', 0.7142857142857143)\n",
      "('@QuorraMarket @electroneum #btc #bitcoin New crypto-bot, daily profit under 15%, link: https://t.co/5KRGgDfGtQ', 'pos', 0.7142857142857143)\n",
      "('RT @CashaaLtd: Today is the day we are launching our #business plans! Whether you are an #unbanked #crypto business or looking for the best…', 'neg', 1.0)\n",
      "('Lightning Network-Powered Bitcoin Exchange Sparkswap Goes Live with Public Beta https://t.co/eWbpNMykMa #bitcoin… https://t.co/aaCXDlX1nh', 'neg', 1.0)\n",
      "('@CoinDeskMarkets #btc #bitcoin New crypto-bot, daily profit under 15%, link: https://t.co/BgINiMluzP', 'pos', 0.7142857142857143)\n",
      "('@Reuters #btc #bitcoin New crypto-bot, daily profit under 15%, link: https://t.co/xfV8YIC9Az', 'pos', 0.7142857142857143)\n",
      "('@CharlieBitbuy @jack @MargaretAtwood #btc #bitcoin New crypto-bot, daily profit under 15%, link: https://t.co/Ycf22NHdaq', 'pos', 0.7142857142857143)\n",
      "('@aaron_hogan @katiemartinedu #btc #bitcoin New crypto-bot, daily profit under 15%, link: https://t.co/tJVbY8knT1', 'pos', 0.7142857142857143)\n",
      "('RT @Swiss_Satoshi: We’re happy we just received our second crypto payment solution to accelerate mass adoption of cryptocurrencies in Switz…', 'pos', 1.0)\n",
      "('@Trudy13702984 #btc #bitcoin New crypto-bot, daily profit under 15%, link: https://t.co/1bqMOdDZeZ', 'pos', 0.7142857142857143)\n",
      "('RT @SARUMAN1: Alguien sabe q pasó con \"aquellos muchachos\" a quienes les dieron muchos dólares para traer máquinas para minería de Criptomo…', 'neg', 0.8571428571428571)\n",
      "('@BobLoukas #btc #bitcoin New crypto-bot, daily profit under 15%, link: https://t.co/tJVbY8knT1', 'pos', 0.7142857142857143)\n",
      "('@AliceMcCloskey2 #btc #bitcoin New crypto-bot, daily profit under 15%, link: https://t.co/SDjohtlhOv', 'pos', 0.7142857142857143)\n",
      "(\"RT @iulian_neagoe: From BTC Price To Musk's Reign as Dogecoin CEO: Top Stories From The Past Week https://t.co/Iw8lOJgcaX #Blockchain #bitc…\", 'neg', 1.0)\n",
      "('@DollarVigilante #btc #bitcoin New crypto-bot, daily profit under 15%, link: https://t.co/1me9lfSnJZ', 'pos', 0.7142857142857143)\n",
      "('@JamesTodaroMD #btc #bitcoin New crypto-bot, daily profit under 15%, link: https://t.co/1bqMOdDZeZ', 'pos', 0.7142857142857143)\n",
      "('RT @crypto__mak: Online Bank Mistertango Offers Crypto Companies Multiple Accounts and Ibans https://t.co/QGQsai42y0 #Bitcoin #Exchanges #c…', 'neg', 1.0)\n",
      "('@BankXRP #btc #bitcoin New crypto-bot, daily profit under 15%, link: https://t.co/SDjohtlhOv', 'pos', 0.7142857142857143)\n",
      "('RT @ICOAnnouncement: 🎙 New Featured Project\\n                    \\n🔷 Bitcoin Oil (BTCO)\\n\\n🔶 Bitcoin Oil is a hard fork of Bitcoin, with improv…', 'neg', 1.0)\n",
      "('@Schuldensuehner #btc #bitcoin New crypto-bot, daily profit under 15%, link: https://t.co/5KRGgDfGtQ', 'pos', 0.7142857142857143)\n",
      "('Bitcoin value: $5209.57', 'neg', 1.0)\n",
      "('@alistairmilne #btc #bitcoin New crypto-bot, daily profit under 15%, link: https://t.co/ld4KW3n77j', 'pos', 0.7142857142857143)\n",
      "('@realLudvigArt #btc #bitcoin New crypto-bot, daily profit under 15%, link: https://t.co/1bqMOdDZeZ', 'pos', 0.7142857142857143)\n",
      "('Dow Jones\\nS&amp;P 500 \\nNasdaq\\n10 Year Treasuries\\n.\\n.\\n.\\nBitcoin!', 'neg', 1.0)\n",
      "('@WomanBlockchain @Radioactive3D @bitninjasupply @womeninblockch3 @Coinboyspodcast @D_Kevs @mysticaloaks… https://t.co/cbNDW2yLGC', 'neg', 1.0)\n",
      "('RT @crypto__mak: Responding to The Motley Fool’s Anti-Bitcoin Article https://t.co/ySShzM3ssN #Bitcoin #Cryptocurrency', 'neg', 0.5714285714285714)\n",
      "('@xtdisnkfe #btc #bitcoin New crypto-bot, daily profit under 15%, link: https://t.co/xfV8YIC9Az', 'pos', 0.7142857142857143)\n",
      "('@StayDashy @DiscoverDash @Dashpay #btc #bitcoin New crypto-bot, daily profit under 15%, link: https://t.co/tJVbY8knT1', 'pos', 0.7142857142857143)\n",
      "('@PeterMcCormack @Snyke #btc #bitcoin New crypto-bot, daily profit under 15%, link: https://t.co/SDjohtlhOv', 'pos', 0.7142857142857143)\n",
      "('@C_ScareCrow_H @NoHolyScripture @SkepticNikki @timberners_lee @vgcerf Nobody rules Bitcoin. It is the end of rulers.', 'neg', 1.0)\n",
      "('#HIGH #HighBank #ICO #Bitcoin #Ethereum #Cryptocurrency \\nJust visit the medium pager and see update https://t.co/kcuR27LGhe', 'pos', 0.8571428571428571)\n",
      "('@freebitco #btc #bitcoin New crypto-bot, daily profit under 15%, link: https://t.co/35v7T9j7qq', 'pos', 0.7142857142857143)\n",
      "('RT @tron_squad: ❤️ https://t.co/I2269kOKhy', 'neg', 1.0)\n",
      "('@alexmejias @CasaHODL @TraceMayer #btc #bitcoin New crypto-bot, daily profit under 15%, link: https://t.co/Ycf22NHdaq', 'pos', 0.7142857142857143)\n",
      "('@cryptobubbly #btc #bitcoin New crypto-bot, daily profit under 15%, link: https://t.co/1bqMOdDZeZ', 'pos', 0.7142857142857143)\n",
      "('@RichMartel How can you otherwise ever agree upon a protocol when you can just keep on voting until the end of time… https://t.co/CILoCUgYgW', 'pos', 0.5714285714285714)\n",
      "('@krugermacro #btc #bitcoin New crypto-bot, daily profit under 15%, link: https://t.co/xrapjkhdLg', 'pos', 0.7142857142857143)\n",
      "('Follow my #SnapChat! - WokeChain\\n\\nFor that.... Inside info. 😉🙃🚀\\n\\n#crypto #Bitcoin #cryptohumor #cryptocomedy #HODL… https://t.co/8Y9qBDU5lf', 'neg', 1.0)\n",
      "('@barrysilbert @markets #btc #bitcoin New crypto-bot, daily profit under 15%, link: https://t.co/Ycf22NHdaq', 'pos', 0.7142857142857143)\n",
      "('@RodrigoThirry #btc #bitcoin New crypto-bot, daily profit under 15%, link: https://t.co/xfV8YIC9Az', 'pos', 0.7142857142857143)\n",
      "('RT @maxkeiser: Agree!!! And the new global financial crisis is underway.  \\n\\nObama’s Chief of Staff Says #Bitcoin Adoption Inevitable in Fin…', 'neg', 0.5714285714285714)\n",
      "('@Torosushi2 @PundiXLabs #btc #bitcoin New crypto-bot, daily profit under 15%, link: https://t.co/Ycf22NHdaq', 'pos', 0.7142857142857143)\n",
      "('@Hipster_Trader #btc #bitcoin New crypto-bot, daily profit under 15%, link: https://t.co/BgINiMluzP', 'pos', 0.7142857142857143)\n",
      "('@lopp @LukeDashjr #btc #bitcoin New crypto-bot, daily profit under 15%, link: https://t.co/Ycf22NHdaq', 'pos', 0.7142857142857143)\n",
      "('@zynecoin #btc #bitcoin New crypto-bot, daily profit under 15%, link: https://t.co/1bqMOdDZeZ', 'pos', 0.7142857142857143)\n",
      "('Top 5 Countries Where Google Searches for Bitcoin Just Tripled https://t.co/yiLT7kviZS', 'neg', 1.0)\n",
      "('The Game Is On For #Bitcoin, #Ethereum, #Ripple And #Litecoin via @forbes https://t.co/9aGT3gZJZ6', 'neg', 1.0)\n",
      "('@martik @APompliano @JWilliamsFstmed #btc #bitcoin New crypto-bot, daily profit under 15%, link: https://t.co/tJVbY8knT1', 'pos', 0.7142857142857143)\n",
      "('More than 20% of Bitcoin shorts were closed on Bitfinex https://t.co/nh4eQGOo9U https://t.co/NqMvo7gAQW', 'neg', 1.0)\n",
      "('@FinancialTimes #btc #bitcoin New crypto-bot, daily profit under 15%, link: https://t.co/BgINiMluzP', 'pos', 0.7142857142857143)\n",
      "('@JWilliamsFstmed #btc #bitcoin New crypto-bot, daily profit under 15%, link: https://t.co/35v7T9j7qq', 'pos', 0.7142857142857143)\n",
      "('@tradingroomapp #btc #bitcoin New crypto-bot, daily profit under 15%, link: https://t.co/Ycf22NHdaq', 'pos', 0.7142857142857143)\n",
      "('@SmokeyXBT #btc #bitcoin New crypto-bot, daily profit under 15%, link: https://t.co/Ycf22NHdaq', 'pos', 0.7142857142857143)\n",
      "('@100trillionUSD #btc #bitcoin New crypto-bot, daily profit under 15%, link: https://t.co/ld4KW3n77j', 'pos', 0.7142857142857143)\n",
      "('RT @Daman___: Highlights: The Internet of Money - Volume 2\\n#bitcoin #BTC\\n\\nhttps://t.co/8OlWy2sb3v\\nvia \\n@youtube https://t.co/l1GbyA6Ceo', 'neg', 1.0)\n",
      "('RT @RedKatLife: Top 5 Countries Where Google Searches for #Bitcoin Just Tripled 📈\\n\\nThe Rundown\\n1. Nigeria 🇳🇬 \\n2. Netherlands 🇳🇱 \\n3. South A…', 'neg', 1.0)\n",
      "('@TheStalwart #btc #bitcoin New crypto-bot, daily profit under 15%, link: https://t.co/tJVbY8knT1', 'pos', 0.7142857142857143)\n",
      "('Bitcoin and Friends - ビットコインのカートゥーン - https://t.co/sM7enTwoiI', 'neg', 1.0)\n",
      "('Bitcoin and Friends - ビットコインのカートゥーン - https://t.co/idBr4Fh9GM', 'neg', 1.0)\n",
      "('Bitcoin and Friends - ビットコインのカートゥーン - https://t.co/9NYrLLImem', 'neg', 1.0)\n",
      "('RT @iamjosephyoung: Looks like some people are interested in bitcoin https://t.co/ERt2XJsry2', 'neg', 1.0)\n",
      "('@BitcoinRh @Trezor #btc #bitcoin New crypto-bot, daily profit under 15%, link: https://t.co/5KRGgDfGtQ', 'pos', 0.7142857142857143)\n",
      "('@WhalePanda #btc #bitcoin New crypto-bot, daily profit under 15%, link: https://t.co/35v7T9j7qq', 'pos', 0.7142857142857143)\n"
     ]
    },
    {
     "name": "stdout",
     "output_type": "stream",
     "text": [
      "('New Bitcoin ATM Machine in Essex!\\n\\n #crypto #ripple #xrp #hold #verge #xvg #btc #bitcoin #cryptocurrency… https://t.co/66GkqhXOfa', 'neg', 1.0)\n",
      "('RT @SARUMAN1: Alguien sabe q pasó con \"aquellos muchachos\" a quienes les dieron muchos dólares para traer máquinas para minería de Criptomo…', 'neg', 0.8571428571428571)\n",
      "('@wellstoken #btc #bitcoin New crypto-bot, daily profit under 15%, link: https://t.co/5KRGgDfGtQ', 'pos', 0.7142857142857143)\n",
      "('@alistairmilne #btc #bitcoin New crypto-bot, daily profit under 15%, link: https://t.co/BgINiMluzP', 'pos', 0.7142857142857143)\n",
      "('Bitcoin azıcık toparlandı diye resort otelde kalmak biraz şov bence :))\\nEs kaza 10K falan olsa; viuuuuu, hobaaaaa,… https://t.co/DLt34kwPfF', 'neg', 1.0)\n",
      "('@business @EdVanDerWalt #btc #bitcoin New crypto-bot, daily profit under 15%, link: https://t.co/Bp6jkNa6eW', 'pos', 0.7142857142857143)\n",
      "('@IDAXpro #btc #bitcoin New crypto-bot, daily profit under 15%, link: https://t.co/xfV8YIC9Az', 'pos', 0.7142857142857143)\n",
      "('@TheCryptoLark #btc #bitcoin New crypto-bot, daily profit under 15%, link: https://t.co/xrapjkhdLg', 'pos', 0.7142857142857143)\n",
      "(\"RT @CoinCorner: Banking has always been challenging for #bitcoin exchanges, so we're VERY excited to announce that we've secured a UK bank…\", 'pos', 1.0)\n",
      "('@hodlonaut #btc #bitcoin New crypto-bot, daily profit under 15%, link: https://t.co/BgINiMluzP', 'pos', 0.7142857142857143)\n",
      "('@FrontHedge #btc #bitcoin New crypto-bot, daily profit under 15%, link: https://t.co/1bqMOdDZeZ', 'pos', 0.7142857142857143)\n",
      "('@Bull0fBitcoin #btc #bitcoin New crypto-bot, daily profit under 15%, link: https://t.co/xfV8YIC9Az', 'pos', 0.7142857142857143)\n",
      "(\"RT @truegameSRL: He predicted #BTC's 2018 plunge. 📉 \\nNow he predicts #Bitcoin to reach $50,000 within two years. 📈\\nHow tempting is it to be…\", 'neg', 0.7142857142857143)\n",
      "('@CryptoBac #btc #bitcoin New crypto-bot, daily profit under 15%, link: https://t.co/xrapjkhdLg', 'pos', 0.7142857142857143)\n",
      "('@CryptoNekoZ @JBTheCryptoKing 1. EXRN / EXRT tech revolution , hidden gem , under the radar\\n2. Bitcoin\\n3. Ethereum', 'neg', 0.5714285714285714)\n",
      "('@crypto #btc #bitcoin New crypto-bot, daily profit under 15%, link: https://t.co/5KRGgDfGtQ', 'pos', 0.7142857142857143)\n",
      "('Options Finally Come to Ethereum and Bitcoin\\n#pumpanddump #binance #IoT #buyorders #FUD #coldstorage #premining… https://t.co/QowhsGwA6n', 'neg', 1.0)\n",
      "('RT @CoinCasso: #TEAMZSummit2019, organised by @teamz_inc!  🇯🇵\\n💎\"https://t.co/ql9j0cKHiw is very happy to be here at the TEAMZ Blockchain Su…', 'pos', 0.5714285714285714)\n",
      "('@crypto_rand #btc #bitcoin New crypto-bot, daily profit under 15%, link: https://t.co/xrapjkhdLg', 'pos', 0.7142857142857143)\n",
      "('@_Crypto_Maniac_ #btc #bitcoin New crypto-bot, daily profit under 15%, link: https://t.co/Bp6jkNa6eW', 'pos', 0.7142857142857143)\n",
      "('@crypto #btc #bitcoin New crypto-bot, daily profit under 15%, link: https://t.co/xrapjkhdLg', 'pos', 0.7142857142857143)\n"
     ]
    }
   ],
   "source": [
    "ckey = \"SNvZ9JKRNx11knjAasVOC4wzv\"\n",
    "csecret = \"4G3Jsw7JW1S88RpEfFvxIhFWVzWQxoYnH7MDP3XC09en8K4t2H\"\n",
    "atoken = \"984413976535752705-WlU7kQeeu7SbYwhrybsTpWdNa5x4JzU\"\n",
    "asecret = \"Fbm9tOcYrJpSL17Ll1kYyueMz8CkBbwR0irJ259dUf4Wk\"\n",
    "\n",
    "class listener(StreamListener):\n",
    "    \n",
    "    def on_data(self, data):\n",
    "        all_data = json.loads(data)\n",
    "        \n",
    "        tweet = all_data[\"text\"]\n",
    "        sentiment_value, confidence = s.sentiment(tweet)     \n",
    "        print((tweet, sentiment_value, confidence))\n",
    "        \n",
    "        if confidence*100 >=70:\n",
    "            output = open(\"twitter-out.txt\", \"a\")\n",
    "            output.write(sentiment_value)\n",
    "            output.write(\"\\n\")\n",
    "            output.close()\n",
    "            \n",
    "        return True\n",
    "    \n",
    "    def on_error(self, status):\n",
    "        print(status)\n",
    "        \n",
    "auth = OAuthHandler(ckey, csecret)\n",
    "auth.set_access_token(atoken, asecret)\n",
    "twitterStream = Stream(auth, listener())\n",
    "twitterStream.filter(track=[\"bitcoin\"])"
   ]
  },
  {
   "cell_type": "code",
   "execution_count": 7,
   "metadata": {},
   "outputs": [
    {
     "ename": "NameError",
     "evalue": "name 'all_data' is not defined",
     "output_type": "error",
     "traceback": [
      "\u001b[0;31m---------------------------------------------------------------------------\u001b[0m",
      "\u001b[0;31mNameError\u001b[0m                                 Traceback (most recent call last)",
      "\u001b[0;32m<ipython-input-7-0cd65f1f8801>\u001b[0m in \u001b[0;36m<module>\u001b[0;34m\u001b[0m\n\u001b[0;32m----> 1\u001b[0;31m \u001b[0mall_data\u001b[0m\u001b[0;34m\u001b[0m\u001b[0;34m\u001b[0m\u001b[0m\n\u001b[0m",
      "\u001b[0;31mNameError\u001b[0m: name 'all_data' is not defined"
     ]
    }
   ],
   "source": []
  },
  {
   "cell_type": "code",
   "execution_count": null,
   "metadata": {
    "pycharm": {}
   },
   "outputs": [],
   "source": []
  }
 ],
 "metadata": {
  "kernelspec": {
   "display_name": "Python 3",
   "language": "python",
   "name": "python3"
  },
  "language_info": {
   "codemirror_mode": {
    "name": "ipython",
    "version": 3
   },
   "file_extension": ".py",
   "mimetype": "text/x-python",
   "name": "python",
   "nbconvert_exporter": "python",
   "pygments_lexer": "ipython3",
   "version": "3.7.1"
  },
  "stem_cell": {
   "cell_type": "raw",
   "metadata": {
    "pycharm": {
     "metadata": false
    }
   },
   "source": "from tweepy import Stream\nfrom tweepy import OAuthHandler\nfrom tweepy.streaming import StreamListener\nimport json\nimport sentiment_mod as s"
  }
 },
 "nbformat": 4,
 "nbformat_minor": 2
}
