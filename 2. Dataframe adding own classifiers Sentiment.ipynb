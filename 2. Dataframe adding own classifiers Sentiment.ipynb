{
 "cells": [
  {
   "cell_type": "code",
   "execution_count": 15,
   "metadata": {},
   "outputs": [],
   "source": [
    "import pickle\n",
    "import sentiment_mod_own_labeled as s\n",
    "import pandas as pd"
   ]
  },
  {
   "cell_type": "code",
   "execution_count": 13,
   "metadata": {},
   "outputs": [
    {
     "data": {
      "text/html": [
       "<div>\n",
       "<style scoped>\n",
       "    .dataframe tbody tr th:only-of-type {\n",
       "        vertical-align: middle;\n",
       "    }\n",
       "\n",
       "    .dataframe tbody tr th {\n",
       "        vertical-align: top;\n",
       "    }\n",
       "\n",
       "    .dataframe thead th {\n",
       "        text-align: right;\n",
       "    }\n",
       "</style>\n",
       "<table border=\"1\" class=\"dataframe\">\n",
       "  <thead>\n",
       "    <tr style=\"text-align: right;\">\n",
       "      <th></th>\n",
       "      <th>datetime</th>\n",
       "      <th>text</th>\n",
       "      <th>Language</th>\n",
       "      <th>sentiment_textblob</th>\n",
       "      <th>sentiment_nltk</th>\n",
       "    </tr>\n",
       "  </thead>\n",
       "  <tbody>\n",
       "    <tr>\n",
       "      <th>0</th>\n",
       "      <td>2019-01-01 00:00:00</td>\n",
       "      <td>bitcoin unit price market cap hr vol</td>\n",
       "      <td>en</td>\n",
       "      <td>neutral</td>\n",
       "      <td>neutral</td>\n",
       "    </tr>\n",
       "    <tr>\n",
       "      <th>1</th>\n",
       "      <td>2019-01-01 00:00:00</td>\n",
       "      <td>learn ses bitcoin lowest average daily price c...</td>\n",
       "      <td>en</td>\n",
       "      <td>negative</td>\n",
       "      <td>negative</td>\n",
       "    </tr>\n",
       "    <tr>\n",
       "      <th>3</th>\n",
       "      <td>2019-01-01 00:00:01</td>\n",
       "      <td>iam platform curated retwet via twiter com _al...</td>\n",
       "      <td>en</td>\n",
       "      <td>positive</td>\n",
       "      <td>neutral</td>\n",
       "    </tr>\n",
       "    <tr>\n",
       "      <th>4</th>\n",
       "      <td>2019-01-01 00:00:01</td>\n",
       "      <td>bitcoin btc price change h market cap ranking ...</td>\n",
       "      <td>en</td>\n",
       "      <td>neutral</td>\n",
       "      <td>neutral</td>\n",
       "    </tr>\n",
       "    <tr>\n",
       "      <th>5</th>\n",
       "      <td>2019-01-01 00:00:01</td>\n",
       "      <td>iam platform curated retwet via twiter com rea...</td>\n",
       "      <td>en</td>\n",
       "      <td>positive</td>\n",
       "      <td>positive</td>\n",
       "    </tr>\n",
       "  </tbody>\n",
       "</table>\n",
       "</div>"
      ],
      "text/plain": [
       "              datetime                                               text  \\\n",
       "0  2019-01-01 00:00:00               bitcoin unit price market cap hr vol   \n",
       "1  2019-01-01 00:00:00  learn ses bitcoin lowest average daily price c...   \n",
       "3  2019-01-01 00:00:01  iam platform curated retwet via twiter com _al...   \n",
       "4  2019-01-01 00:00:01  bitcoin btc price change h market cap ranking ...   \n",
       "5  2019-01-01 00:00:01  iam platform curated retwet via twiter com rea...   \n",
       "\n",
       "  Language sentiment_textblob sentiment_nltk  \n",
       "0       en            neutral        neutral  \n",
       "1       en           negative       negative  \n",
       "3       en           positive        neutral  \n",
       "4       en            neutral        neutral  \n",
       "5       en           positive       positive  "
      ]
     },
     "execution_count": 13,
     "metadata": {},
     "output_type": "execute_result"
    }
   ],
   "source": [
    "pickle_df_sentiment = open(\"df_tweets/df_nltk.pickle\",\"rb\")\n",
    "df_sentiment = pickle.load(pickle_df_sentiment)\n",
    "df_sentiment"
   ]
  },
  {
   "cell_type": "code",
   "execution_count": 17,
   "metadata": {},
   "outputs": [],
   "source": [
    "df_sentiment_sample = df_sentiment.sample(n=50000,random_state=1,axis=0)"
   ]
  },
  {
   "cell_type": "code",
   "execution_count": 22,
   "metadata": {},
   "outputs": [],
   "source": [
    "def add_sentiment_own(dataframe):\n",
    "    text_column = dataframe[\"text\"]\n",
    "    sentiment_own_list = []\n",
    "\n",
    "    for i in text_column:\n",
    "        sentiment_value, confidence = s.sentiment(i)#sentiment_textblob(i)\n",
    "        if confidence < 0.7 and confidence > -0.7 :\n",
    "            sentiment_own_list.append(\"neutral\")\n",
    "        else:\n",
    "            sentiment_own_list.append(sentiment_value)\n",
    "\n",
    "    dataframe[\"sentiment_own_classifiers\"] = sentiment_own_list\n",
    "    \n",
    "    return dataframe"
   ]
  },
  {
   "cell_type": "code",
   "execution_count": 24,
   "metadata": {},
   "outputs": [],
   "source": [
    "df_sentiment_sample = add_sentiment_own(df_sentiment_sample)"
   ]
  },
  {
   "cell_type": "code",
   "execution_count": 25,
   "metadata": {},
   "outputs": [
    {
     "data": {
      "text/html": [
       "<div>\n",
       "<style scoped>\n",
       "    .dataframe tbody tr th:only-of-type {\n",
       "        vertical-align: middle;\n",
       "    }\n",
       "\n",
       "    .dataframe tbody tr th {\n",
       "        vertical-align: top;\n",
       "    }\n",
       "\n",
       "    .dataframe thead th {\n",
       "        text-align: right;\n",
       "    }\n",
       "</style>\n",
       "<table border=\"1\" class=\"dataframe\">\n",
       "  <thead>\n",
       "    <tr style=\"text-align: right;\">\n",
       "      <th></th>\n",
       "      <th>datetime</th>\n",
       "      <th>text</th>\n",
       "      <th>Language</th>\n",
       "      <th>sentiment_textblob</th>\n",
       "      <th>sentiment_nltk</th>\n",
       "      <th>sentiment_own_classifiers</th>\n",
       "    </tr>\n",
       "  </thead>\n",
       "  <tbody>\n",
       "    <tr>\n",
       "      <th>574425</th>\n",
       "      <td>2019-01-23 17:42:10</td>\n",
       "      <td>dow jones bitcoin fight back record gains mone...</td>\n",
       "      <td>en</td>\n",
       "      <td>neutral</td>\n",
       "      <td>negative</td>\n",
       "      <td>pos</td>\n",
       "    </tr>\n",
       "    <tr>\n",
       "      <th>323539</th>\n",
       "      <td>2019-01-13 17:26:33</td>\n",
       "      <td>क टक going years bank acount long bitcoin shor...</td>\n",
       "      <td>en</td>\n",
       "      <td>negative</td>\n",
       "      <td>neutral</td>\n",
       "      <td>neg</td>\n",
       "    </tr>\n",
       "    <tr>\n",
       "      <th>728758</th>\n",
       "      <td>2019-01-30 00:09:51</td>\n",
       "      <td>_ days mayer multiple _ market dominance _ has...</td>\n",
       "      <td>en</td>\n",
       "      <td>neutral</td>\n",
       "      <td>positive</td>\n",
       "      <td>neg</td>\n",
       "    </tr>\n",
       "    <tr>\n",
       "      <th>189174</th>\n",
       "      <td>2019-01-08 11:08:49</td>\n",
       "      <td>bitcoin price watch btc dips remain suported c...</td>\n",
       "      <td>en</td>\n",
       "      <td>neutral</td>\n",
       "      <td>neutral</td>\n",
       "      <td>pos</td>\n",
       "    </tr>\n",
       "    <tr>\n",
       "      <th>296241</th>\n",
       "      <td>2019-01-12 11:00:02</td>\n",
       "      <td>mercadobitcoin btc r blockchain btc r mercadob...</td>\n",
       "      <td>en</td>\n",
       "      <td>neutral</td>\n",
       "      <td>neutral</td>\n",
       "      <td>pos</td>\n",
       "    </tr>\n",
       "  </tbody>\n",
       "</table>\n",
       "</div>"
      ],
      "text/plain": [
       "                   datetime  \\\n",
       "574425  2019-01-23 17:42:10   \n",
       "323539  2019-01-13 17:26:33   \n",
       "728758  2019-01-30 00:09:51   \n",
       "189174  2019-01-08 11:08:49   \n",
       "296241  2019-01-12 11:00:02   \n",
       "\n",
       "                                                     text Language  \\\n",
       "574425  dow jones bitcoin fight back record gains mone...       en   \n",
       "323539  क टक going years bank acount long bitcoin shor...       en   \n",
       "728758  _ days mayer multiple _ market dominance _ has...       en   \n",
       "189174  bitcoin price watch btc dips remain suported c...       en   \n",
       "296241  mercadobitcoin btc r blockchain btc r mercadob...       en   \n",
       "\n",
       "       sentiment_textblob sentiment_nltk sentiment_own_classifiers  \n",
       "574425            neutral       negative                       pos  \n",
       "323539           negative        neutral                       neg  \n",
       "728758            neutral       positive                       neg  \n",
       "189174            neutral        neutral                       pos  \n",
       "296241            neutral        neutral                       pos  "
      ]
     },
     "execution_count": 25,
     "metadata": {},
     "output_type": "execute_result"
    }
   ],
   "source": [
    "df_sentiment_sample.head()"
   ]
  },
  {
   "cell_type": "code",
   "execution_count": 27,
   "metadata": {},
   "outputs": [],
   "source": [
    "save_documents = open(\"df_tweets/df_sentiment_own_sample.pickle\",\"wb\")\n",
    "pickle.dump(df_sentiment_sample, save_documents)\n",
    "save_documents.close()"
   ]
  }
 ],
 "metadata": {
  "kernelspec": {
   "display_name": "Python 3",
   "language": "python",
   "name": "python3"
  },
  "language_info": {
   "codemirror_mode": {
    "name": "ipython",
    "version": 3
   },
   "file_extension": ".py",
   "mimetype": "text/x-python",
   "name": "python",
   "nbconvert_exporter": "python",
   "pygments_lexer": "ipython3",
   "version": "3.7.1"
  }
 },
 "nbformat": 4,
 "nbformat_minor": 2
}
