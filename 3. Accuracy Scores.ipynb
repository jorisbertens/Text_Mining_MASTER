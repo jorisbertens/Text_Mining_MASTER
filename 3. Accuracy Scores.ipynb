{
 "cells": [
  {
   "cell_type": "markdown",
   "metadata": {},
   "source": [
    "# Accuracy Scores\n",
    "This notebook provides the Accuracy scores of the IMDB classifiers and the Own labeled classifiers. This was done by importing the Testing Set of the Own labeled twitter data and Test our classifiers of the IMDB data and the Own labeled twitter data. This resulted in the following accuracy scores that can be found in the code down here."
   ]
  },
  {
   "cell_type": "code",
   "execution_count": 6,
   "metadata": {},
   "outputs": [],
   "source": [
    "import nltk\n",
    "import random\n",
    "from nltk.corpus import movie_reviews\n",
    "from nltk.classify.scikitlearn import SklearnClassifier\n",
    "from nltk import word_tokenize\n",
    "import pickle\n",
    "from textblob import TextBlob\n",
    "from nltk.sentiment.vader import SentimentIntensityAnalyzer\n",
    "\n",
    "from sklearn.naive_bayes import MultinomialNB, GaussianNB, BernoulliNB\n",
    "\n",
    "from sklearn.linear_model import LogisticRegression, SGDClassifier\n",
    "from sklearn.svm import SVC, LinearSVC, NuSVC\n",
    "\n",
    "from nltk.classify import ClassifierI\n",
    "from statistics import mode\n"
   ]
  },
  {
   "cell_type": "code",
   "execution_count": 27,
   "metadata": {},
   "outputs": [],
   "source": [
    "training_set_imdb = open(\"pickled_train_test/training_set_imdb.pickle\",\"rb\")\n",
    "training_set_imdb = pickle.load(training_set_imdb)\n",
    "\n",
    "testing_set_imdb = open(\"pickled_train_test/testing_set_imdb.pickle\",\"rb\")\n",
    "testing_set_imdb = pickle.load(testing_set_imdb)\n",
    "\n",
    "training_set_own = open(\"pickled_train_test/training_set_own.pickle\",\"rb\")\n",
    "training_set_own = pickle.load(training_set_own)\n",
    "\n",
    "testing_set_own = open(\"pickled_train_test/testing_set_own.pickle\",\"rb\")\n",
    "testing_set_own = pickle.load(testing_set_own)"
   ]
  },
  {
   "cell_type": "raw",
   "metadata": {},
   "source": [
    "class VoteClassifier(ClassifierI):\n",
    "    def __init__(self, *classifiers):\n",
    "        self._classifiers = classifiers\n",
    "    \n",
    "    def classify(self, features):\n",
    "        votes = []\n",
    "        for c in self._classifiers:\n",
    "            v = c.classify(features)\n",
    "            votes.append(v)\n",
    "        return mode(votes)\n",
    "    \n",
    "    def confidence(self, features):\n",
    "        \n",
    "        votes = []\n",
    "        for c in self._classifiers:\n",
    "            v = c.classify(features)\n",
    "            votes.append(v)\n",
    "        \n",
    "        choice_votes = votes.count(mode(votes))\n",
    "        conf = choice_votes / len(votes)\n",
    "        return conf"
   ]
  },
  {
   "cell_type": "markdown",
   "metadata": {},
   "source": [
    "## The algorithms trained classifiers on the IMDB data"
   ]
  },
  {
   "cell_type": "code",
   "execution_count": 29,
   "metadata": {},
   "outputs": [],
   "source": [
    "classifier_f = open(\"pickled_algorithms/originalnaivebayes.pickle\", \"rb\")\n",
    "originalNB_imdb = pickle.load(classifier_f)\n",
    "classifier_f.close()\n",
    "\n",
    "MNB_f = open(\"pickled_algorithms/MNB.pickle\", \"rb\")\n",
    "MNB_classifier_imdb = pickle.load(MNB_f)\n",
    "MNB_f.close()\n",
    "\n",
    "BernoulliNB_f = open(\"pickled_algorithms/BernoulliNB.pickle\", \"rb\")\n",
    "BernoulliNB_classifier_imdb = pickle.load(BernoulliNB_f)\n",
    "BernoulliNB_f.close()\n",
    "\n",
    "LinearSVC_f = open(\"pickled_algorithms/LinearSVC.pickle\", \"rb\")\n",
    "LinearSVC_classifier_imdb = pickle.load(LinearSVC_f)\n",
    "LinearSVC_f.close()\n",
    "\n",
    "NuSVC_f = open(\"pickled_algorithms/NuSVC.pickle\", \"rb\")\n",
    "NuSVC_classifier_imdb = pickle.load(NuSVC_f)\n",
    "NuSVC_f.close()\n",
    "\n",
    "SGDClassifier_f = open(\"pickled_algorithms/SGDClassifier.pickle\", \"rb\")\n",
    "SGDClassifier_classifier_imdb = pickle.load(SGDClassifier_f)\n",
    "SGDClassifier_f.close()\n",
    "\n",
    "LogisticRegression_f = open(\"pickled_algorithms/LogisticRegression.pickle\", \"rb\")\n",
    "LogisticRegression_classifier_imdb = pickle.load(LogisticRegression_f)\n",
    "LogisticRegression_f.close()\n",
    "\n",
    "voted_classifier_imdb = VoteClassifier(originalNB_imdb,\n",
    "                                  MNB_classifier_imdb,\n",
    "                                  BernoulliNB_classifier_imdb,\n",
    "                                  LinearSVC_classifier_imdb,\n",
    "                                  NuSVC_classifier_imdb,\n",
    "                                  SGDClassifier_classifier_imdb,\n",
    "                                  LogisticRegression_classifier_imdb)"
   ]
  },
  {
   "cell_type": "code",
   "execution_count": 30,
   "metadata": {},
   "outputs": [
    {
     "name": "stdout",
     "output_type": "stream",
     "text": [
      "The applied trained classifiers trained on the IMDB data and their accuracy: \n",
      " \n",
      "Original Naive Bayes Algo accuracy:                   |\t 49.130434782608695\n",
      "MultiNomial Naive Bayes Algo accuracy:                |\t 45.65217391304348\n",
      "Bernoulli Naive Bayes Algo accuracy:                  |\t 49.56521739130435\n",
      "Linear Supported Vector Classification Algo accuracy: |\t 50.0\n",
      "Nu Supported Vector Classification Algo accuracy:     |\t 50.8695652173913\n",
      "Stochastic Gradient Decent Algo accuracy:             |\t 52.60869565217391\n",
      "Logistic Regression Algo accuracy:                    |\t 50.0\n",
      "------------------------------------------------------------------------------------------------------\n",
      "voted_classifier accuracy:                            |\t 50.43478260869565\n"
     ]
    }
   ],
   "source": [
    "print(\"The applied trained classifiers trained on the IMDB data and their accuracy: \\n \")\n",
    "print(\"Original Naive Bayes Algo accuracy:                   |\\t\", (nltk.classify.accuracy(originalNB_imdb, testing_set_own))*100)\n",
    "print(\"MultiNomial Naive Bayes Algo accuracy:                |\\t\", (nltk.classify.accuracy(MNB_classifier_imdb, testing_set_own))*100)\n",
    "print(\"Bernoulli Naive Bayes Algo accuracy:                  |\\t\", (nltk.classify.accuracy(BernoulliNB_classifier_imdb, testing_set_own))*100)\n",
    "print(\"Linear Supported Vector Classification Algo accuracy: |\\t\", (nltk.classify.accuracy(LinearSVC_classifier_imdb, testing_set_own))*100)\n",
    "print(\"Nu Supported Vector Classification Algo accuracy:     |\\t\", (nltk.classify.accuracy(NuSVC_classifier_imdb, testing_set_own))*100)\n",
    "print(\"Stochastic Gradient Decent Algo accuracy:             |\\t\", (nltk.classify.accuracy(SGDClassifier_classifier_imdb, testing_set_own))*100)\n",
    "print(\"Logistic Regression Algo accuracy:                    |\\t\", (nltk.classify.accuracy(LogisticRegression_classifier_imdb, testing_set_own))*100)\n",
    "print(\"------------------------------------------------------------------------------------------------------\")\n",
    "print(\"voted_classifier accuracy:                            |\\t\", (nltk.classify.accuracy(voted_classifier_imdb,testing_set_own))*100)"
   ]
  },
  {
   "cell_type": "markdown",
   "metadata": {},
   "source": [
    "## The algorithms trained classifiers on our own labeled data"
   ]
  },
  {
   "cell_type": "code",
   "execution_count": 32,
   "metadata": {},
   "outputs": [],
   "source": [
    "classifier_f = open(\"pickled_algorithms/own_labeled/originalnaivebayes.pickle\", \"rb\")\n",
    "originalNB_own = pickle.load(classifier_f)\n",
    "classifier_f.close()\n",
    "\n",
    "MNB_f = open(\"pickled_algorithms/own_labeled/MNB.pickle\", \"rb\")\n",
    "MNB_classifier_own = pickle.load(MNB_f)\n",
    "MNB_f.close()\n",
    "\n",
    "BernoulliNB_f = open(\"pickled_algorithms/own_labeled/BernoulliNB.pickle\", \"rb\")\n",
    "BernoulliNB_classifier_own = pickle.load(BernoulliNB_f)\n",
    "BernoulliNB_f.close()\n",
    "\n",
    "LinearSVC_f = open(\"pickled_algorithms/own_labeled/LinearSVC.pickle\", \"rb\")\n",
    "LinearSVC_classifier_own = pickle.load(LinearSVC_f)\n",
    "LinearSVC_f.close()\n",
    "\n",
    "NuSVC_f = open(\"pickled_algorithms/own_labeled/NuSVC.pickle\", \"rb\")\n",
    "NuSVC_classifier_own = pickle.load(NuSVC_f)\n",
    "NuSVC_f.close()\n",
    "\n",
    "SGDClassifier_f = open(\"pickled_algorithms/own_labeled/SGDClassifier.pickle\", \"rb\")\n",
    "SGDClassifier_classifier_own = pickle.load(SGDClassifier_f)\n",
    "SGDClassifier_f.close()\n",
    "\n",
    "LogisticRegression_f = open(\"pickled_algorithms/own_labeled/LogisticRegression.pickle\", \"rb\")\n",
    "LogisticRegression_classifier_own = pickle.load(LogisticRegression_f)\n",
    "LogisticRegression_f.close()\n",
    "\n",
    "voted_classifier_own = VoteClassifier(originalNB_own,\n",
    "                                  MNB_classifier_own,\n",
    "                                  BernoulliNB_classifier_own,\n",
    "                                  LinearSVC_classifier_own,\n",
    "                                  NuSVC_classifier_own,\n",
    "                                  SGDClassifier_classifier_own,\n",
    "                                  LogisticRegression_classifier_own)"
   ]
  },
  {
   "cell_type": "code",
   "execution_count": 33,
   "metadata": {},
   "outputs": [
    {
     "name": "stdout",
     "output_type": "stream",
     "text": [
      "The applied trained classifiers trained on the own labeled data and their accuracy: \n",
      " \n",
      "Original Naive Bayes Algo accuracy:                   |\t 57.826086956521735\n",
      "MultiNomial Naive Bayes Algo accuracy:                |\t 58.26086956521739\n",
      "Bernoulli Naive Bayes Algo accuracy:                  |\t 56.52173913043478\n",
      "Linear Supported Vector Classification Algo accuracy: |\t 60.43478260869565\n",
      "Nu Supported Vector Classification Algo accuracy:     |\t 63.47826086956522\n",
      "Stochastic Gradient Decent Algo accuracy:             |\t 54.78260869565217\n",
      "Logistic Regression Algo accuracy:                    |\t 58.69565217391305\n",
      "------------------------------------------------------------------------------------------------------\n",
      "voted_classifier accuracy:                            |\t 60.0\n"
     ]
    }
   ],
   "source": [
    "print(\"The applied trained classifiers trained on the own labeled data and their accuracy: \\n \")\n",
    "print(\"Original Naive Bayes Algo accuracy:                   |\\t\", (nltk.classify.accuracy(originalNB_own, testing_set_own))*100)\n",
    "print(\"MultiNomial Naive Bayes Algo accuracy:                |\\t\", (nltk.classify.accuracy(MNB_classifier_own, testing_set_own))*100)\n",
    "print(\"Bernoulli Naive Bayes Algo accuracy:                  |\\t\", (nltk.classify.accuracy(BernoulliNB_classifier_own, testing_set_own))*100)\n",
    "print(\"Linear Supported Vector Classification Algo accuracy: |\\t\", (nltk.classify.accuracy(LinearSVC_classifier_own, testing_set_own))*100)\n",
    "print(\"Nu Supported Vector Classification Algo accuracy:     |\\t\", (nltk.classify.accuracy(NuSVC_classifier_own, testing_set_own))*100)\n",
    "print(\"Stochastic Gradient Decent Algo accuracy:             |\\t\", (nltk.classify.accuracy(SGDClassifier_classifier_own, testing_set_own))*100)\n",
    "print(\"Logistic Regression Algo accuracy:                    |\\t\", (nltk.classify.accuracy(LogisticRegression_classifier_own, testing_set_own))*100)\n",
    "print(\"------------------------------------------------------------------------------------------------------\")\n",
    "print(\"voted_classifier accuracy:                            |\\t\", (nltk.classify.accuracy(voted_classifier_own,testing_set_own))*100)"
   ]
  }
 ],
 "metadata": {
  "kernelspec": {
   "display_name": "Python 3",
   "language": "python",
   "name": "python3"
  },
  "language_info": {
   "codemirror_mode": {
    "name": "ipython",
    "version": 3
   },
   "file_extension": ".py",
   "mimetype": "text/x-python",
   "name": "python",
   "nbconvert_exporter": "python",
   "pygments_lexer": "ipython3",
   "version": "3.7.1"
  }
 },
 "nbformat": 4,
 "nbformat_minor": 2
}
