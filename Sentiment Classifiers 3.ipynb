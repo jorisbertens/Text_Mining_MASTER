{
  "cells": [
    {
      "cell_type": "code",
      "execution_count": 27,
      "metadata": {
        "pycharm": {}
      },
      "outputs": [],
      "source": "#print((find_features(movie_reviews.words(\"neg/cv000_29416.txt\"))))"
    },
    {
      "cell_type": "code",
      "execution_count": 18,
      "metadata": {
        "pycharm": {}
      },
      "outputs": [],
      "source": [
        "featuresets \u003d [(find_features(rev), category) for (rev, category) in documents]"
      ]
    },
    {
      "cell_type": "code",
      "execution_count": 19,
      "metadata": {
        "pycharm": {}
      },
      "outputs": [],
      "source": [
        "random.shuffle(featuresets)"
      ]
    },
    {
      "cell_type": "code",
      "execution_count": 20,
      "metadata": {
        "pycharm": {}
      },
      "outputs": [],
      "source": [
        "training_set \u003d featuresets[:10000]\n",
        "testing_set \u003d featuresets[10000:]"
      ]
    },
    {
      "cell_type": "code",
      "execution_count": 21,
      "metadata": {
        "pycharm": {}
      },
      "outputs": [
        {
          "name": "stdout",
          "output_type": "stream",
          "text": [
            "Original Naive Bayes Algo accuracy: 74.69879518072288\n",
            "Most Informative Features\n",
            "              engrossing \u003d True              pos : neg    \u003d     21.0 : 1.0\n",
            "               inventive \u003d True              pos : neg    \u003d     14.3 : 1.0\n",
            "                supposed \u003d True              neg : pos    \u003d     13.7 : 1.0\n",
            "                  boring \u003d True              neg : pos    \u003d     13.6 : 1.0\n",
            "                    warm \u003d True              pos : neg    \u003d     13.0 : 1.0\n",
            "                powerful \u003d True              pos : neg    \u003d     12.7 : 1.0\n",
            "              refreshing \u003d True              pos : neg    \u003d     12.3 : 1.0\n",
            "            refreshingly \u003d True              pos : neg    \u003d     12.3 : 1.0\n",
            "               wonderful \u003d True              pos : neg    \u003d     12.2 : 1.0\n",
            "             mesmerizing \u003d True              pos : neg    \u003d     11.7 : 1.0\n",
            "               realistic \u003d True              pos : neg    \u003d     11.7 : 1.0\n",
            "                   vivid \u003d True              pos : neg    \u003d     11.7 : 1.0\n",
            "                provides \u003d True              pos : neg    \u003d     11.4 : 1.0\n",
            "                captures \u003d True              pos : neg    \u003d     11.0 : 1.0\n",
            "                  stupid \u003d True              neg : pos    \u003d     11.0 : 1.0\n"
          ]
        }
      ],
      "source": [
        "# likelyhood \u003d prior occurences x likihood / evidence\n",
        "\n",
        "classifier \u003d nltk.NaiveBayesClassifier.train(training_set)\n",
        "\n",
        "#classifier_f \u003d open(\"naivebayes.pickle\", \"rb\")\n",
        "#classifier \u003d pickle.load(classifier_f)\n",
        "#classifier_f.close()\n",
        "\n",
        "print(\"Original Naive Bayes Algo accuracy:\", (nltk.classify.accuracy(classifier, testing_set))*100)\n",
        "classifier.show_most_informative_features(15)"
      ]
    },
    {
      "cell_type": "code",
      "execution_count": 22,
      "metadata": {
        "pycharm": {}
      },
      "outputs": [],
      "source": [
        "save_classifier \u003d open(\"pickled_algorithms/originalnaivebayes.pickle\",\"wb\")\n",
        "pickle.dump(classifier, save_classifier)\n",
        "save_classifier.close()"
      ]
    },
    {
      "cell_type": "code",
      "execution_count": 23,
      "metadata": {
        "pycharm": {}
      },
      "outputs": [
        {
          "name": "stdout",
          "output_type": "stream",
          "text": [
            "MNB_classifier accuracy: 73.94578313253012\n"
          ]
        }
      ],
      "source": [
        "# Mulitnominal classifier\n",
        "MNB_classifier \u003d SklearnClassifier(MultinomialNB())\n",
        "MNB_classifier.train(training_set)\n",
        "print(\"MNB_classifier accuracy:\", (nltk.classify.accuracy(MNB_classifier, testing_set))*100)\n",
        "#MNB_classifier.show_most_informative_features(15)"
      ]
    },
    {
      "cell_type": "code",
      "execution_count": 31,
      "metadata": {
        "pycharm": {}
      },
      "outputs": [],
      "source": [
        "save_MNB_classifier \u003d open(\"pickled_algorithms/MNB.pickle\",\"wb\")\n",
        "pickle.dump(MNB_classifier, save_MNB_classifier)\n",
        "save_MNB_classifier.close()"
      ]
    },
    {
      "cell_type": "raw",
      "metadata": {
        "pycharm": {}
      },
      "source": [
        "# Gaussian classifier\n",
        "GaussianNB_classifier \u003d SklearnClassifier(GaussianNB())\n",
        "GaussianNB_classifier.train(training_set)\n",
        "print(\"GaussianNB_classifier accuracy:\", (nltk.classify.accuracy(GaussianNB_classifier, testing_set))*100)"
      ]
    },
    {
      "cell_type": "code",
      "execution_count": 26,
      "metadata": {
        "pycharm": {}
      },
      "outputs": [
        {
          "name": "stdout",
          "output_type": "stream",
          "text": [
            "BernoulliNB_classifier accuracy: 74.3975903614458\n"
          ]
        }
      ],
      "source": [
        "BernoulliNB_classifier \u003d SklearnClassifier(BernoulliNB())\n",
        "BernoulliNB_classifier.train(training_set)\n",
        "print(\"BernoulliNB_classifier accuracy:\", (nltk.classify.accuracy(BernoulliNB_classifier, testing_set))*100)"
      ]
    },
    {
      "cell_type": "code",
      "execution_count": 28,
      "metadata": {
        "pycharm": {}
      },
      "outputs": [],
      "source": [
        "save_BernoulliNB_classifier \u003d open(\"pickled_algorithms/BernoulliNB.pickle\",\"wb\")\n",
        "pickle.dump(BernoulliNB_classifier, save_BernoulliNB_classifier)\n",
        "save_BernoulliNB_classifier.close()"
      ]
    },
    {
      "cell_type": "code",
      "execution_count": 29,
      "metadata": {
        "pycharm": {}
      },
      "outputs": [
        {
          "name": "stderr",
          "output_type": "stream",
          "text": [
            "/opt/conda/lib/python3.7/site-packages/sklearn/linear_model/logistic.py:433: FutureWarning: Default solver will be changed to \u0027lbfgs\u0027 in 0.22. Specify a solver to silence this warning.\n",
            "  FutureWarning)\n"
          ]
        },
        {
          "name": "stdout",
          "output_type": "stream",
          "text": [
            "LogisticRegression_classifier accuracy: 75.6024096385542\n"
          ]
        }
      ],
      "source": [
        "LogisticRegression_classifier \u003d SklearnClassifier(LogisticRegression())\n",
        "LogisticRegression_classifier.train(training_set)\n",
        "print(\"LogisticRegression_classifier accuracy:\", (nltk.classify.accuracy(LogisticRegression_classifier, testing_set))*100)"
      ]
    },
    {
      "cell_type": "code",
      "execution_count": 30,
      "metadata": {
        "pycharm": {}
      },
      "outputs": [],
      "source": [
        "save_LogisticRegression_classifier \u003d open(\"pickled_algorithms/LogisticRegression.pickle\",\"wb\")\n",
        "pickle.dump(LogisticRegression_classifier, save_LogisticRegression_classifier)\n",
        "save_LogisticRegression_classifier.close()"
      ]
    },
    {
      "cell_type": "code",
      "execution_count": 32,
      "metadata": {
        "pycharm": {}
      },
      "outputs": [
        {
          "name": "stderr",
          "output_type": "stream",
          "text": [
            "/opt/conda/lib/python3.7/site-packages/sklearn/linear_model/stochastic_gradient.py:166: FutureWarning: max_iter and tol parameters have been added in SGDClassifier in 0.19. If both are left unset, they default to max_iter\u003d5 and tol\u003dNone. If tol is not None, max_iter defaults to max_iter\u003d1000. From 0.21, default max_iter will be 1000, and default tol will be 1e-3.\n",
            "  FutureWarning)\n"
          ]
        },
        {
          "name": "stdout",
          "output_type": "stream",
          "text": [
            "SGDClassifier_classifier accuracy: 72.59036144578313\n"
          ]
        }
      ],
      "source": [
        "SGDClassifier_classifier \u003d SklearnClassifier(SGDClassifier())\n",
        "SGDClassifier_classifier.train(training_set)\n",
        "print(\"SGDClassifier_classifier accuracy:\", (nltk.classify.accuracy(SGDClassifier_classifier, testing_set))*100)"
      ]
    },
    {
      "cell_type": "code",
      "execution_count": 33,
      "metadata": {
        "pycharm": {}
      },
      "outputs": [],
      "source": [
        "save_SGDClassifier_classifier \u003d open(\"pickled_algorithms/SGDClassifier.pickle\",\"wb\")\n",
        "pickle.dump(SGDClassifier_classifier, save_SGDClassifier_classifier)\n",
        "save_SGDClassifier_classifier.close()"
      ]
    },
    {
      "cell_type": "code",
      "execution_count": 34,
      "metadata": {
        "pycharm": {}
      },
      "outputs": [
        {
          "name": "stderr",
          "output_type": "stream",
          "text": [
            "/opt/conda/lib/python3.7/site-packages/sklearn/svm/base.py:196: FutureWarning: The default value of gamma will change from \u0027auto\u0027 to \u0027scale\u0027 in version 0.22 to account better for unscaled features. Set gamma explicitly to \u0027auto\u0027 or \u0027scale\u0027 to avoid this warning.\n",
            "  \"avoid this warning.\", FutureWarning)\n"
          ]
        },
        {
          "name": "stdout",
          "output_type": "stream",
          "text": [
            "SVC_classifier accuracy: 49.6987951807229\n"
          ]
        }
      ],
      "source": [
        "SVC_classifier \u003d SklearnClassifier(SVC())\n",
        "SVC_classifier.train(training_set)\n",
        "print(\"SVC_classifier accuracy:\", (nltk.classify.accuracy(SVC_classifier, testing_set))*100)"
      ]
    },
    {
      "cell_type": "code",
      "execution_count": 35,
      "metadata": {
        "pycharm": {}
      },
      "outputs": [],
      "source": [
        "save_SVC_classifier \u003d open(\"pickled_algorithms/SVC.pickle\",\"wb\")\n",
        "pickle.dump(SVC_classifier, save_SVC_classifier)\n",
        "save_SVC_classifier.close()"
      ]
    },
    {
      "cell_type": "code",
      "execution_count": 36,
      "metadata": {
        "pycharm": {}
      },
      "outputs": [
        {
          "name": "stdout",
          "output_type": "stream",
          "text": [
            "LinearSVC_classifier accuracy: 72.43975903614458\n"
          ]
        }
      ],
      "source": [
        "LinearSVC_classifier \u003d SklearnClassifier(LinearSVC())\n",
        "LinearSVC_classifier.train(training_set)\n",
        "print(\"LinearSVC_classifier accuracy:\", (nltk.classify.accuracy(LinearSVC_classifier, testing_set))*100)"
      ]
    },
    {
      "cell_type": "code",
      "execution_count": 37,
      "metadata": {
        "pycharm": {}
      },
      "outputs": [],
      "source": [
        "save_LinearSVC_classifier \u003d open(\"pickled_algorithms/LinearSVC.pickle\",\"wb\")\n",
        "pickle.dump(LinearSVC_classifier, save_LinearSVC_classifier)\n",
        "save_LinearSVC_classifier.close()"
      ]
    },
    {
      "cell_type": "code",
      "execution_count": 38,
      "metadata": {
        "pycharm": {}
      },
      "outputs": [
        {
          "name": "stdout",
          "output_type": "stream",
          "text": [
            "NuSVC_classifier accuracy: 74.24698795180723\n"
          ]
        }
      ],
      "source": [
        "NuSVC_classifier \u003d SklearnClassifier(NuSVC())\n",
        "NuSVC_classifier.train(training_set)\n",
        "print(\"NuSVC_classifier accuracy:\", (nltk.classify.accuracy(NuSVC_classifier, testing_set))*100)"
      ]
    },
    {
      "cell_type": "code",
      "execution_count": 39,
      "metadata": {
        "pycharm": {}
      },
      "outputs": [],
      "source": [
        "save_NuSVC_classifier \u003d open(\"pickled_algorithms/NuSVC.pickle\",\"wb\")\n",
        "pickle.dump(NuSVC_classifier, save_NuSVC_classifier)\n",
        "save_NuSVC_classifier.close()"
      ]
    },
    {
      "cell_type": "markdown",
      "metadata": {
        "pycharm": {}
      },
      "source": [
        "## Vote classifier"
      ]
    },
    {
      "cell_type": "code",
      "execution_count": 40,
      "metadata": {
        "pycharm": {}
      },
      "outputs": [],
      "source": [
        "voted_classifier \u003d VoteClassifier(classifier,\n",
        "                                  MNB_classifier,\n",
        "                                  BernoulliNB_classifier,\n",
        "                                  LinearSVC_classifier,\n",
        "                                  NuSVC_classifier,\n",
        "                                  SGDClassifier_classifier,\n",
        "                                  LogisticRegression_classifier)"
      ]
    },
    {
      "cell_type": "code",
      "execution_count": 41,
      "metadata": {
        "pycharm": {}
      },
      "outputs": [
        {
          "name": "stdout",
          "output_type": "stream",
          "text": [
            "voted_classifier accuracy: 75.15060240963855\n"
          ]
        }
      ],
      "source": [
        "print(\"voted_classifier accuracy:\", (nltk.classify.accuracy(voted_classifier,testing_set))*100)"
      ]
    },
    {
      "cell_type": "code",
      "execution_count": null,
      "metadata": {
        "pycharm": {}
      },
      "outputs": [],
      "source": []
    },
    {
      "cell_type": "code",
      "execution_count": 42,
      "metadata": {
        "pycharm": {}
      },
      "outputs": [
        {
          "name": "stdout",
          "output_type": "stream",
          "text": [
            "Classification: pos Confidence %: 100.0\n"
          ]
        }
      ],
      "source": [
        "print(\"Classification:\", voted_classifier.classify(testing_set[0][0]), \"Confidence %:\",voted_classifier.confidence(testing_set[0][0])*100)"
      ]
    },
    {
      "cell_type": "code",
      "execution_count": 44,
      "metadata": {
        "pycharm": {}
      },
      "outputs": [
        {
          "name": "stdout",
          "output_type": "stream",
          "text": [
            "Classification: pos Confidence %: 85.71428571428571\n"
          ]
        }
      ],
      "source": [
        "print(\"Classification:\", voted_classifier.classify(testing_set[1][0]), \"Confidence %:\",voted_classifier.confidence(testing_set[1][0])*100)"
      ]
    },
    {
      "cell_type": "code",
      "execution_count": 45,
      "metadata": {
        "pycharm": {}
      },
      "outputs": [
        {
          "name": "stdout",
          "output_type": "stream",
          "text": [
            "Classification: neg Confidence %: 71.42857142857143\n"
          ]
        }
      ],
      "source": [
        "print(\"Classification:\", voted_classifier.classify(testing_set[2][0]), \"Confidence %:\",voted_classifier.confidence(testing_set[2][0])*100)"
      ]
    },
    {
      "cell_type": "code",
      "execution_count": 46,
      "metadata": {
        "pycharm": {}
      },
      "outputs": [
        {
          "name": "stdout",
          "output_type": "stream",
          "text": [
            "Classification: neg Confidence %: 100.0\n"
          ]
        }
      ],
      "source": [
        "print(\"Classification:\", voted_classifier.classify(testing_set[3][0]), \"Confidence %:\",voted_classifier.confidence(testing_set[3][0])*100)"
      ]
    },
    {
      "cell_type": "code",
      "execution_count": 47,
      "metadata": {
        "pycharm": {}
      },
      "outputs": [
        {
          "name": "stdout",
          "output_type": "stream",
          "text": [
            "Classification: pos Confidence %: 71.42857142857143\n"
          ]
        }
      ],
      "source": [
        "print(\"Classification:\", voted_classifier.classify(testing_set[4][0]), \"Confidence %:\",voted_classifier.confidence(testing_set[4][0])*100)"
      ]
    },
    {
      "cell_type": "code",
      "execution_count": 48,
      "metadata": {
        "pycharm": {}
      },
      "outputs": [
        {
          "name": "stdout",
          "output_type": "stream",
          "text": [
            "Classification: neg Confidence %: 100.0\n"
          ]
        }
      ],
      "source": [
        "print(\"Classification:\", voted_classifier.classify(testing_set[5][0]), \"Confidence %:\",voted_classifier.confidence(testing_set[5][0])*100)"
      ]
    },
    {
      "cell_type": "code",
      "execution_count": null,
      "metadata": {
        "pycharm": {}
      },
      "outputs": [],
      "source": []
    },
    {
      "cell_type": "code",
      "execution_count": 49,
      "metadata": {
        "pycharm": {}
      },
      "outputs": [],
      "source": [
        "def sentiment(text):\n",
        "    feats \u003d find_features(text)\n",
        "    \n",
        "    return voted_classifier.classify(feats)\n"
      ]
    },
    {
      "cell_type": "code",
      "execution_count": null,
      "metadata": {
        "pycharm": {}
      },
      "outputs": [],
      "source": []
    },
    {
      "cell_type": "markdown",
      "metadata": {
        "pycharm": {}
      },
      "source": [
        "## Pickling, how to"
      ]
    },
    {
      "cell_type": "markdown",
      "metadata": {
        "pycharm": {}
      },
      "source": [
        "save_classifier \u003d open(\"naivebayes.pickle\", \"wb\")\n",
        "pickle.dump(classifier, save_classifier)\n",
        "save_classifier.close()"
      ]
    }
  ],
  "metadata": {
    "kernelspec": {
      "display_name": "Python 3",
      "language": "python",
      "name": "python3"
    },
    "language_info": {
      "codemirror_mode": {
        "name": "ipython",
        "version": 3
      },
      "file_extension": ".py",
      "mimetype": "text/x-python",
      "name": "python",
      "nbconvert_exporter": "python",
      "pygments_lexer": "ipython3",
      "version": "3.7.1"
    },
    "stem_cell": {
      "cell_type": "raw",
      "source": "import nltk\nimport random\nfrom nltk.corpus import movie_reviews\nfrom nltk.classify.scikitlearn import SklearnClassifier\nfrom nltk import word_tokenize\nimport pickle\n\nfrom sklearn.naive_bayes import MultinomialNB, GaussianNB, BernoulliNB\n\nfrom sklearn.linear_model import LogisticRegression, SGDClassifier\nfrom sklearn.svm import SVC, LinearSVC, NuSVC\n\nfrom nltk.classify import ClassifierI\nfrom statistics import mode\n\n\n\nclass VoteClassifier(ClassifierI):\n    def __init__(self, *classifiers):\n        self._classifiers \u003d classifiers\n    \n    def classify(self, features):\n        votes \u003d []\n        for c in self._classifiers:\n            v \u003d c.classify(features)\n            votes.append(v)\n        return mode(votes)\n    \n    def confidence(self, features):\n        \n        votes \u003d []\n        for c in self._classifiers:\n            v \u003d c.classify(features)\n            votes.append(v)\n        \n        choice_votes \u003d votes.count(mode(votes))\n        conf \u003d choice_votes / len(votes)\n        return conf\n        \ndocuments_f \u003d open(\"pickled_algorithms/documents.pickle\", \"rb\")\ndocuments \u003d pickle.load(documents_f)\ndocuments_f.close()\n\nword_features_f \u003d open(\"pickled_algorithms/word_features.pickle\", \"rb\")\nword_features \u003d pickle.load(word_features_f)\nword_features_f.close()\n\n\ndef find_features(document):\n    words \u003d word_tokenize(document)\n    features \u003d {}\n    for w in word_features:\n        features[w] \u003d (w in words)\n    \n    return features",
      "metadata": {
        "pycharm": {
          "metadata": false
        }
      }
    }
  },
  "nbformat": 4,
  "nbformat_minor": 2
}