{
 "cells": [
  {
   "cell_type": "markdown",
   "metadata": {},
   "source": [
    "## Import the Pickle"
   ]
  },
  {
   "cell_type": "code",
   "execution_count": 1,
   "metadata": {},
   "outputs": [
    {
     "data": {
      "text/html": [
       "<div>\n",
       "<style scoped>\n",
       "    .dataframe tbody tr th:only-of-type {\n",
       "        vertical-align: middle;\n",
       "    }\n",
       "\n",
       "    .dataframe tbody tr th {\n",
       "        vertical-align: top;\n",
       "    }\n",
       "\n",
       "    .dataframe thead th {\n",
       "        text-align: right;\n",
       "    }\n",
       "</style>\n",
       "<table border=\"1\" class=\"dataframe\">\n",
       "  <thead>\n",
       "    <tr style=\"text-align: right;\">\n",
       "      <th></th>\n",
       "      <th>datetime</th>\n",
       "      <th>text</th>\n",
       "    </tr>\n",
       "  </thead>\n",
       "  <tbody>\n",
       "    <tr>\n",
       "      <th>0</th>\n",
       "      <td>2019-01-01 00:00:00</td>\n",
       "      <td>@ #1,  Bitcoin  with unit price of $3,742.7, m...</td>\n",
       "    </tr>\n",
       "    <tr>\n",
       "      <th>1</th>\n",
       "      <td>2019-01-01 00:00:00</td>\n",
       "      <td>Learn it. 2018 Sees  Bitcoin ’s Lowest Average...</td>\n",
       "    </tr>\n",
       "    <tr>\n",
       "      <th>2</th>\n",
       "      <td>2019-01-01 00:00:01</td>\n",
       "      <td>仮想通貨の時価総額  $125,622,003,150   BTC  価格:$3734.04...</td>\n",
       "    </tr>\n",
       "    <tr>\n",
       "      <th>3</th>\n",
       "      <td>2019-01-01 00:00:01</td>\n",
       "      <td>IAM Platform Curated Retweet:  Via:  https:// ...</td>\n",
       "    </tr>\n",
       "    <tr>\n",
       "      <th>4</th>\n",
       "      <td>2019-01-01 00:00:01</td>\n",
       "      <td>Bitcoin  - BTC Price: $3,742.70 Change in 1h: ...</td>\n",
       "    </tr>\n",
       "  </tbody>\n",
       "</table>\n",
       "</div>"
      ],
      "text/plain": [
       "              datetime                                               text\n",
       "0  2019-01-01 00:00:00  @ #1,  Bitcoin  with unit price of $3,742.7, m...\n",
       "1  2019-01-01 00:00:00  Learn it. 2018 Sees  Bitcoin ’s Lowest Average...\n",
       "2  2019-01-01 00:00:01  仮想通貨の時価総額  $125,622,003,150   BTC  価格:$3734.04...\n",
       "3  2019-01-01 00:00:01  IAM Platform Curated Retweet:  Via:  https:// ...\n",
       "4  2019-01-01 00:00:01  Bitcoin  - BTC Price: $3,742.70 Change in 1h: ..."
      ]
     },
     "execution_count": 1,
     "metadata": {},
     "output_type": "execute_result"
    }
   ],
   "source": [
    "import pickle\n",
    "\n",
    "pickle_tweets = open(\".gitignore/tweets_jan2019\", \"rb\")\n",
    "example_tweets = pickle.load(pickle_tweets)\n",
    "example_tweets = example_tweets[[\"datetime\",\"text\"]]\n",
    "#example_tweets[\"index1\"] = example_tweets.index\n",
    "example_tweets.head()"
   ]
  },
  {
   "cell_type": "markdown",
   "metadata": {},
   "source": [
    "### Take a sample"
   ]
  },
  {
   "cell_type": "code",
   "execution_count": 3,
   "metadata": {},
   "outputs": [],
   "source": [
    "example_tweets = example_tweets.head(10000)"
   ]
  },
  {
   "cell_type": "markdown",
   "metadata": {},
   "source": [
    "### Dataframe to Dictionary"
   ]
  },
  {
   "cell_type": "code",
   "execution_count": 4,
   "metadata": {},
   "outputs": [],
   "source": [
    "# create a dictionary out of the dataframe with two values -> datetime and text\n",
    "tweet_dict = example_tweets.T.to_dict(\"list\")\n",
    "#tweet_dict"
   ]
  },
  {
   "cell_type": "markdown",
   "metadata": {},
   "source": [
    "### Detect Language"
   ]
  },
  {
   "cell_type": "code",
   "execution_count": 5,
   "metadata": {},
   "outputs": [],
   "source": [
    "from langdetect import detect \n",
    "blanco = \"blanco\"\n",
    "\n",
    "# Create a list saving all the languages of the tweets\n",
    "language_list =[]\n",
    "for i in tweet_dict:\n",
    "    try:\n",
    "        language = detect(tweet_dict[i][1])\n",
    "        language_list.append(language)\n",
    "    except:\n",
    "        language_list.append(blanco)        "
   ]
  },
  {
   "cell_type": "code",
   "execution_count": 6,
   "metadata": {},
   "outputs": [
    {
     "name": "stdout",
     "output_type": "stream",
     "text": [
      "{'es', 'zh-cn', 'de', 'en', 'ar', 'ru', 'et', 'no', 'ro', 'th', 'bg', 'hi', 'id', 'tl', 'so', 'blanco', 'pt', 'sl', 'nl', 'cy', 'sk', 'cs', 'ko', 'hr', 'tr', 'vi', 'mk', 'it', 'fi', 'af', 'he', 'fr', 'ja', 'sq', 'pl', 'sw', 'sv', 'ca'}\n"
     ]
    }
   ],
   "source": [
    "print(set(language_list))"
   ]
  },
  {
   "cell_type": "code",
   "execution_count": 7,
   "metadata": {},
   "outputs": [],
   "source": [
    "example_tweets[\"Language\"] = language_list"
   ]
  },
  {
   "cell_type": "code",
   "execution_count": 8,
   "metadata": {},
   "outputs": [],
   "source": [
    "# Cut out all tweets which are not english\n",
    "example_tweets = example_tweets.loc[example_tweets['Language'] == \"en\"]"
   ]
  },
  {
   "cell_type": "code",
   "execution_count": 9,
   "metadata": {},
   "outputs": [],
   "source": [
    "tweet_dict = example_tweets.T.to_dict(\"list\")"
   ]
  },
  {
   "cell_type": "code",
   "execution_count": 10,
   "metadata": {},
   "outputs": [
    {
     "name": "stdout",
     "output_type": "stream",
     "text": [
      "@ #1,  Bitcoin  with unit price of $3,742.7, market cap of $65,331,499,158 (52.01%), and 24 hr vol. of $4,661,840,806.32 (33.00%)\n"
     ]
    }
   ],
   "source": [
    "print(tweet_dict[0][1])"
   ]
  },
  {
   "cell_type": "markdown",
   "metadata": {},
   "source": [
    "### Preprocessing Tweets "
   ]
  },
  {
   "cell_type": "code",
   "execution_count": 11,
   "metadata": {},
   "outputs": [],
   "source": [
    "import re\n",
    "import string\n",
    "for i in tweet_dict:\n",
    "    y = tweet_dict[i][1]\n",
    "    y = re.sub(r\"@[A-Z-a-z-0-9_.]+\",\"\", y) #remove users with@\n",
    "    #y=remove_emoji(y) #remove emojis\n",
    "    #y = re.sub(\"(\\:\\)+|\\=\\)+|\\:D+|(\\:\\(+|\\=\\(+|\\:-\\(+))\",\" \",y) #remove smiles not in unicode format\n",
    "    y = y.replace(\"\\n\",\" \") # remove enters\n",
    "    y= re.sub(r\"http\\S+\",\"\",y) # removes links\n",
    "    y= re.sub(\"\\s+\",\" \",y)  #removes more one spaces\n",
    "    y= re.sub(r\"&(amp;)\", \"&\", y) # removes and in html format\n",
    "    #y = re.sub(r\"[^\\w\\s]\",\"\",y) #remove special characters diferents languages, dot, questions marks, etc\n",
    "    #y = re.sub(r\"[^a-zA-Z\\d\\s:]\",\"\",y)\n",
    "    y = re.sub(r\"[0-9]\",\"\",y) #remove numbers\n",
    "    y=re.sub(r\"(.+?)\\1+\",r\"\\1\",y) #remove repeted letters\n",
    "    y= re.sub(\"\\s+\",\" \",y) #remove more one space\n",
    "    \n",
    "    tweet_dict[i][1] = y   # overwrite the dictionary"
   ]
  },
  {
   "cell_type": "code",
   "execution_count": 12,
   "metadata": {},
   "outputs": [],
   "source": [
    "import copy \n",
    "untoken_tweet_dict = copy.deepcopy(tweet_dict)"
   ]
  },
  {
   "cell_type": "markdown",
   "metadata": {},
   "source": [
    "### Tokenization & trimming of Tweets "
   ]
  },
  {
   "cell_type": "code",
   "execution_count": 13,
   "metadata": {},
   "outputs": [],
   "source": [
    "from project_functions import *"
   ]
  },
  {
   "cell_type": "code",
   "execution_count": 14,
   "metadata": {},
   "outputs": [
    {
     "name": "stdout",
     "output_type": "stream",
     "text": [
      "['bitcoin', 'with', 'unit', 'price', 'of', 'market', 'cap', 'of', 'and', 'hr', 'vol', 'of']\n"
     ]
    }
   ],
   "source": [
    "# tokenization of the tweets\n",
    "\n",
    "tweet_dict_token = tokenize_tw(tweet_dict)\n",
    "print(tweet_dict_token[0][1])"
   ]
  },
  {
   "cell_type": "code",
   "execution_count": 15,
   "metadata": {},
   "outputs": [
    {
     "name": "stdout",
     "output_type": "stream",
     "text": [
      "['bitcoin', 'unit', 'price', 'market', 'cap', 'hr', 'vol']\n"
     ]
    }
   ],
   "source": [
    "# remove stopwords of the tweets\n",
    "\n",
    "tweet_dict_stopw = remove_stopwords(tweet_dict_token,\"english\")\n",
    "print(tweet_dict_stopw[0][1])"
   ]
  },
  {
   "cell_type": "code",
   "execution_count": 16,
   "metadata": {},
   "outputs": [
    {
     "name": "stdout",
     "output_type": "stream",
     "text": [
      "['bitcoin', 'unit', 'price', 'market', 'cap', 'hr', 'vol']\n"
     ]
    }
   ],
   "source": [
    "# Lemmatization of the tweets\n",
    "\n",
    "tweet_dict_lemm = lemmatize(tweet_dict_stopw)\n",
    "print(tweet_dict_lemm[0][1])"
   ]
  },
  {
   "cell_type": "code",
   "execution_count": 17,
   "metadata": {},
   "outputs": [
    {
     "name": "stdout",
     "output_type": "stream",
     "text": [
      "['bitcoin', 'unit', 'price', 'market', 'cap', 'hr', 'vol']\n"
     ]
    }
   ],
   "source": [
    "# Stemmatization of the tweets\n",
    "\n",
    "tweet_dict_stemm = stemmatize(tweet_dict_stopw, \"english\")\n",
    "print(tweet_dict_stemm[0][1])"
   ]
  },
  {
   "cell_type": "markdown",
   "metadata": {},
   "source": [
    "### Get the Sentiment TextBlob"
   ]
  },
  {
   "cell_type": "code",
   "execution_count": 18,
   "metadata": {},
   "outputs": [],
   "source": [
    "from textblob import TextBlob"
   ]
  },
  {
   "cell_type": "code",
   "execution_count": 19,
   "metadata": {},
   "outputs": [
    {
     "data": {
      "text/plain": [
       "list"
      ]
     },
     "execution_count": 19,
     "metadata": {},
     "output_type": "execute_result"
    }
   ],
   "source": [
    "type(tweet_dict_lemm[0][1])"
   ]
  },
  {
   "cell_type": "code",
   "execution_count": 20,
   "metadata": {},
   "outputs": [],
   "source": [
    "#define here which level of trimming you want to apply\n",
    "tweets = tweet_dict_lemm\n",
    "neutral = \"neutral\"\n",
    "positive = \"positive\"\n",
    "negative = \"negative\"\n",
    "\n",
    "textblob_sentiment_list = []\n",
    "for i in tweets:\n",
    "    analyze = TextBlob(\" \".join(tweets[i][1]))\n",
    "    #print(analyze.polarity)\n",
    "    if analyze.polarity == 0.0:\n",
    "        textblob_sentiment_list.append(neutral)\n",
    "    elif analyze.polarity > 0.0:\n",
    "        textblob_sentiment_list.append(positive)\n",
    "    elif analyze.polarity < 0.0:\n",
    "        textblob_sentiment_list.append(negative)\n",
    "    #textblob_sentiment_list.append(analyze.sentiment)"
   ]
  },
  {
   "cell_type": "code",
   "execution_count": 34,
   "metadata": {},
   "outputs": [
    {
     "data": {
      "text/plain": [
       "'learn s bitcoin lowest averag daili price chang report cointelegraph com news s bitcoin lowest averag daili price chang report via tech digit data busin'"
      ]
     },
     "execution_count": 34,
     "metadata": {},
     "output_type": "execute_result"
    }
   ],
   "source": [
    "\" \".join(tweets[1][1])"
   ]
  },
  {
   "cell_type": "code",
   "execution_count": 26,
   "metadata": {},
   "outputs": [],
   "source": [
    "analyze = TextBlob(\" \".join(tweets[1][1]))"
   ]
  },
  {
   "cell_type": "code",
   "execution_count": 31,
   "metadata": {},
   "outputs": [
    {
     "data": {
      "text/plain": [
       "0.0"
      ]
     },
     "execution_count": 31,
     "metadata": {},
     "output_type": "execute_result"
    }
   ],
   "source": [
    "analyze.polarity"
   ]
  },
  {
   "cell_type": "code",
   "execution_count": 38,
   "metadata": {},
   "outputs": [],
   "source": [
    "example_tweets[\"TextBlob_Sentiment\"] = textblob_sentiment_list"
   ]
  },
  {
   "cell_type": "code",
   "execution_count": 39,
   "metadata": {},
   "outputs": [
    {
     "data": {
      "text/html": [
       "<div>\n",
       "<style scoped>\n",
       "    .dataframe tbody tr th:only-of-type {\n",
       "        vertical-align: middle;\n",
       "    }\n",
       "\n",
       "    .dataframe tbody tr th {\n",
       "        vertical-align: top;\n",
       "    }\n",
       "\n",
       "    .dataframe thead th {\n",
       "        text-align: right;\n",
       "    }\n",
       "</style>\n",
       "<table border=\"1\" class=\"dataframe\">\n",
       "  <thead>\n",
       "    <tr style=\"text-align: right;\">\n",
       "      <th></th>\n",
       "      <th>datetime</th>\n",
       "      <th>text</th>\n",
       "      <th>Language</th>\n",
       "      <th>TextBlob_Sentiment</th>\n",
       "    </tr>\n",
       "  </thead>\n",
       "  <tbody>\n",
       "    <tr>\n",
       "      <th>0</th>\n",
       "      <td>2019-01-01 00:00:00</td>\n",
       "      <td>@ #1,  Bitcoin  with unit price of $3,742.7, m...</td>\n",
       "      <td>en</td>\n",
       "      <td>neutral</td>\n",
       "    </tr>\n",
       "    <tr>\n",
       "      <th>1</th>\n",
       "      <td>2019-01-01 00:00:00</td>\n",
       "      <td>Learn it. 2018 Sees  Bitcoin ’s Lowest Average...</td>\n",
       "      <td>en</td>\n",
       "      <td>neutral</td>\n",
       "    </tr>\n",
       "    <tr>\n",
       "      <th>3</th>\n",
       "      <td>2019-01-01 00:00:01</td>\n",
       "      <td>IAM Platform Curated Retweet:  Via:  https:// ...</td>\n",
       "      <td>en</td>\n",
       "      <td>positive</td>\n",
       "    </tr>\n",
       "    <tr>\n",
       "      <th>4</th>\n",
       "      <td>2019-01-01 00:00:01</td>\n",
       "      <td>Bitcoin  - BTC Price: $3,742.70 Change in 1h: ...</td>\n",
       "      <td>en</td>\n",
       "      <td>negative</td>\n",
       "    </tr>\n",
       "    <tr>\n",
       "      <th>5</th>\n",
       "      <td>2019-01-01 00:00:01</td>\n",
       "      <td>IAM Platform Curated Retweet:  Via:  https:// ...</td>\n",
       "      <td>en</td>\n",
       "      <td>positive</td>\n",
       "    </tr>\n",
       "  </tbody>\n",
       "</table>\n",
       "</div>"
      ],
      "text/plain": [
       "              datetime                                               text  \\\n",
       "0  2019-01-01 00:00:00  @ #1,  Bitcoin  with unit price of $3,742.7, m...   \n",
       "1  2019-01-01 00:00:00  Learn it. 2018 Sees  Bitcoin ’s Lowest Average...   \n",
       "3  2019-01-01 00:00:01  IAM Platform Curated Retweet:  Via:  https:// ...   \n",
       "4  2019-01-01 00:00:01  Bitcoin  - BTC Price: $3,742.70 Change in 1h: ...   \n",
       "5  2019-01-01 00:00:01  IAM Platform Curated Retweet:  Via:  https:// ...   \n",
       "\n",
       "  Language TextBlob_Sentiment  \n",
       "0       en            neutral  \n",
       "1       en            neutral  \n",
       "3       en           positive  \n",
       "4       en           negative  \n",
       "5       en           positive  "
      ]
     },
     "execution_count": 39,
     "metadata": {},
     "output_type": "execute_result"
    }
   ],
   "source": [
    "example_tweets.head()"
   ]
  },
  {
   "cell_type": "code",
   "execution_count": 40,
   "metadata": {},
   "outputs": [],
   "source": [
    "def sentiment_textblob(text):\n",
    "    analyze = TextBlob(text)\n",
    "    \n",
    "    if analyze.polarity == 0.0:\n",
    "        print(\"neutral\", analyze.polarity)\n",
    "        #textblob_sentiment_list.append(neutral)\n",
    "    elif analyze.polarity > 0.0:\n",
    "        print(\"positive\", analyze.polarity)\n",
    "        #textblob_sentiment_list.append(positive)\n",
    "    elif analyze.polarity < 0.0:\n",
    "        print(\"negative\", analyze.polarity)\n",
    "        #textblob_sentiment_list.append(negative)"
   ]
  },
  {
   "cell_type": "code",
   "execution_count": 43,
   "metadata": {},
   "outputs": [
    {
     "name": "stdout",
     "output_type": "stream",
     "text": [
      "negative -0.6999999999999998\n"
     ]
    }
   ],
   "source": [
    "sentiment(\"Today was an bad day. I had a lot of pain.\")"
   ]
  },
  {
   "cell_type": "markdown",
   "metadata": {},
   "source": [
    "### Get sentiment NLTK"
   ]
  },
  {
   "cell_type": "markdown",
   "metadata": {},
   "source": [
    "The sentiment score of a text can be obtained by summing up the intensity of each word in the text and then normalizing it. The human raters of Vader used 5 heuristics to analyze the sentiment:\n",
    "\n",
    "* Punctuation — I love pizza vs I love pizza!!\n",
    "* Capitalization — I’m hungry!! vs I’M HUNGRY!!\n",
    "* Degree modifiers (use of intensifiers)— I WANT TO EAT!! VS I REALLY WANT TO EAT!!\n",
    "* Conjunctions (shift in sentiment polarity, with later dictating polarity) — I love pizza, but I really hate Pizza Hut (bad review)\n",
    "* Preceding Tri-gram (identifying reverse polarity by examining the tri-gram before the lexical feature— Canadian Pizza is not really all that great.\n",
    "\n",
    "###### For that reason I didn't use the tokenized and cleaned dataset for this sentiment analysis\n",
    "\n",
    "https://towardsdatascience.com/https-towardsdatascience-com-algorithmic-trading-using-sentiment-analysis-on-news-articles-83db77966704\n",
    "http://datameetsmedia.com/vader-sentiment-analysis-explained/"
   ]
  },
  {
   "cell_type": "code",
   "execution_count": 32,
   "metadata": {},
   "outputs": [],
   "source": [
    "import nltk\n",
    "from nltk.sentiment.vader import SentimentIntensityAnalyzer\n",
    "sia = SentimentIntensityAnalyzer()\n"
   ]
  },
  {
   "cell_type": "code",
   "execution_count": 33,
   "metadata": {},
   "outputs": [
    {
     "name": "stdout",
     "output_type": "stream",
     "text": [
      "@ #, Bitcoin with unit price of $,., market cap of $, (.%), and hr vol. of $,. (.%)\n"
     ]
    }
   ],
   "source": [
    "print(untoken_tweet_dict[0][1])"
   ]
  },
  {
   "cell_type": "code",
   "execution_count": 34,
   "metadata": {},
   "outputs": [],
   "source": [
    "NLTK_sentiment_list = []\n",
    "neutral = \"neutral\"\n",
    "positive = \"positive\"\n",
    "negative = \"negative\"\n",
    "tweet = untoken_tweet_dict\n",
    "\n",
    "for i in tweet_dict:\n",
    "    #print(\"Sentiment Score:\", sia.polarity_scores(\" \".join(tweets[i][1]))[\"compound\"])\n",
    "    if sia.polarity_scores(tweet[i][1])[\"compound\"] == 0.0:\n",
    "        NLTK_sentiment_list.append(neutral)\n",
    "    elif sia.polarity_scores(tweet[i][1])[\"compound\"] > 0.0:\n",
    "        NLTK_sentiment_list.append(positive)\n",
    "    elif sia.polarity_scores(tweet[i][1])[\"compound\"] < 0.0:\n",
    "        NLTK_sentiment_list.append(negative)\n",
    "\n",
    "            "
   ]
  },
  {
   "cell_type": "code",
   "execution_count": 35,
   "metadata": {},
   "outputs": [],
   "source": [
    "example_tweets[\"NLTK_Sentiment\"] = NLTK_sentiment_list"
   ]
  },
  {
   "cell_type": "code",
   "execution_count": 36,
   "metadata": {},
   "outputs": [
    {
     "data": {
      "text/html": [
       "<div>\n",
       "<style scoped>\n",
       "    .dataframe tbody tr th:only-of-type {\n",
       "        vertical-align: middle;\n",
       "    }\n",
       "\n",
       "    .dataframe tbody tr th {\n",
       "        vertical-align: top;\n",
       "    }\n",
       "\n",
       "    .dataframe thead th {\n",
       "        text-align: right;\n",
       "    }\n",
       "</style>\n",
       "<table border=\"1\" class=\"dataframe\">\n",
       "  <thead>\n",
       "    <tr style=\"text-align: right;\">\n",
       "      <th></th>\n",
       "      <th>datetime</th>\n",
       "      <th>text</th>\n",
       "      <th>Language</th>\n",
       "      <th>TextBlob_Sentiment</th>\n",
       "      <th>NLTK_Sentiment</th>\n",
       "    </tr>\n",
       "  </thead>\n",
       "  <tbody>\n",
       "    <tr>\n",
       "      <th>0</th>\n",
       "      <td>2019-01-01 00:00:00</td>\n",
       "      <td>@ #1,  Bitcoin  with unit price of $3,742.7, m...</td>\n",
       "      <td>en</td>\n",
       "      <td>neutral</td>\n",
       "      <td>neutral</td>\n",
       "    </tr>\n",
       "    <tr>\n",
       "      <th>1</th>\n",
       "      <td>2019-01-01 00:00:00</td>\n",
       "      <td>Learn it. 2018 Sees  Bitcoin ’s Lowest Average...</td>\n",
       "      <td>en</td>\n",
       "      <td>neutral</td>\n",
       "      <td>negative</td>\n",
       "    </tr>\n",
       "    <tr>\n",
       "      <th>2</th>\n",
       "      <td>2019-01-01 00:00:01</td>\n",
       "      <td>仮想通貨の時価総額  $125,622,003,150   BTC  価格:$3734.04...</td>\n",
       "      <td>en</td>\n",
       "      <td>neutral</td>\n",
       "      <td>neutral</td>\n",
       "    </tr>\n",
       "    <tr>\n",
       "      <th>3</th>\n",
       "      <td>2019-01-01 00:00:01</td>\n",
       "      <td>IAM Platform Curated Retweet:  Via:  https:// ...</td>\n",
       "      <td>en</td>\n",
       "      <td>positive</td>\n",
       "      <td>neutral</td>\n",
       "    </tr>\n",
       "    <tr>\n",
       "      <th>4</th>\n",
       "      <td>2019-01-01 00:00:01</td>\n",
       "      <td>Bitcoin  - BTC Price: $3,742.70 Change in 1h: ...</td>\n",
       "      <td>en</td>\n",
       "      <td>negative</td>\n",
       "      <td>neutral</td>\n",
       "    </tr>\n",
       "  </tbody>\n",
       "</table>\n",
       "</div>"
      ],
      "text/plain": [
       "              datetime                                               text  \\\n",
       "0  2019-01-01 00:00:00  @ #1,  Bitcoin  with unit price of $3,742.7, m...   \n",
       "1  2019-01-01 00:00:00  Learn it. 2018 Sees  Bitcoin ’s Lowest Average...   \n",
       "2  2019-01-01 00:00:01  仮想通貨の時価総額  $125,622,003,150   BTC  価格:$3734.04...   \n",
       "3  2019-01-01 00:00:01  IAM Platform Curated Retweet:  Via:  https:// ...   \n",
       "4  2019-01-01 00:00:01  Bitcoin  - BTC Price: $3,742.70 Change in 1h: ...   \n",
       "\n",
       "  Language TextBlob_Sentiment NLTK_Sentiment  \n",
       "0       en            neutral        neutral  \n",
       "1       en            neutral       negative  \n",
       "2       en            neutral        neutral  \n",
       "3       en           positive        neutral  \n",
       "4       en           negative        neutral  "
      ]
     },
     "execution_count": 36,
     "metadata": {},
     "output_type": "execute_result"
    }
   ],
   "source": [
    "example_tweets.head()"
   ]
  },
  {
   "cell_type": "markdown",
   "metadata": {},
   "source": [
    "### Graph sentiment & BTC time series"
   ]
  },
  {
   "cell_type": "code",
   "execution_count": 37,
   "metadata": {},
   "outputs": [],
   "source": [
    "example_tweets_graph = example_tweets"
   ]
  },
  {
   "cell_type": "code",
   "execution_count": 38,
   "metadata": {},
   "outputs": [],
   "source": [
    "import pandas as pd\n",
    "example_tweets_graph[\"datetime\"] = pd.to_datetime(example_tweets_graph[\"datetime\"])\n",
    "example_tweets_graph = example_tweets_graph.set_index(\"datetime\")\n",
    "example_tweets_graph[\"hour\"] = example_tweets_graph.index.hour"
   ]
  },
  {
   "cell_type": "code",
   "execution_count": 40,
   "metadata": {},
   "outputs": [
    {
     "data": {
      "text/html": [
       "<div>\n",
       "<style scoped>\n",
       "    .dataframe tbody tr th:only-of-type {\n",
       "        vertical-align: middle;\n",
       "    }\n",
       "\n",
       "    .dataframe tbody tr th {\n",
       "        vertical-align: top;\n",
       "    }\n",
       "\n",
       "    .dataframe thead th {\n",
       "        text-align: right;\n",
       "    }\n",
       "</style>\n",
       "<table border=\"1\" class=\"dataframe\">\n",
       "  <thead>\n",
       "    <tr style=\"text-align: right;\">\n",
       "      <th></th>\n",
       "      <th>text</th>\n",
       "      <th>Language</th>\n",
       "      <th>TextBlob_Sentiment</th>\n",
       "      <th>NLTK_Sentiment</th>\n",
       "      <th>hour</th>\n",
       "    </tr>\n",
       "    <tr>\n",
       "      <th>datetime</th>\n",
       "      <th></th>\n",
       "      <th></th>\n",
       "      <th></th>\n",
       "      <th></th>\n",
       "      <th></th>\n",
       "    </tr>\n",
       "  </thead>\n",
       "  <tbody>\n",
       "    <tr>\n",
       "      <th>2019-01-01 00:00:00</th>\n",
       "      <td>@ #1,  Bitcoin  with unit price of $3,742.7, m...</td>\n",
       "      <td>en</td>\n",
       "      <td>neutral</td>\n",
       "      <td>neutral</td>\n",
       "      <td>0</td>\n",
       "    </tr>\n",
       "    <tr>\n",
       "      <th>2019-01-01 00:00:00</th>\n",
       "      <td>Learn it. 2018 Sees  Bitcoin ’s Lowest Average...</td>\n",
       "      <td>en</td>\n",
       "      <td>neutral</td>\n",
       "      <td>negative</td>\n",
       "      <td>0</td>\n",
       "    </tr>\n",
       "    <tr>\n",
       "      <th>2019-01-01 00:00:01</th>\n",
       "      <td>仮想通貨の時価総額  $125,622,003,150   BTC  価格:$3734.04...</td>\n",
       "      <td>en</td>\n",
       "      <td>neutral</td>\n",
       "      <td>neutral</td>\n",
       "      <td>0</td>\n",
       "    </tr>\n",
       "    <tr>\n",
       "      <th>2019-01-01 00:00:01</th>\n",
       "      <td>IAM Platform Curated Retweet:  Via:  https:// ...</td>\n",
       "      <td>en</td>\n",
       "      <td>positive</td>\n",
       "      <td>neutral</td>\n",
       "      <td>0</td>\n",
       "    </tr>\n",
       "    <tr>\n",
       "      <th>2019-01-01 00:00:01</th>\n",
       "      <td>Bitcoin  - BTC Price: $3,742.70 Change in 1h: ...</td>\n",
       "      <td>en</td>\n",
       "      <td>negative</td>\n",
       "      <td>neutral</td>\n",
       "      <td>0</td>\n",
       "    </tr>\n",
       "  </tbody>\n",
       "</table>\n",
       "</div>"
      ],
      "text/plain": [
       "                                                                  text  \\\n",
       "datetime                                                                 \n",
       "2019-01-01 00:00:00  @ #1,  Bitcoin  with unit price of $3,742.7, m...   \n",
       "2019-01-01 00:00:00  Learn it. 2018 Sees  Bitcoin ’s Lowest Average...   \n",
       "2019-01-01 00:00:01  仮想通貨の時価総額  $125,622,003,150   BTC  価格:$3734.04...   \n",
       "2019-01-01 00:00:01  IAM Platform Curated Retweet:  Via:  https:// ...   \n",
       "2019-01-01 00:00:01  Bitcoin  - BTC Price: $3,742.70 Change in 1h: ...   \n",
       "\n",
       "                    Language TextBlob_Sentiment NLTK_Sentiment  hour  \n",
       "datetime                                                              \n",
       "2019-01-01 00:00:00       en            neutral        neutral     0  \n",
       "2019-01-01 00:00:00       en            neutral       negative     0  \n",
       "2019-01-01 00:00:01       en            neutral        neutral     0  \n",
       "2019-01-01 00:00:01       en           positive        neutral     0  \n",
       "2019-01-01 00:00:01       en           negative        neutral     0  "
      ]
     },
     "execution_count": 40,
     "metadata": {},
     "output_type": "execute_result"
    }
   ],
   "source": [
    "example_tweets_graph.head()"
   ]
  },
  {
   "cell_type": "code",
   "execution_count": 41,
   "metadata": {},
   "outputs": [],
   "source": [
    "pnn_counts_textblob = example_tweets_graph.groupby([\"hour\", \"TextBlob_Sentiment\"])[\"text\"].count()\n",
    "pnn_counts_textblob = pnn_counts_textblob.to_frame()\n",
    "pnn_counts_textblob = pnn_counts_textblob.reset_index()\n",
    "pnn_counts_textblob = pnn_counts_textblob.rename(columns= {\"text\":\"textblob_count\"})\n",
    "\n",
    "pnn_counts_nltk = example_tweets_graph.groupby([\"hour\", \"NLTK_Sentiment\"])[\"text\"].count()\n",
    "pnn_counts_nltk = pnn_counts_nltk.to_frame()\n",
    "pnn_counts_nltk = pnn_counts_nltk.reset_index()\n",
    "pnn_counts_nltk = pnn_counts_nltk.rename(columns= {\"text\":\"nltk_count\"})\n"
   ]
  },
  {
   "cell_type": "code",
   "execution_count": 42,
   "metadata": {},
   "outputs": [
    {
     "data": {
      "text/html": [
       "<div>\n",
       "<style scoped>\n",
       "    .dataframe tbody tr th:only-of-type {\n",
       "        vertical-align: middle;\n",
       "    }\n",
       "\n",
       "    .dataframe tbody tr th {\n",
       "        vertical-align: top;\n",
       "    }\n",
       "\n",
       "    .dataframe thead th {\n",
       "        text-align: right;\n",
       "    }\n",
       "</style>\n",
       "<table border=\"1\" class=\"dataframe\">\n",
       "  <thead>\n",
       "    <tr style=\"text-align: right;\">\n",
       "      <th></th>\n",
       "      <th>hour</th>\n",
       "      <th>sentiment</th>\n",
       "      <th>nltk_count</th>\n",
       "      <th>textblob_count</th>\n",
       "    </tr>\n",
       "  </thead>\n",
       "  <tbody>\n",
       "    <tr>\n",
       "      <th>0</th>\n",
       "      <td>0</td>\n",
       "      <td>negative</td>\n",
       "      <td>123</td>\n",
       "      <td>63</td>\n",
       "    </tr>\n",
       "    <tr>\n",
       "      <th>1</th>\n",
       "      <td>0</td>\n",
       "      <td>neutral</td>\n",
       "      <td>439</td>\n",
       "      <td>498</td>\n",
       "    </tr>\n",
       "    <tr>\n",
       "      <th>2</th>\n",
       "      <td>0</td>\n",
       "      <td>positive</td>\n",
       "      <td>253</td>\n",
       "      <td>254</td>\n",
       "    </tr>\n",
       "    <tr>\n",
       "      <th>3</th>\n",
       "      <td>1</td>\n",
       "      <td>negative</td>\n",
       "      <td>98</td>\n",
       "      <td>72</td>\n",
       "    </tr>\n",
       "    <tr>\n",
       "      <th>4</th>\n",
       "      <td>1</td>\n",
       "      <td>neutral</td>\n",
       "      <td>358</td>\n",
       "      <td>425</td>\n",
       "    </tr>\n",
       "    <tr>\n",
       "      <th>5</th>\n",
       "      <td>1</td>\n",
       "      <td>positive</td>\n",
       "      <td>231</td>\n",
       "      <td>190</td>\n",
       "    </tr>\n",
       "    <tr>\n",
       "      <th>6</th>\n",
       "      <td>2</td>\n",
       "      <td>negative</td>\n",
       "      <td>90</td>\n",
       "      <td>82</td>\n",
       "    </tr>\n",
       "    <tr>\n",
       "      <th>7</th>\n",
       "      <td>2</td>\n",
       "      <td>neutral</td>\n",
       "      <td>393</td>\n",
       "      <td>420</td>\n",
       "    </tr>\n",
       "    <tr>\n",
       "      <th>8</th>\n",
       "      <td>2</td>\n",
       "      <td>positive</td>\n",
       "      <td>210</td>\n",
       "      <td>191</td>\n",
       "    </tr>\n",
       "  </tbody>\n",
       "</table>\n",
       "</div>"
      ],
      "text/plain": [
       "   hour sentiment  nltk_count  textblob_count\n",
       "0     0  negative         123              63\n",
       "1     0   neutral         439             498\n",
       "2     0  positive         253             254\n",
       "3     1  negative          98              72\n",
       "4     1   neutral         358             425\n",
       "5     1  positive         231             190\n",
       "6     2  negative          90              82\n",
       "7     2   neutral         393             420\n",
       "8     2  positive         210             191"
      ]
     },
     "execution_count": 42,
     "metadata": {},
     "output_type": "execute_result"
    }
   ],
   "source": [
    "textblob_count = pnn_counts_textblob[\"textblob_count\"].tolist()\n",
    "pnn_counts_nltk[\"textblob_count\"] = textblob_count\n",
    "\n",
    "pnn_counts = pnn_counts_nltk\n",
    "pnn_counts = pnn_counts.rename(columns= {\"NLTK_Sentiment\":\"sentiment\"})\n",
    "pnn_counts.head(9)"
   ]
  },
  {
   "cell_type": "code",
   "execution_count": 44,
   "metadata": {
    "scrolled": false
   },
   "outputs": [
    {
     "data": {
      "text/plain": [
       "<matplotlib.axes._subplots.AxesSubplot at 0x7f803bf36400>"
      ]
     },
     "execution_count": 44,
     "metadata": {},
     "output_type": "execute_result"
    },
    {
     "data": {
      "image/png": "[encoded data removed]",
      "text/plain": [
       "<Figure size 3240x1080 with 2 Axes>"
      ]
     },
     "metadata": {
      "needs_background": "light"
     },
     "output_type": "display_data"
    }
   ],
   "source": [
    "import seaborn as sns\n",
    "import matplotlib.pyplot as plt\n",
    "fig, ax = plt.subplots(1,2, figsize=(45,15))\n",
    "sns.lineplot(x=\"hour\", y=\"textblob_count\", hue=\"sentiment\", data=pnn_counts, ax=ax[0])\n",
    "sns.lineplot(x=\"hour\", y=\"nltk_count\", hue=\"sentiment\", data=pnn_counts, ax=ax[1])\n",
    "#plt.legend(loc=\"upper left\")"
   ]
  },
  {
   "cell_type": "code",
   "execution_count": null,
   "metadata": {},
   "outputs": [],
   "source": []
  }
 ],
 "metadata": {
  "kernelspec": {
   "display_name": "Python 3",
   "language": "python",
   "name": "python3"
  },
  "language_info": {
   "codemirror_mode": {
    "name": "ipython",
    "version": 3
   },
   "file_extension": ".py",
   "mimetype": "text/x-python",
   "name": "python",
   "nbconvert_exporter": "python",
   "pygments_lexer": "ipython3",
   "version": "3.7.1"
  }
 },
 "nbformat": 4,
 "nbformat_minor": 2
}
