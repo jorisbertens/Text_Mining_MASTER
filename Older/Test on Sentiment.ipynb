{
 "cells": [
  {
   "cell_type": "code",
   "execution_count": 1,
   "metadata": {},
   "outputs": [],
   "source": [
    "import sentiment_mod as s"
   ]
  },
  {
   "cell_type": "code",
   "execution_count": null,
   "metadata": {},
   "outputs": [],
   "source": [
    "print(s.sentiment(\"the film provides some great insight into the neurotic mindset of all comics -- even those who have reached the absolute top of the game .\"))"
   ]
  },
  {
   "cell_type": "code",
   "execution_count": null,
   "metadata": {},
   "outputs": [],
   "source": [
    "print(s.sentiment(\"This movie was awesome! The acting was great, plot was wonderful, and there were pythons!\"))"
   ]
  },
  {
   "cell_type": "code",
   "execution_count": null,
   "metadata": {},
   "outputs": [],
   "source": [
    "print(s.sentiment(\"A price increase today of 15% percent. Very good results. In the end it was a wonderful day\"))"
   ]
  },
  {
   "cell_type": "code",
   "execution_count": 2,
   "metadata": {},
   "outputs": [
    {
     "data": {
      "text/plain": [
       "('positive', 0.4404)"
      ]
     },
     "execution_count": 2,
     "metadata": {},
     "output_type": "execute_result"
    }
   ],
   "source": [
    "s.sentiment_nltk(\"Today was a good day for bitcoin\")"
   ]
  },
  {
   "cell_type": "code",
   "execution_count": null,
   "metadata": {},
   "outputs": [],
   "source": [
    "def sentiment_nltk(text):\n",
    "    sia = SentimentIntensityAnalyzer()\n",
    "\n",
    "    if sia.polarity_scores(text)[\"compound\"] == 0.0:\n",
    "        sentiment_value = \"neutral\"\n",
    "        return sentiment_value, sia.polarity_scores(text)[\"compound\"]\n",
    "    elif sia.polarity_scores(text)[\"compound\"] < 0.0:\n",
    "        sentiment_value = \"negative\"\n",
    "        return sentiment_value, sia.polarity_scores(text)[\"compound\"]\n",
    "    elif sia.polarity_scores(text)[\"compound\"] > 0.0:\n",
    "        sentiment_value = \"positive\"\n",
    "        return sentiment_value, sia.polarity_scores(text)[\"compound\"]"
   ]
  },
  {
   "cell_type": "code",
   "execution_count": 2,
   "metadata": {},
   "outputs": [],
   "source": [
    "import pickle \n",
    "pickle_tweets = open(\"df_tweets/df_nltk.pickle\", \"rb\")\n",
    "example_tweets = pickle.load(pickle_tweets)"
   ]
  },
  {
   "cell_type": "code",
   "execution_count": 4,
   "metadata": {},
   "outputs": [
    {
     "data": {
      "text/plain": [
       "(664970, 5)"
      ]
     },
     "execution_count": 4,
     "metadata": {},
     "output_type": "execute_result"
    }
   ],
   "source": [
    "example_tweets.shape"
   ]
  },
  {
   "cell_type": "code",
   "execution_count": null,
   "metadata": {},
   "outputs": [],
   "source": []
  }
 ],
 "metadata": {
  "kernelspec": {
   "display_name": "Python 3",
   "language": "python",
   "name": "python3"
  },
  "language_info": {
   "codemirror_mode": {
    "name": "ipython",
    "version": 3
   },
   "file_extension": ".py",
   "mimetype": "text/x-python",
   "name": "python",
   "nbconvert_exporter": "python",
   "pygments_lexer": "ipython3",
   "version": "3.7.1"
  }
 },
 "nbformat": 4,
 "nbformat_minor": 2
}
