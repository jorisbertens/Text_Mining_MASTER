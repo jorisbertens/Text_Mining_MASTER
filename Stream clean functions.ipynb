{
 "cells": [
  {
   "cell_type": "code",
   "execution_count": 124,
   "metadata": {},
   "outputs": [],
   "source": [
    "import pickle\n",
    "from langdetect import detect\n",
    "import re\n",
    "import string\n",
    "from project_functions import *\n",
    "import pandas as pd"
   ]
  },
  {
   "cell_type": "code",
   "execution_count": 101,
   "metadata": {},
   "outputs": [],
   "source": [
    "all_data = {'created_at': 'Tue Apr 09 14:59:27 +0000 2019', 'id': 1115630307774849026, 'id_str': '1115630307774849026', 'text': 'Hallo, hoe gaat het met jouw?', 'display_text_range': [9, 100], 'source': '<a href=\"http://twitter.com/download/iphone\" rel=\"nofollow\">Twitter for iPhone</a>', 'truncated': False, 'in_reply_to_status_id': 1115449971497562113, 'in_reply_to_status_id_str': '1115449971497562113', 'in_reply_to_user_id': 229213536, 'in_reply_to_user_id_str': '229213536', 'in_reply_to_screen_name': 'suprraz', 'user': {'id': 254820047, 'id_str': '254820047', 'name': 'T. Alan Horne', 'screen_name': 'TAlanHorne', 'location': 'Utah', 'url': 'http://talanhorne.com', 'description': 'Author. Keeper of secrets.', 'translator_type': 'none', 'protected': False, 'verified': False, 'followers_count': 10763, 'friends_count': 11622, 'listed_count': 142, 'favourites_count': 36677, 'statuses_count': 5371, 'created_at': 'Sun Feb 20 02:34:49 +0000 2011', 'utc_offset': None, 'time_zone': None, 'geo_enabled': False, 'lang': 'en', 'contributors_enabled': False, 'is_translator': False, 'profile_background_color': '000000', 'profile_background_image_url': 'http://abs.twimg.com/images/themes/theme19/bg.gif', 'profile_background_image_url_https': 'https://abs.twimg.com/images/themes/theme19/bg.gif', 'profile_background_tile': False, 'profile_link_color': '191970', 'profile_sidebar_border_color': '000000', 'profile_sidebar_fill_color': '000000', 'profile_text_color': '000000', 'profile_use_background_image': False, 'profile_image_url': 'http://pbs.twimg.com/profile_images/579401825863876608/OLPJxiHQ_normal.jpg', 'profile_image_url_https': 'https://pbs.twimg.com/profile_images/579401825863876608/OLPJxiHQ_normal.jpg', 'profile_banner_url': 'https://pbs.twimg.com/profile_banners/254820047/1522038104', 'default_profile': False, 'default_profile_image': False, 'following': None, 'follow_request_sent': None, 'notifications': None}, 'geo': None, 'coordinates': None, 'place': None, 'contributors': None, 'is_quote_status': False, 'quote_count': 0, 'reply_count': 0, 'retweet_count': 0, 'favorite_count': 0, 'entities': {'hashtags': [], 'urls': [], 'user_mentions': [{'screen_name': 'suprraz', 'name': 'Raz', 'id': 229213536, 'id_str': '229213536', 'indices': [0, 8]}], 'symbols': []}, 'favorited': False, 'retweeted': False, 'filter_level': 'low', 'lang': 'en', 'timestamp_ms': '1554821967439'}"
   ]
  },
  {
   "cell_type": "code",
   "execution_count": 134,
   "metadata": {},
   "outputs": [],
   "source": [
    "keys = [\"created_at\", \"text\"]\n",
    "tweet = {key:value for (key,value) in all_data.items() if key in keys}"
   ]
  },
  {
   "cell_type": "code",
   "execution_count": 130,
   "metadata": {},
   "outputs": [],
   "source": [
    "def filter_english(dictionary):\n",
    "    blanco = \"blanco\"\n",
    "    try:\n",
    "        language = detect(dictionary[\"text\"])\n",
    "        if language == \"en\":\n",
    "            dictionary[\"language\"] = language\n",
    "        else: \n",
    "            dictionary = {\"text\": \"Not English\"}\n",
    "    except:\n",
    "        dictionary = {\"text\": \"Not English\"}\n",
    "    return dictionary"
   ]
  },
  {
   "cell_type": "code",
   "execution_count": 135,
   "metadata": {},
   "outputs": [],
   "source": [
    "new_dict = filter_english(tweet)"
   ]
  },
  {
   "cell_type": "code",
   "execution_count": 93,
   "metadata": {},
   "outputs": [],
   "source": [
    "def removal_function(dictionary):\n",
    "    \n",
    "    y = dictionary[\"text\"]\n",
    "\n",
    "    y = re.sub(r\"@[A-Z-a-z-0-9_.]+\",\"\", y) #remove users with@\n",
    "    y = y.replace(\"\\n\",\" \") # remove enters\n",
    "    y = re.sub(r\"http\\S+\",\"\",y) # removes links\n",
    "    y = re.sub(\"\\s+\",\" \",y)  #removes more one spaces\n",
    "    y = re.sub(r\"&(amp;)\", \"&\", y) # removes and in html format\n",
    "    y = re.sub(r\"[0-9]\",\"\",y) #remove numbers\n",
    "    y = re.sub(r\"(.+?)\\1+\",r\"\\1\",y) #remove repeted letters\n",
    "    y = re.sub(\"\\s+\",\" \",y) #remove more one space\n",
    "\n",
    "    dictionary[\"text\"] = y\n",
    "            \n",
    "    return dictionary"
   ]
  },
  {
   "cell_type": "code",
   "execution_count": 94,
   "metadata": {},
   "outputs": [],
   "source": [
    "new_dict = removal_function(new_dict)"
   ]
  }
 ],
 "metadata": {
  "kernelspec": {
   "display_name": "Python 3",
   "language": "python",
   "name": "python3"
  },
  "language_info": {
   "codemirror_mode": {
    "name": "ipython",
    "version": 3
   },
   "file_extension": ".py",
   "mimetype": "text/x-python",
   "name": "python",
   "nbconvert_exporter": "python",
   "pygments_lexer": "ipython3",
   "version": "3.7.1"
  }
 },
 "nbformat": 4,
 "nbformat_minor": 2
}
