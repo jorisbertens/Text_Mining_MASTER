{
  "nbformat": 4,
  "nbformat_minor": 0,
  "metadata": {
    "colab": {
      "name": "Untitled0.ipynb",
      "version": "0.3.2",
      "provenance": []
    },
    "kernelspec": {
      "name": "python3",
      "display_name": "Python 3"
    }
  },
  "cells": [
    {
      "metadata": {
        "id": "rUb1CLmp22KU",
        "colab_type": "code",
        "colab": {
          "resources": {
            "http://localhost:8080/nbextensions/google.colab/files.js": {
              "data": "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",
              "ok": true,
              "headers": [
                [
                  "content-type",
                  "application/javascript"
                ]
              ],
              "status": 200,
              "status_text": ""
            }
          },
          "base_uri": "https://localhost:8080/",
          "height": 91
        },
        "outputId": "a4a4b9fc-bef5-481d-8e2c-d0a94cf26dc2"
      },
      "cell_type": "code",
      "source": [
        "from google.colab import files\n",
        "files.upload()\n",
        "# choose the file on your computer to upload it then import data"
      ],
      "execution_count": 1,
      "outputs": [
        {
          "output_type": "display_data",
          "data": {
            "text/html": [
              "\n",
              "     <input type=\"file\" id=\"files-8f243927-be77-4d21-aeff-684241347850\" name=\"files[]\" multiple disabled />\n",
              "     <output id=\"result-8f243927-be77-4d21-aeff-684241347850\">\n",
              "      Upload widget is only available when the cell has been executed in the\n",
              "      current browser session. Please rerun this cell to enable.\n",
              "      </output>\n",
              "      <script src=\"/nbextensions/google.colab/files.js\"></script> "
            ],
            "text/plain": [
              "<IPython.core.display.HTML object>"
            ]
          },
          "metadata": {
            "tags": []
          }
        },
        {
          "output_type": "stream",
          "text": [
            "Saving tweets_df.csv to tweets_df.csv\n"
          ],
          "name": "stdout"
        }
      ]
    },
    {
      "metadata": {
        "id": "hO_-SeWh5Vyt",
        "colab_type": "code",
        "colab": {}
      },
      "cell_type": "code",
      "source": [
        "import pandas as pd\n",
        "import numpy as np"
      ],
      "execution_count": 0,
      "outputs": []
    },
    {
      "metadata": {
        "id": "aNvc2Mz55aSK",
        "colab_type": "code",
        "colab": {}
      },
      "cell_type": "code",
      "source": [
        "df = pd.read_csv('tweets_df.csv', sep='\\t')"
      ],
      "execution_count": 0,
      "outputs": []
    },
    {
      "metadata": {
        "id": "-SNHSRpe5xWF",
        "colab_type": "code",
        "colab": {
          "base_uri": "https://localhost:8080/",
          "height": 296
        },
        "outputId": "610faf3f-9cdd-4348-9842-edd37e0292d5"
      },
      "cell_type": "code",
      "source": [
        "df.head()"
      ],
      "execution_count": 14,
      "outputs": [
        {
          "output_type": "execute_result",
          "data": {
            "text/html": [
              "<div>\n",
              "<style scoped>\n",
              "    .dataframe tbody tr th:only-of-type {\n",
              "        vertical-align: middle;\n",
              "    }\n",
              "\n",
              "    .dataframe tbody tr th {\n",
              "        vertical-align: top;\n",
              "    }\n",
              "\n",
              "    .dataframe thead th {\n",
              "        text-align: right;\n",
              "    }\n",
              "</style>\n",
              "<table border=\"1\" class=\"dataframe\">\n",
              "  <thead>\n",
              "    <tr style=\"text-align: right;\">\n",
              "      <th></th>\n",
              "      <th>Unnamed: 0</th>\n",
              "      <th>Date</th>\n",
              "      <th>Tweet</th>\n",
              "      <th>Language</th>\n",
              "    </tr>\n",
              "  </thead>\n",
              "  <tbody>\n",
              "    <tr>\n",
              "      <th>0</th>\n",
              "      <td>0</td>\n",
              "      <td>2019-01-01 00:00:00</td>\n",
              "      <td>Bitcoin with unit price of  market cap of   ...</td>\n",
              "      <td>en</td>\n",
              "    </tr>\n",
              "    <tr>\n",
              "      <th>1</th>\n",
              "      <td>1</td>\n",
              "      <td>2019-01-01 00:00:00</td>\n",
              "      <td>Learn it  Ses Bitcoin s Lowest Average Daily P...</td>\n",
              "      <td>en</td>\n",
              "    </tr>\n",
              "    <tr>\n",
              "      <th>2</th>\n",
              "      <td>2</td>\n",
              "      <td>2019-01-01 00:00:01</td>\n",
              "      <td>BTC : : ETH : : IXT : : bitcoin ethereum ixt...</td>\n",
              "      <td>en</td>\n",
              "    </tr>\n",
              "    <tr>\n",
              "      <th>3</th>\n",
              "      <td>3</td>\n",
              "      <td>2019-01-01 00:00:01</td>\n",
              "      <td>IAM Platform Curated Retwet: Via: twitercomalt...</td>\n",
              "      <td>en</td>\n",
              "    </tr>\n",
              "    <tr>\n",
              "      <th>4</th>\n",
              "      <td>4</td>\n",
              "      <td>2019-01-01 00:00:01</td>\n",
              "      <td>Bitcoin BTC Price:  Change in h:  Market cap: ...</td>\n",
              "      <td>en</td>\n",
              "    </tr>\n",
              "  </tbody>\n",
              "</table>\n",
              "</div>"
            ],
            "text/plain": [
              "   Unnamed: 0                 Date  \\\n",
              "0           0  2019-01-01 00:00:00   \n",
              "1           1  2019-01-01 00:00:00   \n",
              "2           2  2019-01-01 00:00:01   \n",
              "3           3  2019-01-01 00:00:01   \n",
              "4           4  2019-01-01 00:00:01   \n",
              "\n",
              "                                               Tweet Language  \n",
              "0    Bitcoin with unit price of  market cap of   ...       en  \n",
              "1  Learn it  Ses Bitcoin s Lowest Average Daily P...       en  \n",
              "2    BTC : : ETH : : IXT : : bitcoin ethereum ixt...       en  \n",
              "3  IAM Platform Curated Retwet: Via: twitercomalt...       en  \n",
              "4  Bitcoin BTC Price:  Change in h:  Market cap: ...       en  "
            ]
          },
          "metadata": {
            "tags": []
          },
          "execution_count": 14
        }
      ]
    },
    {
      "metadata": {
        "id": "tqfCTcY352aI",
        "colab_type": "code",
        "colab": {
          "base_uri": "https://localhost:8080/",
          "height": 101
        },
        "outputId": "4f824e13-31f0-4dc7-df8f-cc416edec0e2"
      },
      "cell_type": "code",
      "source": [
        "df.dtypes"
      ],
      "execution_count": 18,
      "outputs": [
        {
          "output_type": "execute_result",
          "data": {
            "text/plain": [
              "Unnamed: 0     int64\n",
              "Date          object\n",
              "Tweet         object\n",
              "Language      object\n",
              "dtype: object"
            ]
          },
          "metadata": {
            "tags": []
          },
          "execution_count": 18
        }
      ]
    },
    {
      "metadata": {
        "id": "SHueulKNUaEn",
        "colab_type": "code",
        "colab": {}
      },
      "cell_type": "code",
      "source": [
        "df['Date'] = pd.to_datetime(df['Date'])"
      ],
      "execution_count": 0,
      "outputs": []
    },
    {
      "metadata": {
        "id": "-kG1Y9s06O5r",
        "colab_type": "code",
        "colab": {}
      },
      "cell_type": "code",
      "source": [
        "df = df.groupby([pd.Grouper(key='Date',freq='d')]).size().reset_index(name='count')"
      ],
      "execution_count": 0,
      "outputs": []
    },
    {
      "metadata": {
        "id": "CwX3E-wO6zNa",
        "colab_type": "code",
        "colab": {
          "base_uri": "https://localhost:8080/",
          "height": 965
        },
        "outputId": "1eb41669-81a3-42c3-ab72-58c7539275d6"
      },
      "cell_type": "code",
      "source": [
        "df"
      ],
      "execution_count": 22,
      "outputs": [
        {
          "output_type": "execute_result",
          "data": {
            "text/html": [
              "<div>\n",
              "<style scoped>\n",
              "    .dataframe tbody tr th:only-of-type {\n",
              "        vertical-align: middle;\n",
              "    }\n",
              "\n",
              "    .dataframe tbody tr th {\n",
              "        vertical-align: top;\n",
              "    }\n",
              "\n",
              "    .dataframe thead th {\n",
              "        text-align: right;\n",
              "    }\n",
              "</style>\n",
              "<table border=\"1\" class=\"dataframe\">\n",
              "  <thead>\n",
              "    <tr style=\"text-align: right;\">\n",
              "      <th></th>\n",
              "      <th>Date</th>\n",
              "      <th>count</th>\n",
              "    </tr>\n",
              "  </thead>\n",
              "  <tbody>\n",
              "    <tr>\n",
              "      <th>0</th>\n",
              "      <td>2019-01-01</td>\n",
              "      <td>20599</td>\n",
              "    </tr>\n",
              "    <tr>\n",
              "      <th>1</th>\n",
              "      <td>2019-01-02</td>\n",
              "      <td>25312</td>\n",
              "    </tr>\n",
              "    <tr>\n",
              "      <th>2</th>\n",
              "      <td>2019-01-03</td>\n",
              "      <td>31697</td>\n",
              "    </tr>\n",
              "    <tr>\n",
              "      <th>3</th>\n",
              "      <td>2019-01-04</td>\n",
              "      <td>26647</td>\n",
              "    </tr>\n",
              "    <tr>\n",
              "      <th>4</th>\n",
              "      <td>2019-01-05</td>\n",
              "      <td>21415</td>\n",
              "    </tr>\n",
              "    <tr>\n",
              "      <th>5</th>\n",
              "      <td>2019-01-06</td>\n",
              "      <td>22178</td>\n",
              "    </tr>\n",
              "    <tr>\n",
              "      <th>6</th>\n",
              "      <td>2019-01-07</td>\n",
              "      <td>27625</td>\n",
              "    </tr>\n",
              "    <tr>\n",
              "      <th>7</th>\n",
              "      <td>2019-01-08</td>\n",
              "      <td>26109</td>\n",
              "    </tr>\n",
              "    <tr>\n",
              "      <th>8</th>\n",
              "      <td>2019-01-09</td>\n",
              "      <td>27229</td>\n",
              "    </tr>\n",
              "    <tr>\n",
              "      <th>9</th>\n",
              "      <td>2019-01-10</td>\n",
              "      <td>27908</td>\n",
              "    </tr>\n",
              "    <tr>\n",
              "      <th>10</th>\n",
              "      <td>2019-01-11</td>\n",
              "      <td>26273</td>\n",
              "    </tr>\n",
              "    <tr>\n",
              "      <th>11</th>\n",
              "      <td>2019-01-12</td>\n",
              "      <td>21715</td>\n",
              "    </tr>\n",
              "    <tr>\n",
              "      <th>12</th>\n",
              "      <td>2019-01-13</td>\n",
              "      <td>20908</td>\n",
              "    </tr>\n",
              "    <tr>\n",
              "      <th>13</th>\n",
              "      <td>2019-01-14</td>\n",
              "      <td>25879</td>\n",
              "    </tr>\n",
              "    <tr>\n",
              "      <th>14</th>\n",
              "      <td>2019-01-15</td>\n",
              "      <td>25376</td>\n",
              "    </tr>\n",
              "    <tr>\n",
              "      <th>15</th>\n",
              "      <td>2019-01-16</td>\n",
              "      <td>24315</td>\n",
              "    </tr>\n",
              "    <tr>\n",
              "      <th>16</th>\n",
              "      <td>2019-01-17</td>\n",
              "      <td>25503</td>\n",
              "    </tr>\n",
              "    <tr>\n",
              "      <th>17</th>\n",
              "      <td>2019-01-18</td>\n",
              "      <td>25664</td>\n",
              "    </tr>\n",
              "    <tr>\n",
              "      <th>18</th>\n",
              "      <td>2019-01-19</td>\n",
              "      <td>21896</td>\n",
              "    </tr>\n",
              "    <tr>\n",
              "      <th>19</th>\n",
              "      <td>2019-01-20</td>\n",
              "      <td>20858</td>\n",
              "    </tr>\n",
              "    <tr>\n",
              "      <th>20</th>\n",
              "      <td>2019-01-21</td>\n",
              "      <td>25596</td>\n",
              "    </tr>\n",
              "    <tr>\n",
              "      <th>21</th>\n",
              "      <td>2019-01-22</td>\n",
              "      <td>25898</td>\n",
              "    </tr>\n",
              "    <tr>\n",
              "      <th>22</th>\n",
              "      <td>2019-01-23</td>\n",
              "      <td>28000</td>\n",
              "    </tr>\n",
              "    <tr>\n",
              "      <th>23</th>\n",
              "      <td>2019-01-24</td>\n",
              "      <td>26818</td>\n",
              "    </tr>\n",
              "    <tr>\n",
              "      <th>24</th>\n",
              "      <td>2019-01-25</td>\n",
              "      <td>24454</td>\n",
              "    </tr>\n",
              "    <tr>\n",
              "      <th>25</th>\n",
              "      <td>2019-01-26</td>\n",
              "      <td>21836</td>\n",
              "    </tr>\n",
              "    <tr>\n",
              "      <th>26</th>\n",
              "      <td>2019-01-27</td>\n",
              "      <td>19362</td>\n",
              "    </tr>\n",
              "    <tr>\n",
              "      <th>27</th>\n",
              "      <td>2019-01-28</td>\n",
              "      <td>25810</td>\n",
              "    </tr>\n",
              "    <tr>\n",
              "      <th>28</th>\n",
              "      <td>2019-01-29</td>\n",
              "      <td>25500</td>\n",
              "    </tr>\n",
              "    <tr>\n",
              "      <th>29</th>\n",
              "      <td>2019-01-30</td>\n",
              "      <td>25863</td>\n",
              "    </tr>\n",
              "    <tr>\n",
              "      <th>30</th>\n",
              "      <td>2019-01-31</td>\n",
              "      <td>25790</td>\n",
              "    </tr>\n",
              "  </tbody>\n",
              "</table>\n",
              "</div>"
            ],
            "text/plain": [
              "         Date  count\n",
              "0  2019-01-01  20599\n",
              "1  2019-01-02  25312\n",
              "2  2019-01-03  31697\n",
              "3  2019-01-04  26647\n",
              "4  2019-01-05  21415\n",
              "5  2019-01-06  22178\n",
              "6  2019-01-07  27625\n",
              "7  2019-01-08  26109\n",
              "8  2019-01-09  27229\n",
              "9  2019-01-10  27908\n",
              "10 2019-01-11  26273\n",
              "11 2019-01-12  21715\n",
              "12 2019-01-13  20908\n",
              "13 2019-01-14  25879\n",
              "14 2019-01-15  25376\n",
              "15 2019-01-16  24315\n",
              "16 2019-01-17  25503\n",
              "17 2019-01-18  25664\n",
              "18 2019-01-19  21896\n",
              "19 2019-01-20  20858\n",
              "20 2019-01-21  25596\n",
              "21 2019-01-22  25898\n",
              "22 2019-01-23  28000\n",
              "23 2019-01-24  26818\n",
              "24 2019-01-25  24454\n",
              "25 2019-01-26  21836\n",
              "26 2019-01-27  19362\n",
              "27 2019-01-28  25810\n",
              "28 2019-01-29  25500\n",
              "29 2019-01-30  25863\n",
              "30 2019-01-31  25790"
            ]
          },
          "metadata": {
            "tags": []
          },
          "execution_count": 22
        }
      ]
    },
    {
      "metadata": {
        "id": "dyM_R4GI7ymC",
        "colab_type": "code",
        "colab": {}
      },
      "cell_type": "code",
      "source": [
        "df['count'] = df['count'].pct_change()"
      ],
      "execution_count": 0,
      "outputs": []
    },
    {
      "metadata": {
        "id": "G5ulgM278HGX",
        "colab_type": "code",
        "colab": {}
      },
      "cell_type": "code",
      "source": [
        "df['count'] = df['count'].fillna(0)"
      ],
      "execution_count": 0,
      "outputs": []
    },
    {
      "metadata": {
        "id": "vhzkM2N98a3x",
        "colab_type": "code",
        "colab": {
          "base_uri": "https://localhost:8080/",
          "height": 965
        },
        "outputId": "3dbd2079-b739-4cec-fb7a-97971ebaaa1b"
      },
      "cell_type": "code",
      "source": [
        "df"
      ],
      "execution_count": 25,
      "outputs": [
        {
          "output_type": "execute_result",
          "data": {
            "text/html": [
              "<div>\n",
              "<style scoped>\n",
              "    .dataframe tbody tr th:only-of-type {\n",
              "        vertical-align: middle;\n",
              "    }\n",
              "\n",
              "    .dataframe tbody tr th {\n",
              "        vertical-align: top;\n",
              "    }\n",
              "\n",
              "    .dataframe thead th {\n",
              "        text-align: right;\n",
              "    }\n",
              "</style>\n",
              "<table border=\"1\" class=\"dataframe\">\n",
              "  <thead>\n",
              "    <tr style=\"text-align: right;\">\n",
              "      <th></th>\n",
              "      <th>Date</th>\n",
              "      <th>count</th>\n",
              "    </tr>\n",
              "  </thead>\n",
              "  <tbody>\n",
              "    <tr>\n",
              "      <th>0</th>\n",
              "      <td>2019-01-01</td>\n",
              "      <td>0.000000</td>\n",
              "    </tr>\n",
              "    <tr>\n",
              "      <th>1</th>\n",
              "      <td>2019-01-02</td>\n",
              "      <td>0.228798</td>\n",
              "    </tr>\n",
              "    <tr>\n",
              "      <th>2</th>\n",
              "      <td>2019-01-03</td>\n",
              "      <td>0.252252</td>\n",
              "    </tr>\n",
              "    <tr>\n",
              "      <th>3</th>\n",
              "      <td>2019-01-04</td>\n",
              "      <td>-0.159321</td>\n",
              "    </tr>\n",
              "    <tr>\n",
              "      <th>4</th>\n",
              "      <td>2019-01-05</td>\n",
              "      <td>-0.196345</td>\n",
              "    </tr>\n",
              "    <tr>\n",
              "      <th>5</th>\n",
              "      <td>2019-01-06</td>\n",
              "      <td>0.035629</td>\n",
              "    </tr>\n",
              "    <tr>\n",
              "      <th>6</th>\n",
              "      <td>2019-01-07</td>\n",
              "      <td>0.245604</td>\n",
              "    </tr>\n",
              "    <tr>\n",
              "      <th>7</th>\n",
              "      <td>2019-01-08</td>\n",
              "      <td>-0.054878</td>\n",
              "    </tr>\n",
              "    <tr>\n",
              "      <th>8</th>\n",
              "      <td>2019-01-09</td>\n",
              "      <td>0.042897</td>\n",
              "    </tr>\n",
              "    <tr>\n",
              "      <th>9</th>\n",
              "      <td>2019-01-10</td>\n",
              "      <td>0.024937</td>\n",
              "    </tr>\n",
              "    <tr>\n",
              "      <th>10</th>\n",
              "      <td>2019-01-11</td>\n",
              "      <td>-0.058585</td>\n",
              "    </tr>\n",
              "    <tr>\n",
              "      <th>11</th>\n",
              "      <td>2019-01-12</td>\n",
              "      <td>-0.173486</td>\n",
              "    </tr>\n",
              "    <tr>\n",
              "      <th>12</th>\n",
              "      <td>2019-01-13</td>\n",
              "      <td>-0.037163</td>\n",
              "    </tr>\n",
              "    <tr>\n",
              "      <th>13</th>\n",
              "      <td>2019-01-14</td>\n",
              "      <td>0.237756</td>\n",
              "    </tr>\n",
              "    <tr>\n",
              "      <th>14</th>\n",
              "      <td>2019-01-15</td>\n",
              "      <td>-0.019437</td>\n",
              "    </tr>\n",
              "    <tr>\n",
              "      <th>15</th>\n",
              "      <td>2019-01-16</td>\n",
              "      <td>-0.041811</td>\n",
              "    </tr>\n",
              "    <tr>\n",
              "      <th>16</th>\n",
              "      <td>2019-01-17</td>\n",
              "      <td>0.048859</td>\n",
              "    </tr>\n",
              "    <tr>\n",
              "      <th>17</th>\n",
              "      <td>2019-01-18</td>\n",
              "      <td>0.006313</td>\n",
              "    </tr>\n",
              "    <tr>\n",
              "      <th>18</th>\n",
              "      <td>2019-01-19</td>\n",
              "      <td>-0.146820</td>\n",
              "    </tr>\n",
              "    <tr>\n",
              "      <th>19</th>\n",
              "      <td>2019-01-20</td>\n",
              "      <td>-0.047406</td>\n",
              "    </tr>\n",
              "    <tr>\n",
              "      <th>20</th>\n",
              "      <td>2019-01-21</td>\n",
              "      <td>0.227155</td>\n",
              "    </tr>\n",
              "    <tr>\n",
              "      <th>21</th>\n",
              "      <td>2019-01-22</td>\n",
              "      <td>0.011799</td>\n",
              "    </tr>\n",
              "    <tr>\n",
              "      <th>22</th>\n",
              "      <td>2019-01-23</td>\n",
              "      <td>0.081165</td>\n",
              "    </tr>\n",
              "    <tr>\n",
              "      <th>23</th>\n",
              "      <td>2019-01-24</td>\n",
              "      <td>-0.042214</td>\n",
              "    </tr>\n",
              "    <tr>\n",
              "      <th>24</th>\n",
              "      <td>2019-01-25</td>\n",
              "      <td>-0.088150</td>\n",
              "    </tr>\n",
              "    <tr>\n",
              "      <th>25</th>\n",
              "      <td>2019-01-26</td>\n",
              "      <td>-0.107058</td>\n",
              "    </tr>\n",
              "    <tr>\n",
              "      <th>26</th>\n",
              "      <td>2019-01-27</td>\n",
              "      <td>-0.113299</td>\n",
              "    </tr>\n",
              "    <tr>\n",
              "      <th>27</th>\n",
              "      <td>2019-01-28</td>\n",
              "      <td>0.333023</td>\n",
              "    </tr>\n",
              "    <tr>\n",
              "      <th>28</th>\n",
              "      <td>2019-01-29</td>\n",
              "      <td>-0.012011</td>\n",
              "    </tr>\n",
              "    <tr>\n",
              "      <th>29</th>\n",
              "      <td>2019-01-30</td>\n",
              "      <td>0.014235</td>\n",
              "    </tr>\n",
              "    <tr>\n",
              "      <th>30</th>\n",
              "      <td>2019-01-31</td>\n",
              "      <td>-0.002823</td>\n",
              "    </tr>\n",
              "  </tbody>\n",
              "</table>\n",
              "</div>"
            ],
            "text/plain": [
              "         Date     count\n",
              "0  2019-01-01  0.000000\n",
              "1  2019-01-02  0.228798\n",
              "2  2019-01-03  0.252252\n",
              "3  2019-01-04 -0.159321\n",
              "4  2019-01-05 -0.196345\n",
              "5  2019-01-06  0.035629\n",
              "6  2019-01-07  0.245604\n",
              "7  2019-01-08 -0.054878\n",
              "8  2019-01-09  0.042897\n",
              "9  2019-01-10  0.024937\n",
              "10 2019-01-11 -0.058585\n",
              "11 2019-01-12 -0.173486\n",
              "12 2019-01-13 -0.037163\n",
              "13 2019-01-14  0.237756\n",
              "14 2019-01-15 -0.019437\n",
              "15 2019-01-16 -0.041811\n",
              "16 2019-01-17  0.048859\n",
              "17 2019-01-18  0.006313\n",
              "18 2019-01-19 -0.146820\n",
              "19 2019-01-20 -0.047406\n",
              "20 2019-01-21  0.227155\n",
              "21 2019-01-22  0.011799\n",
              "22 2019-01-23  0.081165\n",
              "23 2019-01-24 -0.042214\n",
              "24 2019-01-25 -0.088150\n",
              "25 2019-01-26 -0.107058\n",
              "26 2019-01-27 -0.113299\n",
              "27 2019-01-28  0.333023\n",
              "28 2019-01-29 -0.012011\n",
              "29 2019-01-30  0.014235\n",
              "30 2019-01-31 -0.002823"
            ]
          },
          "metadata": {
            "tags": []
          },
          "execution_count": 25
        }
      ]
    },
    {
      "metadata": {
        "id": "lvAwT1Mo9huP",
        "colab_type": "code",
        "colab": {}
      },
      "cell_type": "code",
      "source": [
        "import seaborn as sns; sns.set()\n",
        "import matplotlib.pyplot as plt"
      ],
      "execution_count": 0,
      "outputs": []
    },
    {
      "metadata": {
        "id": "xVaa6dYh_YYs",
        "colab_type": "code",
        "colab": {
          "base_uri": "https://localhost:8080/",
          "height": 413
        },
        "outputId": "20abb51f-ec0a-42be-dd01-2e13759e229b"
      },
      "cell_type": "code",
      "source": [
        "df.plot(x='Date', y='count')"
      ],
      "execution_count": 27,
      "outputs": [
        {
          "output_type": "execute_result",
          "data": {
            "text/plain": [
              "<matplotlib.axes._subplots.AxesSubplot at 0x7f2e663c9f28>"
            ]
          },
          "metadata": {
            "tags": []
          },
          "execution_count": 27
        },
        {
          "output_type": "display_data",
          "data": {
            "image/png": "[encoded data removed]",
            "text/plain": [
              "<Figure size 576x396 with 1 Axes>"
            ]
          },
          "metadata": {
            "tags": []
          }
        }
      ]
    },
    {
      "metadata": {
        "id": "I6QnBzNQ-uEt",
        "colab_type": "code",
        "colab": {
          "resources": {
            "http://localhost:8080/nbextensions/google.colab/files.js": {
              "data": "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",
              "ok": true,
              "headers": [
                [
                  "content-type",
                  "application/javascript"
                ]
              ],
              "status": 200,
              "status_text": ""
            }
          },
          "base_uri": "https://localhost:8080/",
          "height": 128
        },
        "outputId": "fab95b59-f60f-4e29-ee7f-8987541b4a73"
      },
      "cell_type": "code",
      "source": [
        "from google.colab import files\n",
        "files.upload()"
      ],
      "execution_count": 28,
      "outputs": [
        {
          "output_type": "display_data",
          "data": {
            "text/html": [
              "\n",
              "     <input type=\"file\" id=\"files-2ad175c0-27e3-4a8f-9cd9-69a9f30e557d\" name=\"files[]\" multiple disabled />\n",
              "     <output id=\"result-2ad175c0-27e3-4a8f-9cd9-69a9f30e557d\">\n",
              "      Upload widget is only available when the cell has been executed in the\n",
              "      current browser session. Please rerun this cell to enable.\n",
              "      </output>\n",
              "      <script src=\"/nbextensions/google.colab/files.js\"></script> "
            ],
            "text/plain": [
              "<IPython.core.display.HTML object>"
            ]
          },
          "metadata": {
            "tags": []
          }
        },
        {
          "output_type": "stream",
          "text": [
            "Saving BTC_USD_2018-12-31_2019-01-31-CoinDesk.csv to BTC_USD_2018-12-31_2019-01-31-CoinDesk.csv\n"
          ],
          "name": "stdout"
        },
        {
          "output_type": "execute_result",
          "data": {
            "text/plain": [
              "{'BTC_USD_2018-12-31_2019-01-31-CoinDesk.csv': b'Currency,Date,Closing Price (USD),24h Open (USD),24h High (USD),24h Low (USD)\\r\\nBTC,2018-12-31T22:59:59.000Z,3689.5646203364,3689.9723378682,3690.3067917937,3689.4751199481\\r\\nBTC,2019-01-01T22:59:58.000Z,3715.5644411293,3693.3300666654,3741.8818553972,3644.8762824863\\r\\nBTC,2019-01-02T22:59:59.000Z,3882.304754348,3715.5643838661,3900.7091270403,3711.2741076363\\r\\nBTC,2019-01-03T23:00:00.000Z,3795.5927412969,3882.3036216798,3916.1976844374,3760.9440417808\\r\\nBTC,2019-01-04T22:59:59.000Z,3812.3811076791,3781.020705993,3844.986111038,3725.7396632966\\r\\nBTC,2019-01-05T23:00:00.000Z,3809.9143429619,3812.3811191955,3866.4174315002,3775.8288779968\\r\\nBTC,2019-01-06T22:59:59.000Z,4014.1331870739,3797.0340970819,4063.9453560949,3758.5165264648\\r\\nBTC,2019-01-07T23:00:00.000Z,3989.6317409326,4032.4591655851,4060.8647998529,3526.1392784483\\r\\nBTC,2019-01-08T22:59:59.000Z,3992.9861439065,3989.6317529072,4096.3830349478,3947.0359235851\\r\\nBTC,2019-01-09T23:00:00.000Z,3995.3251931641,3981.9382996592,4023.7344900783,3965.9763463782\\r\\nBTC,2019-01-10T22:59:59.000Z,3617.3462911588,3995.3251807214,4025.5283108917,3570.076959892\\r\\nBTC,2019-01-11T22:59:59.000Z,3606.1648903844,3617.268962197,3676.7323463205,3572.6749793622\\r\\nBTC,2019-01-12T23:00:00.000Z,3611.5282378524,3609.1295656008,3644.3441048105,3564.6278890838\\r\\nBTC,2019-01-13T23:00:00.000Z,3497.6693915005,3614.4208481332,3642.0477232305,3480.8328903724\\r\\nBTC,2019-01-14T22:59:59.000Z,3654.3470673605,3497.6696152725,3696.0690013667,3488.7187151541\\r\\nBTC,2019-01-15T22:59:59.000Z,3568.7512587366,3653.6803179504,3679.7036556421,3544.4295513188\\r\\nBTC,2019-01-16T22:59:59.000Z,3593.7217397683,3568.6826659047,3662.9187293804,3567.1487961193\\r\\nBTC,2019-01-17T22:59:59.000Z,3623.717336702,3603.5516365649,3644.7312977719,3546.3096872144\\r\\nBTC,2019-01-18T22:59:59.000Z,3605.8551868777,3623.7175000563,3641.9610380994,3578.4253177178\\r\\nBTC,2019-01-19T22:59:59.000Z,3690.9085636878,3605.8551173227,3735.3565403606,3602.420476252\\r\\nBTC,2019-01-20T22:59:59.000Z,3544.2217242808,3680.2847465733,3701.4548021804,3490.7036841512\\r\\nBTC,2019-01-21T22:59:59.000Z,3528.4635294479,3544.221815669,3558.2338181581,3496.6026418546\\r\\nBTC,2019-01-22T23:00:00.000Z,3581.5519472363,3528.463928169,3605.7416768987,3444.6864706167\\r\\nBTC,2019-01-23T22:59:59.000Z,3549.770799097,3572.6889495791,3608.8769021965,3521.835474332\\r\\nBTC,2019-01-24T22:59:59.000Z,3562.9204764613,3555.8619611779,3591.5938974426,3530.5473093896\\r\\nBTC,2019-01-25T22:59:59.000Z,3566.6661636996,3571.8088869481,3574.1243701222,3522.4241867044\\r\\nBTC,2019-01-26T22:59:59.000Z,3563.2780095528,3566.6662254659,3648.4999031042,3541.1709868168\\r\\nBTC,2019-01-27T23:00:00.000Z,3539.6209472447,3563.1602016498,3564.954936082,3481.3844702502\\r\\nBTC,2019-01-28T22:59:58.000Z,3425.2621611882,3530.2037098414,3541.4171613861,3374.4639009087\\r\\nBTC,2019-01-29T22:59:59.000Z,3395.0186452497,3429.7077486011,3438.0683712479,3346.1431882717\\r\\nBTC,2019-01-30T23:00:00.000Z,3441.0322154158,3395.2247993224,3460.2319504376,3371.6887461729\\r\\nBTC,2019-01-31T23:00:00.000Z,3420.633226576,3434.5218470937,3471.2474609692,3394.2846344068\\r\\n'}"
            ]
          },
          "metadata": {
            "tags": []
          },
          "execution_count": 28
        }
      ]
    },
    {
      "metadata": {
        "id": "iCEYyQREVaeC",
        "colab_type": "code",
        "colab": {}
      },
      "cell_type": "code",
      "source": [
        "bit = pd.read_csv('BTC_USD_2018-12-31_2019-01-31-CoinDesk.csv')"
      ],
      "execution_count": 0,
      "outputs": []
    },
    {
      "metadata": {
        "id": "6ma5wjWWVoi1",
        "colab_type": "code",
        "colab": {
          "base_uri": "https://localhost:8080/",
          "height": 1586
        },
        "outputId": "3d00ab8a-33a0-41a7-db53-48811f022d10"
      },
      "cell_type": "code",
      "source": [
        "bit"
      ],
      "execution_count": 72,
      "outputs": [
        {
          "output_type": "execute_result",
          "data": {
            "text/html": [
              "<div>\n",
              "<style scoped>\n",
              "    .dataframe tbody tr th:only-of-type {\n",
              "        vertical-align: middle;\n",
              "    }\n",
              "\n",
              "    .dataframe tbody tr th {\n",
              "        vertical-align: top;\n",
              "    }\n",
              "\n",
              "    .dataframe thead th {\n",
              "        text-align: right;\n",
              "    }\n",
              "</style>\n",
              "<table border=\"1\" class=\"dataframe\">\n",
              "  <thead>\n",
              "    <tr style=\"text-align: right;\">\n",
              "      <th></th>\n",
              "      <th>Currency</th>\n",
              "      <th>Date</th>\n",
              "      <th>Closing Price (USD)</th>\n",
              "      <th>24h Open (USD)</th>\n",
              "      <th>24h High (USD)</th>\n",
              "      <th>24h Low (USD)</th>\n",
              "    </tr>\n",
              "  </thead>\n",
              "  <tbody>\n",
              "    <tr>\n",
              "      <th>0</th>\n",
              "      <td>BTC</td>\n",
              "      <td>2018-12-31T22:59:59.000Z</td>\n",
              "      <td>3689.564620</td>\n",
              "      <td>3689.972338</td>\n",
              "      <td>3690.306792</td>\n",
              "      <td>3689.475120</td>\n",
              "    </tr>\n",
              "    <tr>\n",
              "      <th>1</th>\n",
              "      <td>BTC</td>\n",
              "      <td>2019-01-01T22:59:58.000Z</td>\n",
              "      <td>3715.564441</td>\n",
              "      <td>3693.330067</td>\n",
              "      <td>3741.881855</td>\n",
              "      <td>3644.876282</td>\n",
              "    </tr>\n",
              "    <tr>\n",
              "      <th>2</th>\n",
              "      <td>BTC</td>\n",
              "      <td>2019-01-02T22:59:59.000Z</td>\n",
              "      <td>3882.304754</td>\n",
              "      <td>3715.564384</td>\n",
              "      <td>3900.709127</td>\n",
              "      <td>3711.274108</td>\n",
              "    </tr>\n",
              "    <tr>\n",
              "      <th>3</th>\n",
              "      <td>BTC</td>\n",
              "      <td>2019-01-03T23:00:00.000Z</td>\n",
              "      <td>3795.592741</td>\n",
              "      <td>3882.303622</td>\n",
              "      <td>3916.197684</td>\n",
              "      <td>3760.944042</td>\n",
              "    </tr>\n",
              "    <tr>\n",
              "      <th>4</th>\n",
              "      <td>BTC</td>\n",
              "      <td>2019-01-04T22:59:59.000Z</td>\n",
              "      <td>3812.381108</td>\n",
              "      <td>3781.020706</td>\n",
              "      <td>3844.986111</td>\n",
              "      <td>3725.739663</td>\n",
              "    </tr>\n",
              "    <tr>\n",
              "      <th>5</th>\n",
              "      <td>BTC</td>\n",
              "      <td>2019-01-05T23:00:00.000Z</td>\n",
              "      <td>3809.914343</td>\n",
              "      <td>3812.381119</td>\n",
              "      <td>3866.417432</td>\n",
              "      <td>3775.828878</td>\n",
              "    </tr>\n",
              "    <tr>\n",
              "      <th>6</th>\n",
              "      <td>BTC</td>\n",
              "      <td>2019-01-06T22:59:59.000Z</td>\n",
              "      <td>4014.133187</td>\n",
              "      <td>3797.034097</td>\n",
              "      <td>4063.945356</td>\n",
              "      <td>3758.516526</td>\n",
              "    </tr>\n",
              "    <tr>\n",
              "      <th>7</th>\n",
              "      <td>BTC</td>\n",
              "      <td>2019-01-07T23:00:00.000Z</td>\n",
              "      <td>3989.631741</td>\n",
              "      <td>4032.459166</td>\n",
              "      <td>4060.864800</td>\n",
              "      <td>3526.139278</td>\n",
              "    </tr>\n",
              "    <tr>\n",
              "      <th>8</th>\n",
              "      <td>BTC</td>\n",
              "      <td>2019-01-08T22:59:59.000Z</td>\n",
              "      <td>3992.986144</td>\n",
              "      <td>3989.631753</td>\n",
              "      <td>4096.383035</td>\n",
              "      <td>3947.035924</td>\n",
              "    </tr>\n",
              "    <tr>\n",
              "      <th>9</th>\n",
              "      <td>BTC</td>\n",
              "      <td>2019-01-09T23:00:00.000Z</td>\n",
              "      <td>3995.325193</td>\n",
              "      <td>3981.938300</td>\n",
              "      <td>4023.734490</td>\n",
              "      <td>3965.976346</td>\n",
              "    </tr>\n",
              "    <tr>\n",
              "      <th>10</th>\n",
              "      <td>BTC</td>\n",
              "      <td>2019-01-10T22:59:59.000Z</td>\n",
              "      <td>3617.346291</td>\n",
              "      <td>3995.325181</td>\n",
              "      <td>4025.528311</td>\n",
              "      <td>3570.076960</td>\n",
              "    </tr>\n",
              "    <tr>\n",
              "      <th>11</th>\n",
              "      <td>BTC</td>\n",
              "      <td>2019-01-11T22:59:59.000Z</td>\n",
              "      <td>3606.164890</td>\n",
              "      <td>3617.268962</td>\n",
              "      <td>3676.732346</td>\n",
              "      <td>3572.674979</td>\n",
              "    </tr>\n",
              "    <tr>\n",
              "      <th>12</th>\n",
              "      <td>BTC</td>\n",
              "      <td>2019-01-12T23:00:00.000Z</td>\n",
              "      <td>3611.528238</td>\n",
              "      <td>3609.129566</td>\n",
              "      <td>3644.344105</td>\n",
              "      <td>3564.627889</td>\n",
              "    </tr>\n",
              "    <tr>\n",
              "      <th>13</th>\n",
              "      <td>BTC</td>\n",
              "      <td>2019-01-13T23:00:00.000Z</td>\n",
              "      <td>3497.669392</td>\n",
              "      <td>3614.420848</td>\n",
              "      <td>3642.047723</td>\n",
              "      <td>3480.832890</td>\n",
              "    </tr>\n",
              "    <tr>\n",
              "      <th>14</th>\n",
              "      <td>BTC</td>\n",
              "      <td>2019-01-14T22:59:59.000Z</td>\n",
              "      <td>3654.347067</td>\n",
              "      <td>3497.669615</td>\n",
              "      <td>3696.069001</td>\n",
              "      <td>3488.718715</td>\n",
              "    </tr>\n",
              "    <tr>\n",
              "      <th>15</th>\n",
              "      <td>BTC</td>\n",
              "      <td>2019-01-15T22:59:59.000Z</td>\n",
              "      <td>3568.751259</td>\n",
              "      <td>3653.680318</td>\n",
              "      <td>3679.703656</td>\n",
              "      <td>3544.429551</td>\n",
              "    </tr>\n",
              "    <tr>\n",
              "      <th>16</th>\n",
              "      <td>BTC</td>\n",
              "      <td>2019-01-16T22:59:59.000Z</td>\n",
              "      <td>3593.721740</td>\n",
              "      <td>3568.682666</td>\n",
              "      <td>3662.918729</td>\n",
              "      <td>3567.148796</td>\n",
              "    </tr>\n",
              "    <tr>\n",
              "      <th>17</th>\n",
              "      <td>BTC</td>\n",
              "      <td>2019-01-17T22:59:59.000Z</td>\n",
              "      <td>3623.717337</td>\n",
              "      <td>3603.551637</td>\n",
              "      <td>3644.731298</td>\n",
              "      <td>3546.309687</td>\n",
              "    </tr>\n",
              "    <tr>\n",
              "      <th>18</th>\n",
              "      <td>BTC</td>\n",
              "      <td>2019-01-18T22:59:59.000Z</td>\n",
              "      <td>3605.855187</td>\n",
              "      <td>3623.717500</td>\n",
              "      <td>3641.961038</td>\n",
              "      <td>3578.425318</td>\n",
              "    </tr>\n",
              "    <tr>\n",
              "      <th>19</th>\n",
              "      <td>BTC</td>\n",
              "      <td>2019-01-19T22:59:59.000Z</td>\n",
              "      <td>3690.908564</td>\n",
              "      <td>3605.855117</td>\n",
              "      <td>3735.356540</td>\n",
              "      <td>3602.420476</td>\n",
              "    </tr>\n",
              "    <tr>\n",
              "      <th>20</th>\n",
              "      <td>BTC</td>\n",
              "      <td>2019-01-20T22:59:59.000Z</td>\n",
              "      <td>3544.221724</td>\n",
              "      <td>3680.284747</td>\n",
              "      <td>3701.454802</td>\n",
              "      <td>3490.703684</td>\n",
              "    </tr>\n",
              "    <tr>\n",
              "      <th>21</th>\n",
              "      <td>BTC</td>\n",
              "      <td>2019-01-21T22:59:59.000Z</td>\n",
              "      <td>3528.463529</td>\n",
              "      <td>3544.221816</td>\n",
              "      <td>3558.233818</td>\n",
              "      <td>3496.602642</td>\n",
              "    </tr>\n",
              "    <tr>\n",
              "      <th>22</th>\n",
              "      <td>BTC</td>\n",
              "      <td>2019-01-22T23:00:00.000Z</td>\n",
              "      <td>3581.551947</td>\n",
              "      <td>3528.463928</td>\n",
              "      <td>3605.741677</td>\n",
              "      <td>3444.686471</td>\n",
              "    </tr>\n",
              "    <tr>\n",
              "      <th>23</th>\n",
              "      <td>BTC</td>\n",
              "      <td>2019-01-23T22:59:59.000Z</td>\n",
              "      <td>3549.770799</td>\n",
              "      <td>3572.688950</td>\n",
              "      <td>3608.876902</td>\n",
              "      <td>3521.835474</td>\n",
              "    </tr>\n",
              "    <tr>\n",
              "      <th>24</th>\n",
              "      <td>BTC</td>\n",
              "      <td>2019-01-24T22:59:59.000Z</td>\n",
              "      <td>3562.920476</td>\n",
              "      <td>3555.861961</td>\n",
              "      <td>3591.593897</td>\n",
              "      <td>3530.547309</td>\n",
              "    </tr>\n",
              "    <tr>\n",
              "      <th>25</th>\n",
              "      <td>BTC</td>\n",
              "      <td>2019-01-25T22:59:59.000Z</td>\n",
              "      <td>3566.666164</td>\n",
              "      <td>3571.808887</td>\n",
              "      <td>3574.124370</td>\n",
              "      <td>3522.424187</td>\n",
              "    </tr>\n",
              "    <tr>\n",
              "      <th>26</th>\n",
              "      <td>BTC</td>\n",
              "      <td>2019-01-26T22:59:59.000Z</td>\n",
              "      <td>3563.278010</td>\n",
              "      <td>3566.666225</td>\n",
              "      <td>3648.499903</td>\n",
              "      <td>3541.170987</td>\n",
              "    </tr>\n",
              "    <tr>\n",
              "      <th>27</th>\n",
              "      <td>BTC</td>\n",
              "      <td>2019-01-27T23:00:00.000Z</td>\n",
              "      <td>3539.620947</td>\n",
              "      <td>3563.160202</td>\n",
              "      <td>3564.954936</td>\n",
              "      <td>3481.384470</td>\n",
              "    </tr>\n",
              "    <tr>\n",
              "      <th>28</th>\n",
              "      <td>BTC</td>\n",
              "      <td>2019-01-28T22:59:58.000Z</td>\n",
              "      <td>3425.262161</td>\n",
              "      <td>3530.203710</td>\n",
              "      <td>3541.417161</td>\n",
              "      <td>3374.463901</td>\n",
              "    </tr>\n",
              "    <tr>\n",
              "      <th>29</th>\n",
              "      <td>BTC</td>\n",
              "      <td>2019-01-29T22:59:59.000Z</td>\n",
              "      <td>3395.018645</td>\n",
              "      <td>3429.707749</td>\n",
              "      <td>3438.068371</td>\n",
              "      <td>3346.143188</td>\n",
              "    </tr>\n",
              "    <tr>\n",
              "      <th>30</th>\n",
              "      <td>BTC</td>\n",
              "      <td>2019-01-30T23:00:00.000Z</td>\n",
              "      <td>3441.032215</td>\n",
              "      <td>3395.224799</td>\n",
              "      <td>3460.231950</td>\n",
              "      <td>3371.688746</td>\n",
              "    </tr>\n",
              "    <tr>\n",
              "      <th>31</th>\n",
              "      <td>BTC</td>\n",
              "      <td>2019-01-31T23:00:00.000Z</td>\n",
              "      <td>3420.633227</td>\n",
              "      <td>3434.521847</td>\n",
              "      <td>3471.247461</td>\n",
              "      <td>3394.284634</td>\n",
              "    </tr>\n",
              "  </tbody>\n",
              "</table>\n",
              "</div>"
            ],
            "text/plain": [
              "   Currency                      Date  Closing Price (USD)  24h Open (USD)  \\\n",
              "0       BTC  2018-12-31T22:59:59.000Z          3689.564620     3689.972338   \n",
              "1       BTC  2019-01-01T22:59:58.000Z          3715.564441     3693.330067   \n",
              "2       BTC  2019-01-02T22:59:59.000Z          3882.304754     3715.564384   \n",
              "3       BTC  2019-01-03T23:00:00.000Z          3795.592741     3882.303622   \n",
              "4       BTC  2019-01-04T22:59:59.000Z          3812.381108     3781.020706   \n",
              "5       BTC  2019-01-05T23:00:00.000Z          3809.914343     3812.381119   \n",
              "6       BTC  2019-01-06T22:59:59.000Z          4014.133187     3797.034097   \n",
              "7       BTC  2019-01-07T23:00:00.000Z          3989.631741     4032.459166   \n",
              "8       BTC  2019-01-08T22:59:59.000Z          3992.986144     3989.631753   \n",
              "9       BTC  2019-01-09T23:00:00.000Z          3995.325193     3981.938300   \n",
              "10      BTC  2019-01-10T22:59:59.000Z          3617.346291     3995.325181   \n",
              "11      BTC  2019-01-11T22:59:59.000Z          3606.164890     3617.268962   \n",
              "12      BTC  2019-01-12T23:00:00.000Z          3611.528238     3609.129566   \n",
              "13      BTC  2019-01-13T23:00:00.000Z          3497.669392     3614.420848   \n",
              "14      BTC  2019-01-14T22:59:59.000Z          3654.347067     3497.669615   \n",
              "15      BTC  2019-01-15T22:59:59.000Z          3568.751259     3653.680318   \n",
              "16      BTC  2019-01-16T22:59:59.000Z          3593.721740     3568.682666   \n",
              "17      BTC  2019-01-17T22:59:59.000Z          3623.717337     3603.551637   \n",
              "18      BTC  2019-01-18T22:59:59.000Z          3605.855187     3623.717500   \n",
              "19      BTC  2019-01-19T22:59:59.000Z          3690.908564     3605.855117   \n",
              "20      BTC  2019-01-20T22:59:59.000Z          3544.221724     3680.284747   \n",
              "21      BTC  2019-01-21T22:59:59.000Z          3528.463529     3544.221816   \n",
              "22      BTC  2019-01-22T23:00:00.000Z          3581.551947     3528.463928   \n",
              "23      BTC  2019-01-23T22:59:59.000Z          3549.770799     3572.688950   \n",
              "24      BTC  2019-01-24T22:59:59.000Z          3562.920476     3555.861961   \n",
              "25      BTC  2019-01-25T22:59:59.000Z          3566.666164     3571.808887   \n",
              "26      BTC  2019-01-26T22:59:59.000Z          3563.278010     3566.666225   \n",
              "27      BTC  2019-01-27T23:00:00.000Z          3539.620947     3563.160202   \n",
              "28      BTC  2019-01-28T22:59:58.000Z          3425.262161     3530.203710   \n",
              "29      BTC  2019-01-29T22:59:59.000Z          3395.018645     3429.707749   \n",
              "30      BTC  2019-01-30T23:00:00.000Z          3441.032215     3395.224799   \n",
              "31      BTC  2019-01-31T23:00:00.000Z          3420.633227     3434.521847   \n",
              "\n",
              "    24h High (USD)  24h Low (USD)  \n",
              "0      3690.306792    3689.475120  \n",
              "1      3741.881855    3644.876282  \n",
              "2      3900.709127    3711.274108  \n",
              "3      3916.197684    3760.944042  \n",
              "4      3844.986111    3725.739663  \n",
              "5      3866.417432    3775.828878  \n",
              "6      4063.945356    3758.516526  \n",
              "7      4060.864800    3526.139278  \n",
              "8      4096.383035    3947.035924  \n",
              "9      4023.734490    3965.976346  \n",
              "10     4025.528311    3570.076960  \n",
              "11     3676.732346    3572.674979  \n",
              "12     3644.344105    3564.627889  \n",
              "13     3642.047723    3480.832890  \n",
              "14     3696.069001    3488.718715  \n",
              "15     3679.703656    3544.429551  \n",
              "16     3662.918729    3567.148796  \n",
              "17     3644.731298    3546.309687  \n",
              "18     3641.961038    3578.425318  \n",
              "19     3735.356540    3602.420476  \n",
              "20     3701.454802    3490.703684  \n",
              "21     3558.233818    3496.602642  \n",
              "22     3605.741677    3444.686471  \n",
              "23     3608.876902    3521.835474  \n",
              "24     3591.593897    3530.547309  \n",
              "25     3574.124370    3522.424187  \n",
              "26     3648.499903    3541.170987  \n",
              "27     3564.954936    3481.384470  \n",
              "28     3541.417161    3374.463901  \n",
              "29     3438.068371    3346.143188  \n",
              "30     3460.231950    3371.688746  \n",
              "31     3471.247461    3394.284634  "
            ]
          },
          "metadata": {
            "tags": []
          },
          "execution_count": 72
        }
      ]
    },
    {
      "metadata": {
        "id": "CsL353zvVs8U",
        "colab_type": "code",
        "colab": {
          "base_uri": "https://localhost:8080/",
          "height": 134
        },
        "outputId": "0a5a19b3-525e-4d6d-cfaf-676e294d91ab"
      },
      "cell_type": "code",
      "source": [
        "bit.dtypes"
      ],
      "execution_count": 73,
      "outputs": [
        {
          "output_type": "execute_result",
          "data": {
            "text/plain": [
              "Currency                object\n",
              "Date                    object\n",
              "Closing Price (USD)    float64\n",
              "24h Open (USD)         float64\n",
              "24h High (USD)         float64\n",
              "24h Low (USD)          float64\n",
              "dtype: object"
            ]
          },
          "metadata": {
            "tags": []
          },
          "execution_count": 73
        }
      ]
    },
    {
      "metadata": {
        "id": "n6T1WU-cV3MX",
        "colab_type": "code",
        "colab": {}
      },
      "cell_type": "code",
      "source": [
        "bit['Date'] = pd.to_datetime(bit['Date'])"
      ],
      "execution_count": 0,
      "outputs": []
    },
    {
      "metadata": {
        "id": "cBGHUKvHY3xo",
        "colab_type": "code",
        "colab": {}
      },
      "cell_type": "code",
      "source": [
        "bit = bit.drop(0)"
      ],
      "execution_count": 0,
      "outputs": []
    },
    {
      "metadata": {
        "id": "9vJrGQtnWZOB",
        "colab_type": "code",
        "colab": {}
      },
      "cell_type": "code",
      "source": [
        "bit['Closing Price (USD)'] = bit['Closing Price (USD)'].pct_change()"
      ],
      "execution_count": 0,
      "outputs": []
    },
    {
      "metadata": {
        "id": "iuTRilr5WdjQ",
        "colab_type": "code",
        "colab": {}
      },
      "cell_type": "code",
      "source": [
        "bit['Closing Price (USD)'] = bit['Closing Price (USD)'].fillna(0)"
      ],
      "execution_count": 0,
      "outputs": []
    },
    {
      "metadata": {
        "id": "yAPGZhUsWtbq",
        "colab_type": "code",
        "colab": {
          "base_uri": "https://localhost:8080/",
          "height": 296
        },
        "outputId": "45636a5f-d448-4fa3-88b7-e1e6ff4ee2cf"
      },
      "cell_type": "code",
      "source": [
        "bit.head()"
      ],
      "execution_count": 78,
      "outputs": [
        {
          "output_type": "execute_result",
          "data": {
            "text/html": [
              "<div>\n",
              "<style scoped>\n",
              "    .dataframe tbody tr th:only-of-type {\n",
              "        vertical-align: middle;\n",
              "    }\n",
              "\n",
              "    .dataframe tbody tr th {\n",
              "        vertical-align: top;\n",
              "    }\n",
              "\n",
              "    .dataframe thead th {\n",
              "        text-align: right;\n",
              "    }\n",
              "</style>\n",
              "<table border=\"1\" class=\"dataframe\">\n",
              "  <thead>\n",
              "    <tr style=\"text-align: right;\">\n",
              "      <th></th>\n",
              "      <th>Currency</th>\n",
              "      <th>Date</th>\n",
              "      <th>Closing Price (USD)</th>\n",
              "      <th>24h Open (USD)</th>\n",
              "      <th>24h High (USD)</th>\n",
              "      <th>24h Low (USD)</th>\n",
              "    </tr>\n",
              "  </thead>\n",
              "  <tbody>\n",
              "    <tr>\n",
              "      <th>1</th>\n",
              "      <td>BTC</td>\n",
              "      <td>2019-01-01 22:59:58</td>\n",
              "      <td>0.000000</td>\n",
              "      <td>3693.330067</td>\n",
              "      <td>3741.881855</td>\n",
              "      <td>3644.876282</td>\n",
              "    </tr>\n",
              "    <tr>\n",
              "      <th>2</th>\n",
              "      <td>BTC</td>\n",
              "      <td>2019-01-02 22:59:59</td>\n",
              "      <td>0.044876</td>\n",
              "      <td>3715.564384</td>\n",
              "      <td>3900.709127</td>\n",
              "      <td>3711.274108</td>\n",
              "    </tr>\n",
              "    <tr>\n",
              "      <th>3</th>\n",
              "      <td>BTC</td>\n",
              "      <td>2019-01-03 23:00:00</td>\n",
              "      <td>-0.022335</td>\n",
              "      <td>3882.303622</td>\n",
              "      <td>3916.197684</td>\n",
              "      <td>3760.944042</td>\n",
              "    </tr>\n",
              "    <tr>\n",
              "      <th>4</th>\n",
              "      <td>BTC</td>\n",
              "      <td>2019-01-04 22:59:59</td>\n",
              "      <td>0.004423</td>\n",
              "      <td>3781.020706</td>\n",
              "      <td>3844.986111</td>\n",
              "      <td>3725.739663</td>\n",
              "    </tr>\n",
              "    <tr>\n",
              "      <th>5</th>\n",
              "      <td>BTC</td>\n",
              "      <td>2019-01-05 23:00:00</td>\n",
              "      <td>-0.000647</td>\n",
              "      <td>3812.381119</td>\n",
              "      <td>3866.417432</td>\n",
              "      <td>3775.828878</td>\n",
              "    </tr>\n",
              "  </tbody>\n",
              "</table>\n",
              "</div>"
            ],
            "text/plain": [
              "  Currency                Date  Closing Price (USD)  24h Open (USD)  \\\n",
              "1      BTC 2019-01-01 22:59:58             0.000000     3693.330067   \n",
              "2      BTC 2019-01-02 22:59:59             0.044876     3715.564384   \n",
              "3      BTC 2019-01-03 23:00:00            -0.022335     3882.303622   \n",
              "4      BTC 2019-01-04 22:59:59             0.004423     3781.020706   \n",
              "5      BTC 2019-01-05 23:00:00            -0.000647     3812.381119   \n",
              "\n",
              "   24h High (USD)  24h Low (USD)  \n",
              "1     3741.881855    3644.876282  \n",
              "2     3900.709127    3711.274108  \n",
              "3     3916.197684    3760.944042  \n",
              "4     3844.986111    3725.739663  \n",
              "5     3866.417432    3775.828878  "
            ]
          },
          "metadata": {
            "tags": []
          },
          "execution_count": 78
        }
      ]
    },
    {
      "metadata": {
        "id": "Uloodni7WjGc",
        "colab_type": "code",
        "colab": {
          "base_uri": "https://localhost:8080/",
          "height": 374
        },
        "outputId": "e82aaecb-b9c9-40b2-c1e4-0fc44572976f"
      },
      "cell_type": "code",
      "source": [
        "bit.plot(x='Date', y='Closing Price (USD)')"
      ],
      "execution_count": 79,
      "outputs": [
        {
          "output_type": "execute_result",
          "data": {
            "text/plain": [
              "<matplotlib.axes._subplots.AxesSubplot at 0x7f2e6233d0f0>"
            ]
          },
          "metadata": {
            "tags": []
          },
          "execution_count": 79
        },
        {
          "output_type": "display_data",
          "data": {
            "image/png": "[encoded data removed]",
            "text/plain": [
              "<Figure size 576x396 with 1 Axes>"
            ]
          },
          "metadata": {
            "tags": []
          }
        }
      ]
    },
    {
      "metadata": {
        "id": "QvHNOdnVZaKT",
        "colab_type": "code",
        "colab": {
          "base_uri": "https://localhost:8080/",
          "height": 376
        },
        "outputId": "a0a4c0d8-d9dd-4fbf-965d-ac72b8b97574"
      },
      "cell_type": "code",
      "source": [
        "x = df['Date']\n",
        "y = df['count']\n",
        "z = bit['Closing Price (USD)']\n",
        "\n",
        "plt.plot(x, y, color=\"blue\")\n",
        "plt.plot(x, z, color=\"red\")\n",
        "plt.xlabel(\"January 2019\")\n",
        "plt.ylabel(\"Change in %\")\n",
        "plt.title(\"Development of tweet count & BTC price change in January 2019\")\n",
        "\n",
        "plt.show()"
      ],
      "execution_count": 81,
      "outputs": [
        {
          "output_type": "display_data",
          "data": {
            "image/png": "[encoded data removed]",
            "text/plain": [
              "<Figure size 576x396 with 1 Axes>"
            ]
          },
          "metadata": {
            "tags": []
          }
        }
      ]
    }
  ]
}