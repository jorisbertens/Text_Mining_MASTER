{
 "cells": [
  {
   "cell_type": "markdown",
   "metadata": {},
   "source": [
    "# Parse tweets by scrawler\n"
   ]
  },
  {
   "cell_type": "code",
   "execution_count": 1,
   "metadata": {
    "collapsed": true
   },
   "outputs": [],
   "source": [
    "import json\n",
    "from datetime import time\n",
    "import tweepy\n",
    "import csv\n",
    "import pandas as pd\n",
    "import pandas as pd\n",
    "import glob\n",
    "import json\n"
   ]
  },
  {
   "cell_type": "markdown",
   "metadata": {},
   "source": [
    "## Scrapy code run in comand promt\n",
    "\n",
    "##### The code is running in comand promt with an output of a json file for every tweet and saving in a folder of scrapy is running.\n",
    "\n",
    "##### $ scrapy crawl TweetScraper -a query=\"Bitcoin OR #BTC since:2019-01-01 until:2019-02-01\"\n"
   ]
  },
  {
   "cell_type": "code",
   "execution_count": 2,
   "metadata": {},
   "outputs": [
    {
     "data": {
      "text/plain": [
       "780862"
      ]
     },
     "execution_count": 2,
     "metadata": {},
     "output_type": "execute_result"
    }
   ],
   "source": [
    "import os\n",
    "#import al json file names \n",
    "path = 'C:/Users/Luriv/TweetScraper/Data/tweet'\n",
    "\n",
    "files=[]\n",
    "for filename in os.listdir(path):\n",
    "    filename= path+\"/\"+filename\n",
    "    files.append(filename)\n",
    "len(files)\n",
    "\n"
   ]
  },
  {
   "cell_type": "code",
   "execution_count": 4,
   "metadata": {
    "collapsed": true
   },
   "outputs": [],
   "source": [
    "dictlist = []\n",
    "\n",
    "for file in files:\n",
    "    try:\n",
    "        \n",
    "        json_string = open(file, 'r').read()\n",
    "        json_dict = json.loads(json_string)\n",
    "        dictlist.append(json_dict)\n",
    "\n",
    "    except:\n",
    "        pass"
   ]
  },
  {
   "cell_type": "code",
   "execution_count": 5,
   "metadata": {
    "collapsed": true
   },
   "outputs": [],
   "source": [
    "#asign tweets a dataframe\n",
    "df = pd.DataFrame(dictlist)\n",
    "\n",
    "df = df.replace({'\\n': ' '}, regex=True) # remove linebreaks in the dataframe\n",
    "df = df.replace({'\\t': ' '}, regex=True) # remove tabs in the dataframe\n",
    "df = df.replace({'\\r': ' '}, regex=True) # remove carriage return in the dataframe"
   ]
  },
  {
   "cell_type": "code",
   "execution_count": 6,
   "metadata": {
    "collapsed": true
   },
   "outputs": [],
   "source": [
    "#check dates missing to scrappe\n",
    "from datetime import datetime\n",
    "dates=[]\n",
    "for i in df[\"datetime\"]:\n",
    "    y=str(datetime.strptime(i, '%Y-%m-%d %H:%M:%S').date())\n",
    "    if y not in dates:\n",
    "        dates.append(y)\n",
    "dates"
   ]
  },
  {
   "cell_type": "code",
   "execution_count": 16,
   "metadata": {},
   "outputs": [
    {
     "data": {
      "text/plain": [
       "780861"
      ]
     },
     "execution_count": 16,
     "metadata": {},
     "output_type": "execute_result"
    }
   ],
   "source": [
    "df.head()"
   ]
  },
  {
   "cell_type": "code",
   "execution_count": 10,
   "metadata": {
    "collapsed": true
   },
   "outputs": [],
   "source": [
    "#save dataframe in csv and save dataframe in pickle file\n",
    "#import datetime\n",
    "#file = \"twitter\"+str(datetime.datetime.now().date())+\".csv\"\n",
    "#tweeet_df.to_csv(file, sep=',')\n",
    "#tweeet_df.to_pickle(\"tweets\")  # where to save it, usually as a .pkl\n",
    "df.to_pickle(\"tweets_jan2019\")  # where to save it, usually as a .pkl"
   ]
  }
 ],
 "metadata": {
  "kernelspec": {
   "display_name": "Python 3",
   "language": "python",
   "name": "python3"
  },
  "language_info": {
   "codemirror_mode": {
    "name": "ipython",
    "version": 3
   },
   "file_extension": ".py",
   "mimetype": "text/x-python",
   "name": "python",
   "nbconvert_exporter": "python",
   "pygments_lexer": "ipython3",
   "version": "3.7.1"
  }
 },
 "nbformat": 4,
 "nbformat_minor": 2
}
