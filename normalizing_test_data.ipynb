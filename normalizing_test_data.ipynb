{
 "cells": [
  {
   "cell_type": "code",
   "execution_count": 7,
   "metadata": {},
   "outputs": [
    {
     "name": "stderr",
     "output_type": "stream",
     "text": [
      "C:\\Users\\mariu\\anaconda\\lib\\site-packages\\pandas\\io\\excel.py:329: FutureWarning: The `sheetname` keyword is deprecated, use `sheet_name` instead\n",
      "  **kwds)\n"
     ]
    },
    {
     "data": {
      "text/html": [
       "<div>\n",
       "<style scoped>\n",
       "    .dataframe tbody tr th:only-of-type {\n",
       "        vertical-align: middle;\n",
       "    }\n",
       "\n",
       "    .dataframe tbody tr th {\n",
       "        vertical-align: top;\n",
       "    }\n",
       "\n",
       "    .dataframe thead th {\n",
       "        text-align: right;\n",
       "    }\n",
       "</style>\n",
       "<table border=\"1\" class=\"dataframe\">\n",
       "  <thead>\n",
       "    <tr style=\"text-align: right;\">\n",
       "      <th></th>\n",
       "      <th>id</th>\n",
       "      <th>date</th>\n",
       "      <th>text</th>\n",
       "      <th>sentiment</th>\n",
       "      <th>language</th>\n",
       "    </tr>\n",
       "  </thead>\n",
       "  <tbody>\n",
       "    <tr>\n",
       "      <th>0</th>\n",
       "      <td>468324</td>\n",
       "      <td>2019-01-19 11:41:00</td>\n",
       "      <td>Come Comprare  Bitcoin  su CryptoLocalATM  htt...</td>\n",
       "      <td>neu</td>\n",
       "      <td>en</td>\n",
       "    </tr>\n",
       "    <tr>\n",
       "      <th>1</th>\n",
       "      <td>345757</td>\n",
       "      <td>2019-01-14 15:51:00</td>\n",
       "      <td>I think you mean Crypto in general.  Bitcoin  ...</td>\n",
       "      <td>neg</td>\n",
       "      <td>en</td>\n",
       "    </tr>\n",
       "    <tr>\n",
       "      <th>2</th>\n",
       "      <td>470091</td>\n",
       "      <td>2019-01-19 13:27:00</td>\n",
       "      <td>Cointelegraph \"A group of academics from top U...</td>\n",
       "      <td>neu</td>\n",
       "      <td>en</td>\n",
       "    </tr>\n",
       "    <tr>\n",
       "      <th>3</th>\n",
       "      <td>123969</td>\n",
       "      <td>2019-01-05 19:37:00</td>\n",
       "      <td>And #bitcoin  is the one and only. #bitcoincas...</td>\n",
       "      <td>pos</td>\n",
       "      <td>en</td>\n",
       "    </tr>\n",
       "    <tr>\n",
       "      <th>4</th>\n",
       "      <td>542464</td>\n",
       "      <td>2019-01-22 14:01:00</td>\n",
       "      <td># XLM  Buy at #KuCoin  and sell at #Bitexen . ...</td>\n",
       "      <td>pos</td>\n",
       "      <td>en</td>\n",
       "    </tr>\n",
       "  </tbody>\n",
       "</table>\n",
       "</div>"
      ],
      "text/plain": [
       "       id                date  \\\n",
       "0  468324 2019-01-19 11:41:00   \n",
       "1  345757 2019-01-14 15:51:00   \n",
       "2  470091 2019-01-19 13:27:00   \n",
       "3  123969 2019-01-05 19:37:00   \n",
       "4  542464 2019-01-22 14:01:00   \n",
       "\n",
       "                                                text sentiment language  \n",
       "0  Come Comprare  Bitcoin  su CryptoLocalATM  htt...       neu       en  \n",
       "1  I think you mean Crypto in general.  Bitcoin  ...       neg       en  \n",
       "2  Cointelegraph \"A group of academics from top U...       neu       en  \n",
       "3  And #bitcoin  is the one and only. #bitcoincas...       pos       en  \n",
       "4  # XLM  Buy at #KuCoin  and sell at #Bitexen . ...       pos       en  "
      ]
     },
     "execution_count": 7,
     "metadata": {},
     "output_type": "execute_result"
    }
   ],
   "source": [
    "import pandas as pd\n",
    "from pandas import ExcelWriter\n",
    "from pandas import ExcelFile\n",
    "from project_functions import *\n",
    "df = pd.read_excel('test_Set_4000_total.xlsx', sheetname='test_set_4000_total')\n",
    "df.head()"
   ]
  },
  {
   "cell_type": "code",
   "execution_count": 17,
   "metadata": {},
   "outputs": [
    {
     "data": {
      "text/plain": [
       "str"
      ]
     },
     "execution_count": 17,
     "metadata": {},
     "output_type": "execute_result"
    }
   ],
   "source": [
    "type(df[\"text\"][1])"
   ]
  },
  {
   "cell_type": "code",
   "execution_count": 18,
   "metadata": {},
   "outputs": [],
   "source": [
    "df = df_removal_function(df)"
   ]
  },
  {
   "cell_type": "code",
   "execution_count": 21,
   "metadata": {},
   "outputs": [
    {
     "data": {
      "text/plain": [
       "'Cointelegraph \"A group of academics from top U.S. universities launch a crypto that would outstrip Bitcoin and Visa in terms of procesing times pic.twiter.com/BDkrfGt \"'"
      ]
     },
     "execution_count": 21,
     "metadata": {},
     "output_type": "execute_result"
    }
   ],
   "source": [
    "df[\"text\"][2]"
   ]
  },
  {
   "cell_type": "code",
   "execution_count": 22,
   "metadata": {},
   "outputs": [],
   "source": [
    "df=df_tokenize_dataframe(df)"
   ]
  },
  {
   "cell_type": "code",
   "execution_count": 23,
   "metadata": {},
   "outputs": [
    {
     "data": {
      "text/html": [
       "<div>\n",
       "<style scoped>\n",
       "    .dataframe tbody tr th:only-of-type {\n",
       "        vertical-align: middle;\n",
       "    }\n",
       "\n",
       "    .dataframe tbody tr th {\n",
       "        vertical-align: top;\n",
       "    }\n",
       "\n",
       "    .dataframe thead th {\n",
       "        text-align: right;\n",
       "    }\n",
       "</style>\n",
       "<table border=\"1\" class=\"dataframe\">\n",
       "  <thead>\n",
       "    <tr style=\"text-align: right;\">\n",
       "      <th></th>\n",
       "      <th>id</th>\n",
       "      <th>date</th>\n",
       "      <th>text</th>\n",
       "      <th>sentiment</th>\n",
       "      <th>language</th>\n",
       "    </tr>\n",
       "  </thead>\n",
       "  <tbody>\n",
       "    <tr>\n",
       "      <th>0</th>\n",
       "      <td>468324</td>\n",
       "      <td>2019-01-19 11:41:00</td>\n",
       "      <td>[come, comprare, bitcoin, su, cryptolocalatm, ...</td>\n",
       "      <td>neu</td>\n",
       "      <td>en</td>\n",
       "    </tr>\n",
       "    <tr>\n",
       "      <th>1</th>\n",
       "      <td>345757</td>\n",
       "      <td>2019-01-14 15:51:00</td>\n",
       "      <td>[think, mean, crypto, general, bitcoin, heavil...</td>\n",
       "      <td>neg</td>\n",
       "      <td>en</td>\n",
       "    </tr>\n",
       "    <tr>\n",
       "      <th>2</th>\n",
       "      <td>470091</td>\n",
       "      <td>2019-01-19 13:27:00</td>\n",
       "      <td>[cointelegraph, group, academics, top, u, univ...</td>\n",
       "      <td>neu</td>\n",
       "      <td>en</td>\n",
       "    </tr>\n",
       "    <tr>\n",
       "      <th>3</th>\n",
       "      <td>123969</td>\n",
       "      <td>2019-01-05 19:37:00</td>\n",
       "      <td>[bitcoin, one, bitcoincash, bitcoinsv, shitcoins]</td>\n",
       "      <td>pos</td>\n",
       "      <td>en</td>\n",
       "    </tr>\n",
       "    <tr>\n",
       "      <th>4</th>\n",
       "      <td>542464</td>\n",
       "      <td>2019-01-22 14:01:00</td>\n",
       "      <td>[xlm, buy, kucoin, sel, bitexen, ratio, buy, k...</td>\n",
       "      <td>pos</td>\n",
       "      <td>en</td>\n",
       "    </tr>\n",
       "  </tbody>\n",
       "</table>\n",
       "</div>"
      ],
      "text/plain": [
       "       id                date  \\\n",
       "0  468324 2019-01-19 11:41:00   \n",
       "1  345757 2019-01-14 15:51:00   \n",
       "2  470091 2019-01-19 13:27:00   \n",
       "3  123969 2019-01-05 19:37:00   \n",
       "4  542464 2019-01-22 14:01:00   \n",
       "\n",
       "                                                text sentiment language  \n",
       "0  [come, comprare, bitcoin, su, cryptolocalatm, ...       neu       en  \n",
       "1  [think, mean, crypto, general, bitcoin, heavil...       neg       en  \n",
       "2  [cointelegraph, group, academics, top, u, univ...       neu       en  \n",
       "3  [bitcoin, one, bitcoincash, bitcoinsv, shitcoins]       pos       en  \n",
       "4  [xlm, buy, kucoin, sel, bitexen, ratio, buy, k...       pos       en  "
      ]
     },
     "execution_count": 23,
     "metadata": {},
     "output_type": "execute_result"
    }
   ],
   "source": [
    "df = df_remove_stopwords_dataframe(df)\n",
    "df.head()"
   ]
  },
  {
   "cell_type": "code",
   "execution_count": 24,
   "metadata": {},
   "outputs": [],
   "source": [
    "df = df_untokenize_dataframe(df)"
   ]
  },
  {
   "cell_type": "code",
   "execution_count": 25,
   "metadata": {},
   "outputs": [],
   "source": [
    "df.to_csv('test_set_normalized.csv', sep='|')"
   ]
  },
  {
   "cell_type": "code",
   "execution_count": null,
   "metadata": {},
   "outputs": [],
   "source": []
  }
 ],
 "metadata": {
  "kernelspec": {
   "display_name": "Python 3",
   "language": "python",
   "name": "python3"
  },
  "language_info": {
   "codemirror_mode": {
    "name": "ipython",
    "version": 3
   },
   "file_extension": ".py",
   "mimetype": "text/x-python",
   "name": "python",
   "nbconvert_exporter": "python",
   "pygments_lexer": "ipython3",
   "version": "3.6.5"
  },
  "stem_cell": {
   "cell_type": "raw",
   "metadata": {
    "pycharm": {
     "metadata": false
    }
   },
   "source": "import nltk\nimport random\nfrom nltk.corpus import movie_reviews\nfrom nltk.classify.scikitlearn import SklearnClassifier\nfrom nltk import word_tokenize\nimport pickle\n\nfrom sklearn.naive_bayes import MultinomialNB, GaussianNB, BernoulliNB\n\nfrom sklearn.linear_model import LogisticRegression, SGDClassifier\nfrom sklearn.svm import SVC, LinearSVC, NuSVC\n\nfrom nltk.classify import ClassifierI\nfrom statistics import mode\n\n\n\nclass VoteClassifier(ClassifierI):\n    def __init__(self, *classifiers):\n        self._classifiers = classifiers\n    \n    def classify(self, features):\n        votes = []\n        for c in self._classifiers:\n            v = c.classify(features)\n            votes.append(v)\n        return mode(votes)\n    \n    def confidence(self, features):\n        \n        votes = []\n        for c in self._classifiers:\n            v = c.classify(features)\n            votes.append(v)\n        \n        choice_votes = votes.count(mode(votes))\n        conf = choice_votes / len(votes)\n        return conf\n        \ndocuments_f = open(\"pickled_algorithms/documents.pickle\", \"rb\")\ndocuments = pickle.load(documents_f)\ndocuments_f.close()\n\nword_features_f = open(\"pickled_algorithms/word_features.pickle\", \"rb\")\nword_features = pickle.load(word_features_f)\nword_features_f.close()\n\n\ndef find_features(document):\n    words = word_tokenize(document)\n    features = {}\n    for w in word_features:\n        features[w] = (w in words)\n    \n    return features"
  }
 },
 "nbformat": 4,
 "nbformat_minor": 2
}
