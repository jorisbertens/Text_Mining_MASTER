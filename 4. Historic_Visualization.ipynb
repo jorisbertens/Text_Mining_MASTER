{
 "cells": [
  {
   "cell_type": "markdown",
   "metadata": {},
   "source": [
    "### Importing and preparing the tweets"
   ]
  },
  {
   "cell_type": "code",
   "execution_count": 1,
   "metadata": {
    "scrolled": true
   },
   "outputs": [
    {
     "data": {
      "text/html": [
       "<div>\n",
       "<style scoped>\n",
       "    .dataframe tbody tr th:only-of-type {\n",
       "        vertical-align: middle;\n",
       "    }\n",
       "\n",
       "    .dataframe tbody tr th {\n",
       "        vertical-align: top;\n",
       "    }\n",
       "\n",
       "    .dataframe thead th {\n",
       "        text-align: right;\n",
       "    }\n",
       "</style>\n",
       "<table border=\"1\" class=\"dataframe\">\n",
       "  <thead>\n",
       "    <tr style=\"text-align: right;\">\n",
       "      <th></th>\n",
       "      <th>datetime</th>\n",
       "      <th>text</th>\n",
       "      <th>Language</th>\n",
       "      <th>sentiment_textblob</th>\n",
       "      <th>sentiment_nltk</th>\n",
       "    </tr>\n",
       "  </thead>\n",
       "  <tbody>\n",
       "    <tr>\n",
       "      <th>0</th>\n",
       "      <td>2019-01-01 00:00:00</td>\n",
       "      <td>bitcoin unit price market cap hr vol</td>\n",
       "      <td>en</td>\n",
       "      <td>neutral</td>\n",
       "      <td>neutral</td>\n",
       "    </tr>\n",
       "    <tr>\n",
       "      <th>1</th>\n",
       "      <td>2019-01-01 00:00:00</td>\n",
       "      <td>learn ses bitcoin lowest average daily price c...</td>\n",
       "      <td>en</td>\n",
       "      <td>negative</td>\n",
       "      <td>negative</td>\n",
       "    </tr>\n",
       "    <tr>\n",
       "      <th>3</th>\n",
       "      <td>2019-01-01 00:00:01</td>\n",
       "      <td>iam platform curated retwet via twiter com _al...</td>\n",
       "      <td>en</td>\n",
       "      <td>positive</td>\n",
       "      <td>neutral</td>\n",
       "    </tr>\n",
       "    <tr>\n",
       "      <th>4</th>\n",
       "      <td>2019-01-01 00:00:01</td>\n",
       "      <td>bitcoin btc price change h market cap ranking ...</td>\n",
       "      <td>en</td>\n",
       "      <td>neutral</td>\n",
       "      <td>neutral</td>\n",
       "    </tr>\n",
       "    <tr>\n",
       "      <th>5</th>\n",
       "      <td>2019-01-01 00:00:01</td>\n",
       "      <td>iam platform curated retwet via twiter com rea...</td>\n",
       "      <td>en</td>\n",
       "      <td>positive</td>\n",
       "      <td>positive</td>\n",
       "    </tr>\n",
       "  </tbody>\n",
       "</table>\n",
       "</div>"
      ],
      "text/plain": [
       "              datetime                                               text  \\\n",
       "0  2019-01-01 00:00:00               bitcoin unit price market cap hr vol   \n",
       "1  2019-01-01 00:00:00  learn ses bitcoin lowest average daily price c...   \n",
       "3  2019-01-01 00:00:01  iam platform curated retwet via twiter com _al...   \n",
       "4  2019-01-01 00:00:01  bitcoin btc price change h market cap ranking ...   \n",
       "5  2019-01-01 00:00:01  iam platform curated retwet via twiter com rea...   \n",
       "\n",
       "  Language sentiment_textblob sentiment_nltk  \n",
       "0       en            neutral        neutral  \n",
       "1       en           negative       negative  \n",
       "3       en           positive        neutral  \n",
       "4       en            neutral        neutral  \n",
       "5       en           positive       positive  "
      ]
     },
     "execution_count": 1,
     "metadata": {},
     "output_type": "execute_result"
    }
   ],
   "source": [
    "# importing data set after sentiment analysis\n",
    "import pickle\n",
    "\n",
    "pickle_tweets = open(r\"C:\\Users\\Axel\\Downloads\\df_nltk.pickle\", \"rb\")\n",
    "example_tweets = pickle.load(pickle_tweets)\n",
    "example_tweets.head()"
   ]
  },
  {
   "cell_type": "code",
   "execution_count": 2,
   "metadata": {},
   "outputs": [],
   "source": [
    "# creating dataframe\n",
    "import pandas as pd\n",
    "example_tweets[\"datetime\"] = pd.to_datetime(example_tweets[\"datetime\"])\n",
    "example_tweets = example_tweets.set_index(\"datetime\")\n",
    "example_tweets[\"day\"] = example_tweets.index.day"
   ]
  },
  {
   "cell_type": "code",
   "execution_count": 3,
   "metadata": {},
   "outputs": [],
   "source": [
    "# get counts per day and sentiment\n",
    "pnn_counts_textblob = example_tweets.groupby([\"day\", \"sentiment_textblob\"])[\"text\"].count()\n",
    "pnn_counts_textblob = pnn_counts_textblob.to_frame()\n",
    "pnn_counts_textblob = pnn_counts_textblob.reset_index()\n",
    "pnn_counts_textblob = pnn_counts_textblob.rename(columns= {\"text\":\"textblob_count\"})\n",
    "\n",
    "pnn_counts_nltk = example_tweets.groupby([\"day\", \"sentiment_nltk\"])[\"text\"].count()\n",
    "pnn_counts_nltk = pnn_counts_nltk.to_frame()\n",
    "pnn_counts_nltk = pnn_counts_nltk.reset_index()\n",
    "pnn_counts_nltk = pnn_counts_nltk.rename(columns= {\"text\":\"nltk_count\"})"
   ]
  },
  {
   "cell_type": "code",
   "execution_count": 4,
   "metadata": {},
   "outputs": [
    {
     "data": {
      "text/html": [
       "<div>\n",
       "<style scoped>\n",
       "    .dataframe tbody tr th:only-of-type {\n",
       "        vertical-align: middle;\n",
       "    }\n",
       "\n",
       "    .dataframe tbody tr th {\n",
       "        vertical-align: top;\n",
       "    }\n",
       "\n",
       "    .dataframe thead th {\n",
       "        text-align: right;\n",
       "    }\n",
       "</style>\n",
       "<table border=\"1\" class=\"dataframe\">\n",
       "  <thead>\n",
       "    <tr style=\"text-align: right;\">\n",
       "      <th></th>\n",
       "      <th>day</th>\n",
       "      <th>sentiment_nltk</th>\n",
       "      <th>nltk_count</th>\n",
       "      <th>textblob_count</th>\n",
       "    </tr>\n",
       "  </thead>\n",
       "  <tbody>\n",
       "    <tr>\n",
       "      <th>0</th>\n",
       "      <td>1</td>\n",
       "      <td>negative</td>\n",
       "      <td>2270</td>\n",
       "      <td>1810</td>\n",
       "    </tr>\n",
       "    <tr>\n",
       "      <th>1</th>\n",
       "      <td>1</td>\n",
       "      <td>neutral</td>\n",
       "      <td>8114</td>\n",
       "      <td>9773</td>\n",
       "    </tr>\n",
       "    <tr>\n",
       "      <th>2</th>\n",
       "      <td>1</td>\n",
       "      <td>positive</td>\n",
       "      <td>7618</td>\n",
       "      <td>6419</td>\n",
       "    </tr>\n",
       "    <tr>\n",
       "      <th>3</th>\n",
       "      <td>2</td>\n",
       "      <td>negative</td>\n",
       "      <td>3637</td>\n",
       "      <td>2733</td>\n",
       "    </tr>\n",
       "    <tr>\n",
       "      <th>4</th>\n",
       "      <td>2</td>\n",
       "      <td>neutral</td>\n",
       "      <td>8885</td>\n",
       "      <td>12052</td>\n",
       "    </tr>\n",
       "    <tr>\n",
       "      <th>5</th>\n",
       "      <td>2</td>\n",
       "      <td>positive</td>\n",
       "      <td>9409</td>\n",
       "      <td>7146</td>\n",
       "    </tr>\n",
       "    <tr>\n",
       "      <th>6</th>\n",
       "      <td>3</td>\n",
       "      <td>negative</td>\n",
       "      <td>4473</td>\n",
       "      <td>2673</td>\n",
       "    </tr>\n",
       "    <tr>\n",
       "      <th>7</th>\n",
       "      <td>3</td>\n",
       "      <td>neutral</td>\n",
       "      <td>10802</td>\n",
       "      <td>15137</td>\n",
       "    </tr>\n",
       "    <tr>\n",
       "      <th>8</th>\n",
       "      <td>3</td>\n",
       "      <td>positive</td>\n",
       "      <td>12174</td>\n",
       "      <td>9639</td>\n",
       "    </tr>\n",
       "  </tbody>\n",
       "</table>\n",
       "</div>"
      ],
      "text/plain": [
       "   day sentiment_nltk  nltk_count  textblob_count\n",
       "0    1       negative        2270            1810\n",
       "1    1        neutral        8114            9773\n",
       "2    1       positive        7618            6419\n",
       "3    2       negative        3637            2733\n",
       "4    2        neutral        8885           12052\n",
       "5    2       positive        9409            7146\n",
       "6    3       negative        4473            2673\n",
       "7    3        neutral       10802           15137\n",
       "8    3       positive       12174            9639"
      ]
     },
     "execution_count": 4,
     "metadata": {},
     "output_type": "execute_result"
    }
   ],
   "source": [
    "# merge counts to dataframe\n",
    "textblob_count = pnn_counts_textblob[\"textblob_count\"].tolist()\n",
    "pnn_counts_nltk[\"textblob_count\"] = textblob_count\n",
    "pnn_counts_nltk\n",
    "\n",
    "pnn_counts = pnn_counts_nltk\n",
    "pnn_counts = pnn_counts.rename(columns= {\"NLTK_Sentiment\":\"sentiment\"})\n",
    "pnn_counts.head(9)"
   ]
  },
  {
   "cell_type": "code",
   "execution_count": 5,
   "metadata": {},
   "outputs": [],
   "source": [
    "indexNames = pnn_counts[pnn_counts['sentiment_nltk'] == 'neutral' ].index\n",
    " \n",
    "# Delete these row indexes from dataFrame\n",
    "pnn_counts.drop(indexNames , inplace=True)"
   ]
  },
  {
   "cell_type": "code",
   "execution_count": 6,
   "metadata": {},
   "outputs": [],
   "source": [
    "# get only positives and negatives from nltk\n",
    "pnn_pos_nltk = pnn_counts[pnn_counts['sentiment_nltk'] == 'positive']\n",
    "pnn_neg_nltk = pnn_counts[pnn_counts['sentiment_nltk'] == 'negative']"
   ]
  },
  {
   "cell_type": "code",
   "execution_count": 7,
   "metadata": {},
   "outputs": [],
   "source": [
    "# drop textblob and rename columns\n",
    "pnn_pos_nltk = pnn_pos_nltk.drop(['textblob_count', 'sentiment_nltk'], axis=1)\n",
    "pnn_neg_nltk = pnn_neg_nltk.drop(['textblob_count', 'sentiment_nltk'], axis=1)\n",
    "pnn_pos_nltk = pnn_pos_nltk.rename(columns={'nltk_count':'positive'})\n",
    "pnn_neg_nltk = pnn_neg_nltk.rename(columns={'nltk_count':'negative'})"
   ]
  },
  {
   "cell_type": "code",
   "execution_count": 8,
   "metadata": {},
   "outputs": [],
   "source": [
    "# get only positives and negatives from textblob\n",
    "pnn_pos_txtb = pnn_counts[pnn_counts['sentiment_nltk'] == 'positive']\n",
    "pnn_neg_txtb = pnn_counts[pnn_counts['sentiment_nltk'] == 'negative']"
   ]
  },
  {
   "cell_type": "code",
   "execution_count": 9,
   "metadata": {},
   "outputs": [],
   "source": [
    "# drop nltk and rename columns\n",
    "pnn_pos_txtb = pnn_pos_txtb.drop(['nltk_count', 'sentiment_nltk'], axis=1)\n",
    "pnn_neg_txtb = pnn_neg_txtb.drop(['nltk_count', 'sentiment_nltk'], axis=1)\n",
    "pnn_pos_txtb = pnn_pos_txtb.rename(columns={'textblob_count':'positive'})\n",
    "pnn_neg_txtb = pnn_neg_txtb.rename(columns={'textblob_count':'negative'})"
   ]
  },
  {
   "cell_type": "code",
   "execution_count": 10,
   "metadata": {},
   "outputs": [],
   "source": [
    "# merge positives and negatives for both\n",
    "pnn_nltk = pnn_pos_nltk.merge(pnn_neg_nltk, on='day')\n",
    "pnn_txtb = pnn_pos_txtb.merge(pnn_neg_txtb, on='day')"
   ]
  },
  {
   "cell_type": "code",
   "execution_count": 11,
   "metadata": {},
   "outputs": [],
   "source": [
    "# get overall sentiment count\n",
    "pnn_nltk['Overall'] = pnn_nltk[\"positive\"] - pnn_nltk[\"negative\"]\n",
    "pnn_txtb['Overall'] = pnn_txtb[\"positive\"] - pnn_txtb[\"negative\"]"
   ]
  },
  {
   "cell_type": "code",
   "execution_count": 12,
   "metadata": {},
   "outputs": [],
   "source": [
    "# get % change per day\n",
    "pnn_nltk['Sentiment'] = pnn_nltk['Overall'].copy()\n",
    "pnn_nltk['Sentiment'] = pnn_nltk['Overall'].pct_change()\n",
    "pnn_nltk['Sentiment'] = pnn_nltk['Sentiment'].fillna(0)\n",
    "\n",
    "pnn_txtb['Sentiment'] = pnn_txtb['Overall'].copy()\n",
    "pnn_txtb['Sentiment'] = pnn_txtb['Sentiment'].pct_change()\n",
    "pnn_txtb['Sentiment'] = pnn_txtb['Sentiment'].fillna(0)"
   ]
  },
  {
   "cell_type": "code",
   "execution_count": 13,
   "metadata": {},
   "outputs": [
    {
     "data": {
      "text/html": [
       "<div>\n",
       "<style scoped>\n",
       "    .dataframe tbody tr th:only-of-type {\n",
       "        vertical-align: middle;\n",
       "    }\n",
       "\n",
       "    .dataframe tbody tr th {\n",
       "        vertical-align: top;\n",
       "    }\n",
       "\n",
       "    .dataframe thead th {\n",
       "        text-align: right;\n",
       "    }\n",
       "</style>\n",
       "<table border=\"1\" class=\"dataframe\">\n",
       "  <thead>\n",
       "    <tr style=\"text-align: right;\">\n",
       "      <th></th>\n",
       "      <th>day</th>\n",
       "      <th>positive</th>\n",
       "      <th>negative</th>\n",
       "      <th>Overall</th>\n",
       "      <th>Sentiment</th>\n",
       "    </tr>\n",
       "  </thead>\n",
       "  <tbody>\n",
       "    <tr>\n",
       "      <th>0</th>\n",
       "      <td>1</td>\n",
       "      <td>7618</td>\n",
       "      <td>2270</td>\n",
       "      <td>5348</td>\n",
       "      <td>0.000000</td>\n",
       "    </tr>\n",
       "    <tr>\n",
       "      <th>1</th>\n",
       "      <td>2</td>\n",
       "      <td>9409</td>\n",
       "      <td>3637</td>\n",
       "      <td>5772</td>\n",
       "      <td>0.079282</td>\n",
       "    </tr>\n",
       "    <tr>\n",
       "      <th>2</th>\n",
       "      <td>3</td>\n",
       "      <td>12174</td>\n",
       "      <td>4473</td>\n",
       "      <td>7701</td>\n",
       "      <td>0.334200</td>\n",
       "    </tr>\n",
       "    <tr>\n",
       "      <th>3</th>\n",
       "      <td>4</td>\n",
       "      <td>10298</td>\n",
       "      <td>3263</td>\n",
       "      <td>7035</td>\n",
       "      <td>-0.086482</td>\n",
       "    </tr>\n",
       "    <tr>\n",
       "      <th>4</th>\n",
       "      <td>5</td>\n",
       "      <td>8335</td>\n",
       "      <td>2595</td>\n",
       "      <td>5740</td>\n",
       "      <td>-0.184080</td>\n",
       "    </tr>\n",
       "  </tbody>\n",
       "</table>\n",
       "</div>"
      ],
      "text/plain": [
       "   day  positive  negative  Overall  Sentiment\n",
       "0    1      7618      2270     5348   0.000000\n",
       "1    2      9409      3637     5772   0.079282\n",
       "2    3     12174      4473     7701   0.334200\n",
       "3    4     10298      3263     7035  -0.086482\n",
       "4    5      8335      2595     5740  -0.184080"
      ]
     },
     "execution_count": 13,
     "metadata": {},
     "output_type": "execute_result"
    }
   ],
   "source": [
    "pnn_nltk.head()"
   ]
  },
  {
   "cell_type": "markdown",
   "metadata": {},
   "source": [
    "### Importing and preparing bitcoin dataset"
   ]
  },
  {
   "cell_type": "code",
   "execution_count": 14,
   "metadata": {},
   "outputs": [],
   "source": [
    "# import data\n",
    "bit = pd.read_csv(r'C:\\Users\\Axel\\Downloads\\BTC_USD_2018-12-31_2019-01-31-CoinDesk.csv')"
   ]
  },
  {
   "cell_type": "code",
   "execution_count": 15,
   "metadata": {},
   "outputs": [],
   "source": [
    "# get datetime\n",
    "bit['Date'] = pd.to_datetime(bit['Date'])"
   ]
  },
  {
   "cell_type": "code",
   "execution_count": 16,
   "metadata": {},
   "outputs": [
    {
     "data": {
      "text/html": [
       "<div>\n",
       "<style scoped>\n",
       "    .dataframe tbody tr th:only-of-type {\n",
       "        vertical-align: middle;\n",
       "    }\n",
       "\n",
       "    .dataframe tbody tr th {\n",
       "        vertical-align: top;\n",
       "    }\n",
       "\n",
       "    .dataframe thead th {\n",
       "        text-align: right;\n",
       "    }\n",
       "</style>\n",
       "<table border=\"1\" class=\"dataframe\">\n",
       "  <thead>\n",
       "    <tr style=\"text-align: right;\">\n",
       "      <th></th>\n",
       "      <th>Currency</th>\n",
       "      <th>Date</th>\n",
       "      <th>Closing Price (USD)</th>\n",
       "      <th>24h Open (USD)</th>\n",
       "      <th>24h High (USD)</th>\n",
       "      <th>24h Low (USD)</th>\n",
       "      <th>Closing Price (USD) %</th>\n",
       "    </tr>\n",
       "  </thead>\n",
       "  <tbody>\n",
       "    <tr>\n",
       "      <th>1</th>\n",
       "      <td>BTC</td>\n",
       "      <td>2019-01-01 22:59:58+00:00</td>\n",
       "      <td>3715.564441</td>\n",
       "      <td>3693.330067</td>\n",
       "      <td>3741.881855</td>\n",
       "      <td>3644.876282</td>\n",
       "      <td>0.000000</td>\n",
       "    </tr>\n",
       "    <tr>\n",
       "      <th>2</th>\n",
       "      <td>BTC</td>\n",
       "      <td>2019-01-02 22:59:59+00:00</td>\n",
       "      <td>3882.304754</td>\n",
       "      <td>3715.564384</td>\n",
       "      <td>3900.709127</td>\n",
       "      <td>3711.274108</td>\n",
       "      <td>0.044876</td>\n",
       "    </tr>\n",
       "    <tr>\n",
       "      <th>3</th>\n",
       "      <td>BTC</td>\n",
       "      <td>2019-01-03 23:00:00+00:00</td>\n",
       "      <td>3795.592741</td>\n",
       "      <td>3882.303622</td>\n",
       "      <td>3916.197684</td>\n",
       "      <td>3760.944042</td>\n",
       "      <td>-0.022335</td>\n",
       "    </tr>\n",
       "    <tr>\n",
       "      <th>4</th>\n",
       "      <td>BTC</td>\n",
       "      <td>2019-01-04 22:59:59+00:00</td>\n",
       "      <td>3812.381108</td>\n",
       "      <td>3781.020706</td>\n",
       "      <td>3844.986111</td>\n",
       "      <td>3725.739663</td>\n",
       "      <td>0.004423</td>\n",
       "    </tr>\n",
       "    <tr>\n",
       "      <th>5</th>\n",
       "      <td>BTC</td>\n",
       "      <td>2019-01-05 23:00:00+00:00</td>\n",
       "      <td>3809.914343</td>\n",
       "      <td>3812.381119</td>\n",
       "      <td>3866.417432</td>\n",
       "      <td>3775.828878</td>\n",
       "      <td>-0.000647</td>\n",
       "    </tr>\n",
       "  </tbody>\n",
       "</table>\n",
       "</div>"
      ],
      "text/plain": [
       "  Currency                      Date  Closing Price (USD)  24h Open (USD)  \\\n",
       "1      BTC 2019-01-01 22:59:58+00:00          3715.564441     3693.330067   \n",
       "2      BTC 2019-01-02 22:59:59+00:00          3882.304754     3715.564384   \n",
       "3      BTC 2019-01-03 23:00:00+00:00          3795.592741     3882.303622   \n",
       "4      BTC 2019-01-04 22:59:59+00:00          3812.381108     3781.020706   \n",
       "5      BTC 2019-01-05 23:00:00+00:00          3809.914343     3812.381119   \n",
       "\n",
       "   24h High (USD)  24h Low (USD)  Closing Price (USD) %  \n",
       "1     3741.881855    3644.876282               0.000000  \n",
       "2     3900.709127    3711.274108               0.044876  \n",
       "3     3916.197684    3760.944042              -0.022335  \n",
       "4     3844.986111    3725.739663               0.004423  \n",
       "5     3866.417432    3775.828878              -0.000647  "
      ]
     },
     "execution_count": 16,
     "metadata": {},
     "output_type": "execute_result"
    }
   ],
   "source": [
    "# get % change per day\n",
    "bit = bit.drop(0)\n",
    "bit['Closing Price (USD) %'] = bit['Closing Price (USD)'].pct_change()\n",
    "#bit['Closing Price (USD)'] = np.log(bit['Closing Price (USD)'])\n",
    "bit['Closing Price (USD) %'] = bit['Closing Price (USD) %'].fillna(0)\n",
    "bit.head()"
   ]
  },
  {
   "cell_type": "code",
   "execution_count": 17,
   "metadata": {},
   "outputs": [],
   "source": [
    "# rename column\n",
    "bit['Closing Price BTC'] = bit['Closing Price (USD) %']"
   ]
  },
  {
   "cell_type": "markdown",
   "metadata": {},
   "source": [
    "### Importing and preparing unprocessed tweet set for overall tweetcount"
   ]
  },
  {
   "cell_type": "code",
   "execution_count": 18,
   "metadata": {},
   "outputs": [],
   "source": [
    "# import dataset\n",
    "tweets = pd.read_csv(r'C:\\Users\\Axel\\Downloads\\tweets_df.csv', sep='\\t')"
   ]
  },
  {
   "cell_type": "code",
   "execution_count": 19,
   "metadata": {},
   "outputs": [
    {
     "data": {
      "text/html": [
       "<div>\n",
       "<style scoped>\n",
       "    .dataframe tbody tr th:only-of-type {\n",
       "        vertical-align: middle;\n",
       "    }\n",
       "\n",
       "    .dataframe tbody tr th {\n",
       "        vertical-align: top;\n",
       "    }\n",
       "\n",
       "    .dataframe thead th {\n",
       "        text-align: right;\n",
       "    }\n",
       "</style>\n",
       "<table border=\"1\" class=\"dataframe\">\n",
       "  <thead>\n",
       "    <tr style=\"text-align: right;\">\n",
       "      <th></th>\n",
       "      <th>Unnamed: 0</th>\n",
       "      <th>Date</th>\n",
       "      <th>Tweet</th>\n",
       "      <th>Language</th>\n",
       "    </tr>\n",
       "  </thead>\n",
       "  <tbody>\n",
       "    <tr>\n",
       "      <th>0</th>\n",
       "      <td>0</td>\n",
       "      <td>2019-01-01 00:00:00</td>\n",
       "      <td>Bitcoin with unit price of  market cap of   ...</td>\n",
       "      <td>en</td>\n",
       "    </tr>\n",
       "    <tr>\n",
       "      <th>1</th>\n",
       "      <td>1</td>\n",
       "      <td>2019-01-01 00:00:00</td>\n",
       "      <td>Learn it  Ses Bitcoin s Lowest Average Daily P...</td>\n",
       "      <td>en</td>\n",
       "    </tr>\n",
       "    <tr>\n",
       "      <th>2</th>\n",
       "      <td>2</td>\n",
       "      <td>2019-01-01 00:00:01</td>\n",
       "      <td>BTC : : ETH : : IXT : : bitcoin ethereum ixt...</td>\n",
       "      <td>en</td>\n",
       "    </tr>\n",
       "    <tr>\n",
       "      <th>3</th>\n",
       "      <td>3</td>\n",
       "      <td>2019-01-01 00:00:01</td>\n",
       "      <td>IAM Platform Curated Retwet: Via: twitercomalt...</td>\n",
       "      <td>en</td>\n",
       "    </tr>\n",
       "    <tr>\n",
       "      <th>4</th>\n",
       "      <td>4</td>\n",
       "      <td>2019-01-01 00:00:01</td>\n",
       "      <td>Bitcoin BTC Price:  Change in h:  Market cap: ...</td>\n",
       "      <td>en</td>\n",
       "    </tr>\n",
       "  </tbody>\n",
       "</table>\n",
       "</div>"
      ],
      "text/plain": [
       "   Unnamed: 0                 Date  \\\n",
       "0           0  2019-01-01 00:00:00   \n",
       "1           1  2019-01-01 00:00:00   \n",
       "2           2  2019-01-01 00:00:01   \n",
       "3           3  2019-01-01 00:00:01   \n",
       "4           4  2019-01-01 00:00:01   \n",
       "\n",
       "                                               Tweet Language  \n",
       "0    Bitcoin with unit price of  market cap of   ...       en  \n",
       "1  Learn it  Ses Bitcoin s Lowest Average Daily P...       en  \n",
       "2    BTC : : ETH : : IXT : : bitcoin ethereum ixt...       en  \n",
       "3  IAM Platform Curated Retwet: Via: twitercomalt...       en  \n",
       "4  Bitcoin BTC Price:  Change in h:  Market cap: ...       en  "
      ]
     },
     "execution_count": 19,
     "metadata": {},
     "output_type": "execute_result"
    }
   ],
   "source": [
    "tweets.head()"
   ]
  },
  {
   "cell_type": "code",
   "execution_count": 20,
   "metadata": {},
   "outputs": [],
   "source": [
    "# get datetime\n",
    "tweets['Date'] = pd.to_datetime(tweets['Date'])"
   ]
  },
  {
   "cell_type": "code",
   "execution_count": 21,
   "metadata": {},
   "outputs": [],
   "source": [
    "# group by day\n",
    "tweets = tweets.groupby([pd.Grouper(key='Date',freq='d')]).size().reset_index(name='Tweet Count')"
   ]
  },
  {
   "cell_type": "code",
   "execution_count": 22,
   "metadata": {},
   "outputs": [],
   "source": [
    "# get % change by day\n",
    "tweets['Tweet Count %'] = tweets['Tweet Count'].copy()\n",
    "tweets['Tweet Count %'] = tweets['Tweet Count'].pct_change()\n",
    "tweets['Tweet Count %'] = tweets['Tweet Count %'].fillna(0)"
   ]
  },
  {
   "cell_type": "code",
   "execution_count": 23,
   "metadata": {},
   "outputs": [
    {
     "data": {
      "text/html": [
       "<div>\n",
       "<style scoped>\n",
       "    .dataframe tbody tr th:only-of-type {\n",
       "        vertical-align: middle;\n",
       "    }\n",
       "\n",
       "    .dataframe tbody tr th {\n",
       "        vertical-align: top;\n",
       "    }\n",
       "\n",
       "    .dataframe thead th {\n",
       "        text-align: right;\n",
       "    }\n",
       "</style>\n",
       "<table border=\"1\" class=\"dataframe\">\n",
       "  <thead>\n",
       "    <tr style=\"text-align: right;\">\n",
       "      <th></th>\n",
       "      <th>Date</th>\n",
       "      <th>Tweet Count</th>\n",
       "      <th>Tweet Count %</th>\n",
       "    </tr>\n",
       "  </thead>\n",
       "  <tbody>\n",
       "    <tr>\n",
       "      <th>0</th>\n",
       "      <td>2019-01-01</td>\n",
       "      <td>20599</td>\n",
       "      <td>0.000000</td>\n",
       "    </tr>\n",
       "    <tr>\n",
       "      <th>1</th>\n",
       "      <td>2019-01-02</td>\n",
       "      <td>25312</td>\n",
       "      <td>0.228798</td>\n",
       "    </tr>\n",
       "    <tr>\n",
       "      <th>2</th>\n",
       "      <td>2019-01-03</td>\n",
       "      <td>31697</td>\n",
       "      <td>0.252252</td>\n",
       "    </tr>\n",
       "    <tr>\n",
       "      <th>3</th>\n",
       "      <td>2019-01-04</td>\n",
       "      <td>26647</td>\n",
       "      <td>-0.159321</td>\n",
       "    </tr>\n",
       "    <tr>\n",
       "      <th>4</th>\n",
       "      <td>2019-01-05</td>\n",
       "      <td>21415</td>\n",
       "      <td>-0.196345</td>\n",
       "    </tr>\n",
       "  </tbody>\n",
       "</table>\n",
       "</div>"
      ],
      "text/plain": [
       "        Date  Tweet Count  Tweet Count %\n",
       "0 2019-01-01        20599       0.000000\n",
       "1 2019-01-02        25312       0.228798\n",
       "2 2019-01-03        31697       0.252252\n",
       "3 2019-01-04        26647      -0.159321\n",
       "4 2019-01-05        21415      -0.196345"
      ]
     },
     "execution_count": 23,
     "metadata": {},
     "output_type": "execute_result"
    }
   ],
   "source": [
    "tweets.head()"
   ]
  },
  {
   "cell_type": "markdown",
   "metadata": {},
   "source": [
    "### Import and prepare IMdb data"
   ]
  },
  {
   "cell_type": "code",
   "execution_count": 58,
   "metadata": {},
   "outputs": [
    {
     "data": {
      "text/html": [
       "<div>\n",
       "<style scoped>\n",
       "    .dataframe tbody tr th:only-of-type {\n",
       "        vertical-align: middle;\n",
       "    }\n",
       "\n",
       "    .dataframe tbody tr th {\n",
       "        vertical-align: top;\n",
       "    }\n",
       "\n",
       "    .dataframe thead th {\n",
       "        text-align: right;\n",
       "    }\n",
       "</style>\n",
       "<table border=\"1\" class=\"dataframe\">\n",
       "  <thead>\n",
       "    <tr style=\"text-align: right;\">\n",
       "      <th></th>\n",
       "      <th>datetime</th>\n",
       "      <th>text</th>\n",
       "      <th>Language</th>\n",
       "      <th>sentiment_textblob</th>\n",
       "      <th>sentiment_nltk</th>\n",
       "      <th>sentiment_imdb_classifiers</th>\n",
       "    </tr>\n",
       "  </thead>\n",
       "  <tbody>\n",
       "    <tr>\n",
       "      <th>633807</th>\n",
       "      <td>2019-01-25 23:00:41</td>\n",
       "      <td>wal stret davos want blockchain bitcoin crypto...</td>\n",
       "      <td>en</td>\n",
       "      <td>neutral</td>\n",
       "      <td>positive</td>\n",
       "      <td>neg</td>\n",
       "    </tr>\n",
       "    <tr>\n",
       "      <th>483583</th>\n",
       "      <td>2019-01-20 02:54:11</td>\n",
       "      <td>walmart liquorstores al florida al city get le...</td>\n",
       "      <td>en</td>\n",
       "      <td>negative</td>\n",
       "      <td>neutral</td>\n",
       "      <td>pos</td>\n",
       "    </tr>\n",
       "    <tr>\n",
       "      <th>713253</th>\n",
       "      <td>2019-01-29 11:15:01</td>\n",
       "      <td>chicago fast becoming bitcoin atm hot spot new...</td>\n",
       "      <td>en</td>\n",
       "      <td>positive</td>\n",
       "      <td>neutral</td>\n",
       "      <td>neg</td>\n",
       "    </tr>\n",
       "    <tr>\n",
       "      <th>486363</th>\n",
       "      <td>2019-01-20 07:00:44</td>\n",
       "      <td>buy btc usd bitcoin us dolar h time frame cure...</td>\n",
       "      <td>en</td>\n",
       "      <td>neutral</td>\n",
       "      <td>neutral</td>\n",
       "      <td>neg</td>\n",
       "    </tr>\n",
       "    <tr>\n",
       "      <th>128062</th>\n",
       "      <td>2019-01-06 00:14:53</td>\n",
       "      <td>al bitcoin</td>\n",
       "      <td>en</td>\n",
       "      <td>neutral</td>\n",
       "      <td>neutral</td>\n",
       "      <td>neg</td>\n",
       "    </tr>\n",
       "  </tbody>\n",
       "</table>\n",
       "</div>"
      ],
      "text/plain": [
       "                   datetime  \\\n",
       "633807  2019-01-25 23:00:41   \n",
       "483583  2019-01-20 02:54:11   \n",
       "713253  2019-01-29 11:15:01   \n",
       "486363  2019-01-20 07:00:44   \n",
       "128062  2019-01-06 00:14:53   \n",
       "\n",
       "                                                     text Language  \\\n",
       "633807  wal stret davos want blockchain bitcoin crypto...       en   \n",
       "483583  walmart liquorstores al florida al city get le...       en   \n",
       "713253  chicago fast becoming bitcoin atm hot spot new...       en   \n",
       "486363  buy btc usd bitcoin us dolar h time frame cure...       en   \n",
       "128062                                         al bitcoin       en   \n",
       "\n",
       "       sentiment_textblob sentiment_nltk sentiment_imdb_classifiers  \n",
       "633807            neutral       positive                        neg  \n",
       "483583           negative        neutral                        pos  \n",
       "713253           positive        neutral                        neg  \n",
       "486363            neutral        neutral                        neg  \n",
       "128062            neutral        neutral                        neg  "
      ]
     },
     "execution_count": 58,
     "metadata": {},
     "output_type": "execute_result"
    }
   ],
   "source": [
    "# importing data set after sentiment analysis\n",
    "import pickle\n",
    "\n",
    "pickle_tweets = open(r\"C:\\Users\\Axel\\Downloads\\df_sentiment_imdb_sample.pickle\", \"rb\")\n",
    "imdb = pickle.load(pickle_tweets)\n",
    "imdb.head()"
   ]
  },
  {
   "cell_type": "code",
   "execution_count": 59,
   "metadata": {},
   "outputs": [],
   "source": [
    "# creating dataframe\n",
    "import pandas as pd\n",
    "imdb[\"datetime\"] = pd.to_datetime(imdb[\"datetime\"])\n",
    "imdb = imdb.set_index(\"datetime\")\n",
    "imdb[\"day\"] = imdb.index.day"
   ]
  },
  {
   "cell_type": "code",
   "execution_count": 60,
   "metadata": {},
   "outputs": [],
   "source": [
    "# get counts per day and sentiment\n",
    "pnn_counts_imdb = imdb.groupby([\"day\", \"sentiment_imdb_classifiers\"])[\"text\"].count()\n",
    "pnn_counts_imdb = pnn_counts_imdb.to_frame()\n",
    "pnn_counts_imdb = pnn_counts_imdb.reset_index()\n",
    "pnn_counts_imdb = pnn_counts_imdb.rename(columns= {\"text\":\"imdb_count\"})"
   ]
  },
  {
   "cell_type": "code",
   "execution_count": 65,
   "metadata": {},
   "outputs": [],
   "source": [
    "indexNames = pnn_counts_imdb[pnn_counts_imdb['sentiment_imdb_classifiers'] == 'neutral' ].index\n",
    " \n",
    "# Delete these row indexes from dataFrame\n",
    "pnn_counts_imdb.drop(indexNames, inplace=True)"
   ]
  },
  {
   "cell_type": "code",
   "execution_count": 66,
   "metadata": {},
   "outputs": [],
   "source": [
    "# get only positives and negatives from imdb\n",
    "pnn_pos_imdb = pnn_counts_imdb[pnn_counts_imdb['sentiment_imdb_classifiers'] == 'pos']\n",
    "pnn_neg_imdb = pnn_counts_imdb[pnn_counts_imdb['sentiment_imdb_classifiers'] == 'neg']"
   ]
  },
  {
   "cell_type": "code",
   "execution_count": 70,
   "metadata": {},
   "outputs": [],
   "source": [
    "pnn_pos_imdb = pnn_pos_imdb.rename(columns={'imdb_count':'positive'})\n",
    "pnn_neg_imdb = pnn_neg_imdb.rename(columns={'imdb_count':'negative'})"
   ]
  },
  {
   "cell_type": "code",
   "execution_count": 71,
   "metadata": {},
   "outputs": [],
   "source": [
    "# merge positives and negatives for both\n",
    "pnn_imdb = pnn_pos_imdb.merge(pnn_neg_imdb, on='day')"
   ]
  },
  {
   "cell_type": "code",
   "execution_count": 72,
   "metadata": {},
   "outputs": [],
   "source": [
    "# get overall sentiment count\n",
    "pnn_imdb['Overall'] = pnn_imdb[\"positive\"] - pnn_imdb[\"negative\"]"
   ]
  },
  {
   "cell_type": "code",
   "execution_count": 73,
   "metadata": {},
   "outputs": [],
   "source": [
    "# get % change per day\n",
    "pnn_imdb['Sentiment'] = pnn_imdb['Overall'].copy()\n",
    "pnn_imdb['Sentiment'] = pnn_imdb['Overall'].pct_change()\n",
    "pnn_imdb['Sentiment'] = pnn_imdb['Sentiment'].fillna(0)"
   ]
  },
  {
   "cell_type": "code",
   "execution_count": 74,
   "metadata": {},
   "outputs": [
    {
     "data": {
      "text/html": [
       "<div>\n",
       "<style scoped>\n",
       "    .dataframe tbody tr th:only-of-type {\n",
       "        vertical-align: middle;\n",
       "    }\n",
       "\n",
       "    .dataframe tbody tr th {\n",
       "        vertical-align: top;\n",
       "    }\n",
       "\n",
       "    .dataframe thead th {\n",
       "        text-align: right;\n",
       "    }\n",
       "</style>\n",
       "<table border=\"1\" class=\"dataframe\">\n",
       "  <thead>\n",
       "    <tr style=\"text-align: right;\">\n",
       "      <th></th>\n",
       "      <th>day</th>\n",
       "      <th>sentiment_imdb_classifiers_x</th>\n",
       "      <th>positive</th>\n",
       "      <th>sentiment_imdb_classifiers_y</th>\n",
       "      <th>negative</th>\n",
       "      <th>Overall</th>\n",
       "      <th>Sentiment</th>\n",
       "    </tr>\n",
       "  </thead>\n",
       "  <tbody>\n",
       "    <tr>\n",
       "      <th>0</th>\n",
       "      <td>1</td>\n",
       "      <td>pos</td>\n",
       "      <td>221</td>\n",
       "      <td>neg</td>\n",
       "      <td>1108</td>\n",
       "      <td>-887</td>\n",
       "      <td>0.000000</td>\n",
       "    </tr>\n",
       "    <tr>\n",
       "      <th>1</th>\n",
       "      <td>2</td>\n",
       "      <td>pos</td>\n",
       "      <td>251</td>\n",
       "      <td>neg</td>\n",
       "      <td>1241</td>\n",
       "      <td>-990</td>\n",
       "      <td>0.116122</td>\n",
       "    </tr>\n",
       "    <tr>\n",
       "      <th>2</th>\n",
       "      <td>3</td>\n",
       "      <td>pos</td>\n",
       "      <td>298</td>\n",
       "      <td>neg</td>\n",
       "      <td>1585</td>\n",
       "      <td>-1287</td>\n",
       "      <td>0.300000</td>\n",
       "    </tr>\n",
       "    <tr>\n",
       "      <th>3</th>\n",
       "      <td>4</td>\n",
       "      <td>pos</td>\n",
       "      <td>227</td>\n",
       "      <td>neg</td>\n",
       "      <td>1355</td>\n",
       "      <td>-1128</td>\n",
       "      <td>-0.123543</td>\n",
       "    </tr>\n",
       "    <tr>\n",
       "      <th>4</th>\n",
       "      <td>5</td>\n",
       "      <td>pos</td>\n",
       "      <td>203</td>\n",
       "      <td>neg</td>\n",
       "      <td>1135</td>\n",
       "      <td>-932</td>\n",
       "      <td>-0.173759</td>\n",
       "    </tr>\n",
       "  </tbody>\n",
       "</table>\n",
       "</div>"
      ],
      "text/plain": [
       "   day sentiment_imdb_classifiers_x  positive sentiment_imdb_classifiers_y  \\\n",
       "0    1                          pos       221                          neg   \n",
       "1    2                          pos       251                          neg   \n",
       "2    3                          pos       298                          neg   \n",
       "3    4                          pos       227                          neg   \n",
       "4    5                          pos       203                          neg   \n",
       "\n",
       "   negative  Overall  Sentiment  \n",
       "0      1108     -887   0.000000  \n",
       "1      1241     -990   0.116122  \n",
       "2      1585    -1287   0.300000  \n",
       "3      1355    -1128  -0.123543  \n",
       "4      1135     -932  -0.173759  "
      ]
     },
     "execution_count": 74,
     "metadata": {},
     "output_type": "execute_result"
    }
   ],
   "source": [
    "pnn_imdb.head()"
   ]
  },
  {
   "cell_type": "markdown",
   "metadata": {},
   "source": [
    "### Import and prepare own sentiment classifier data"
   ]
  },
  {
   "cell_type": "code",
   "execution_count": 77,
   "metadata": {},
   "outputs": [
    {
     "data": {
      "text/html": [
       "<div>\n",
       "<style scoped>\n",
       "    .dataframe tbody tr th:only-of-type {\n",
       "        vertical-align: middle;\n",
       "    }\n",
       "\n",
       "    .dataframe tbody tr th {\n",
       "        vertical-align: top;\n",
       "    }\n",
       "\n",
       "    .dataframe thead th {\n",
       "        text-align: right;\n",
       "    }\n",
       "</style>\n",
       "<table border=\"1\" class=\"dataframe\">\n",
       "  <thead>\n",
       "    <tr style=\"text-align: right;\">\n",
       "      <th></th>\n",
       "      <th>datetime</th>\n",
       "      <th>text</th>\n",
       "      <th>Language</th>\n",
       "      <th>sentiment_textblob</th>\n",
       "      <th>sentiment_nltk</th>\n",
       "      <th>sentiment_own_classifiers</th>\n",
       "    </tr>\n",
       "  </thead>\n",
       "  <tbody>\n",
       "    <tr>\n",
       "      <th>574425</th>\n",
       "      <td>2019-01-23 17:42:10</td>\n",
       "      <td>dow jones bitcoin fight back record gains mone...</td>\n",
       "      <td>en</td>\n",
       "      <td>neutral</td>\n",
       "      <td>negative</td>\n",
       "      <td>pos</td>\n",
       "    </tr>\n",
       "    <tr>\n",
       "      <th>323539</th>\n",
       "      <td>2019-01-13 17:26:33</td>\n",
       "      <td>क टक going years bank acount long bitcoin shor...</td>\n",
       "      <td>en</td>\n",
       "      <td>negative</td>\n",
       "      <td>neutral</td>\n",
       "      <td>neg</td>\n",
       "    </tr>\n",
       "    <tr>\n",
       "      <th>728758</th>\n",
       "      <td>2019-01-30 00:09:51</td>\n",
       "      <td>_ days mayer multiple _ market dominance _ has...</td>\n",
       "      <td>en</td>\n",
       "      <td>neutral</td>\n",
       "      <td>positive</td>\n",
       "      <td>neg</td>\n",
       "    </tr>\n",
       "    <tr>\n",
       "      <th>189174</th>\n",
       "      <td>2019-01-08 11:08:49</td>\n",
       "      <td>bitcoin price watch btc dips remain suported c...</td>\n",
       "      <td>en</td>\n",
       "      <td>neutral</td>\n",
       "      <td>neutral</td>\n",
       "      <td>pos</td>\n",
       "    </tr>\n",
       "    <tr>\n",
       "      <th>296241</th>\n",
       "      <td>2019-01-12 11:00:02</td>\n",
       "      <td>mercadobitcoin btc r blockchain btc r mercadob...</td>\n",
       "      <td>en</td>\n",
       "      <td>neutral</td>\n",
       "      <td>neutral</td>\n",
       "      <td>pos</td>\n",
       "    </tr>\n",
       "  </tbody>\n",
       "</table>\n",
       "</div>"
      ],
      "text/plain": [
       "                   datetime  \\\n",
       "574425  2019-01-23 17:42:10   \n",
       "323539  2019-01-13 17:26:33   \n",
       "728758  2019-01-30 00:09:51   \n",
       "189174  2019-01-08 11:08:49   \n",
       "296241  2019-01-12 11:00:02   \n",
       "\n",
       "                                                     text Language  \\\n",
       "574425  dow jones bitcoin fight back record gains mone...       en   \n",
       "323539  क टक going years bank acount long bitcoin shor...       en   \n",
       "728758  _ days mayer multiple _ market dominance _ has...       en   \n",
       "189174  bitcoin price watch btc dips remain suported c...       en   \n",
       "296241  mercadobitcoin btc r blockchain btc r mercadob...       en   \n",
       "\n",
       "       sentiment_textblob sentiment_nltk sentiment_own_classifiers  \n",
       "574425            neutral       negative                       pos  \n",
       "323539           negative        neutral                       neg  \n",
       "728758            neutral       positive                       neg  \n",
       "189174            neutral        neutral                       pos  \n",
       "296241            neutral        neutral                       pos  "
      ]
     },
     "execution_count": 77,
     "metadata": {},
     "output_type": "execute_result"
    }
   ],
   "source": [
    "# importing data set after sentiment analysis\n",
    "import pickle\n",
    "\n",
    "pickle_tweets = open(r\"C:\\Users\\Axel\\Downloads\\df_sentiment_own_sample.pickle\", \"rb\")\n",
    "own = pickle.load(pickle_tweets)\n",
    "own.head()"
   ]
  },
  {
   "cell_type": "code",
   "execution_count": 78,
   "metadata": {},
   "outputs": [],
   "source": [
    "# creating dataframe\n",
    "import pandas as pd\n",
    "own[\"datetime\"] = pd.to_datetime(own[\"datetime\"])\n",
    "own = own.set_index(\"datetime\")\n",
    "own[\"day\"] = own.index.day"
   ]
  },
  {
   "cell_type": "code",
   "execution_count": 80,
   "metadata": {},
   "outputs": [],
   "source": [
    "# get counts per day and sentiment\n",
    "pnn_counts_own = own.groupby([\"day\", \"sentiment_own_classifiers\"])[\"text\"].count()\n",
    "pnn_counts_own = pnn_counts_own.to_frame()\n",
    "pnn_counts_own = pnn_counts_own.reset_index()\n",
    "pnn_counts_own = pnn_counts_own.rename(columns= {\"text\":\"own_count\"})"
   ]
  },
  {
   "cell_type": "code",
   "execution_count": 81,
   "metadata": {},
   "outputs": [],
   "source": [
    "indexNames = pnn_counts_own[pnn_counts_own['sentiment_own_classifiers'] == 'neutral' ].index\n",
    " \n",
    "# Delete these row indexes from dataFrame\n",
    "pnn_counts_own.drop(indexNames, inplace=True)"
   ]
  },
  {
   "cell_type": "code",
   "execution_count": 82,
   "metadata": {},
   "outputs": [],
   "source": [
    "# get only positives and negatives from own\n",
    "pnn_pos_own = pnn_counts_own[pnn_counts_own['sentiment_own_classifiers'] == 'pos']\n",
    "pnn_neg_own = pnn_counts_own[pnn_counts_own['sentiment_own_classifiers'] == 'neg']"
   ]
  },
  {
   "cell_type": "code",
   "execution_count": 83,
   "metadata": {},
   "outputs": [],
   "source": [
    "pnn_pos_own = pnn_pos_own.rename(columns={'own_count':'positive'})\n",
    "pnn_neg_own = pnn_neg_own.rename(columns={'own_count':'negative'})"
   ]
  },
  {
   "cell_type": "code",
   "execution_count": 85,
   "metadata": {},
   "outputs": [],
   "source": [
    "# merge positives and negatives for both\n",
    "pnn_own = pnn_pos_own.merge(pnn_neg_own, on='day')"
   ]
  },
  {
   "cell_type": "code",
   "execution_count": 86,
   "metadata": {},
   "outputs": [],
   "source": [
    "# get overall sentiment count\n",
    "pnn_own['Overall'] = pnn_own[\"positive\"] - pnn_own[\"negative\"]"
   ]
  },
  {
   "cell_type": "code",
   "execution_count": 87,
   "metadata": {},
   "outputs": [],
   "source": [
    "# get % change per day\n",
    "pnn_own['Sentiment'] = pnn_own['Overall'].copy()\n",
    "pnn_own['Sentiment'] = pnn_own['Overall'].pct_change()\n",
    "pnn_own['Sentiment'] = pnn_own['Sentiment'].fillna(0)"
   ]
  },
  {
   "cell_type": "code",
   "execution_count": 88,
   "metadata": {},
   "outputs": [
    {
     "data": {
      "text/html": [
       "<div>\n",
       "<style scoped>\n",
       "    .dataframe tbody tr th:only-of-type {\n",
       "        vertical-align: middle;\n",
       "    }\n",
       "\n",
       "    .dataframe tbody tr th {\n",
       "        vertical-align: top;\n",
       "    }\n",
       "\n",
       "    .dataframe thead th {\n",
       "        text-align: right;\n",
       "    }\n",
       "</style>\n",
       "<table border=\"1\" class=\"dataframe\">\n",
       "  <thead>\n",
       "    <tr style=\"text-align: right;\">\n",
       "      <th></th>\n",
       "      <th>day</th>\n",
       "      <th>sentiment_own_classifiers_x</th>\n",
       "      <th>positive</th>\n",
       "      <th>sentiment_own_classifiers_y</th>\n",
       "      <th>negative</th>\n",
       "      <th>Overall</th>\n",
       "      <th>Sentiment</th>\n",
       "    </tr>\n",
       "  </thead>\n",
       "  <tbody>\n",
       "    <tr>\n",
       "      <th>0</th>\n",
       "      <td>1</td>\n",
       "      <td>pos</td>\n",
       "      <td>587</td>\n",
       "      <td>neg</td>\n",
       "      <td>571</td>\n",
       "      <td>16</td>\n",
       "      <td>0.000000</td>\n",
       "    </tr>\n",
       "    <tr>\n",
       "      <th>1</th>\n",
       "      <td>2</td>\n",
       "      <td>pos</td>\n",
       "      <td>680</td>\n",
       "      <td>neg</td>\n",
       "      <td>713</td>\n",
       "      <td>-33</td>\n",
       "      <td>-3.062500</td>\n",
       "    </tr>\n",
       "    <tr>\n",
       "      <th>2</th>\n",
       "      <td>3</td>\n",
       "      <td>pos</td>\n",
       "      <td>866</td>\n",
       "      <td>neg</td>\n",
       "      <td>881</td>\n",
       "      <td>-15</td>\n",
       "      <td>-0.545455</td>\n",
       "    </tr>\n",
       "    <tr>\n",
       "      <th>3</th>\n",
       "      <td>4</td>\n",
       "      <td>pos</td>\n",
       "      <td>694</td>\n",
       "      <td>neg</td>\n",
       "      <td>736</td>\n",
       "      <td>-42</td>\n",
       "      <td>1.800000</td>\n",
       "    </tr>\n",
       "    <tr>\n",
       "      <th>4</th>\n",
       "      <td>5</td>\n",
       "      <td>pos</td>\n",
       "      <td>592</td>\n",
       "      <td>neg</td>\n",
       "      <td>617</td>\n",
       "      <td>-25</td>\n",
       "      <td>-0.404762</td>\n",
       "    </tr>\n",
       "  </tbody>\n",
       "</table>\n",
       "</div>"
      ],
      "text/plain": [
       "   day sentiment_own_classifiers_x  positive sentiment_own_classifiers_y  \\\n",
       "0    1                         pos       587                         neg   \n",
       "1    2                         pos       680                         neg   \n",
       "2    3                         pos       866                         neg   \n",
       "3    4                         pos       694                         neg   \n",
       "4    5                         pos       592                         neg   \n",
       "\n",
       "   negative  Overall  Sentiment  \n",
       "0       571       16   0.000000  \n",
       "1       713      -33  -3.062500  \n",
       "2       881      -15  -0.545455  \n",
       "3       736      -42   1.800000  \n",
       "4       617      -25  -0.404762  "
      ]
     },
     "execution_count": 88,
     "metadata": {},
     "output_type": "execute_result"
    }
   ],
   "source": [
    "pnn_own.head()"
   ]
  },
  {
   "cell_type": "markdown",
   "metadata": {},
   "source": [
    "### Visualization of Total Tweet Count and Bitcoin Price Development (in % change)"
   ]
  },
  {
   "cell_type": "code",
   "execution_count": 24,
   "metadata": {},
   "outputs": [],
   "source": [
    "# import packages\n",
    "import seaborn as sns; sns.set()\n",
    "import matplotlib.pyplot as plt"
   ]
  },
  {
   "cell_type": "code",
   "execution_count": 25,
   "metadata": {},
   "outputs": [
    {
     "name": "stderr",
     "output_type": "stream",
     "text": [
      "C:\\Users\\Axel\\Anaconda3\\lib\\site-packages\\pandas\\plotting\\_converter.py:129: FutureWarning: Using an implicitly registered datetime converter for a matplotlib plotting method. The converter was registered by pandas on import. Future versions of pandas will require you to explicitly register matplotlib converters.\n",
      "\n",
      "To register the converters:\n",
      "\t>>> from pandas.plotting import register_matplotlib_converters\n",
      "\t>>> register_matplotlib_converters()\n",
      "  warnings.warn(msg, FutureWarning)\n"
     ]
    },
    {
     "data": {
      "image/png": "[encoded data removed]",
      "text/plain": [
       "<Figure size 432x288 with 1 Axes>"
      ]
     },
     "metadata": {
      "needs_background": "light"
     },
     "output_type": "display_data"
    }
   ],
   "source": [
    "# define data to plot\n",
    "x = tweets['Date']\n",
    "y = tweets['Tweet Count %']\n",
    "z = bit['Closing Price BTC']\n",
    "\n",
    "plt.plot(x, y, color=\"blue\")\n",
    "plt.plot(x, z, color=\"red\")\n",
    "plt.xlabel(\"January 2019\", fontsize=17)\n",
    "plt.ylabel(\"Change in %\", fontsize=17)\n",
    "plt.title(\"Development of tweet count & BTC price change in January 2019\", fontsize=18, fontweight=\"bold\")\n",
    "plt.xticks(rotation=90)\n",
    "plt.legend(loc='lower right')\n",
    "fig_size = plt.rcParams[\"figure.figsize\"]\n",
    "fig_size[0] = 11\n",
    "fig_size[1] = 7\n",
    "plt.rcParams[\"figure.figsize\"] = fig_size\n",
    "\n",
    "plt.show()"
   ]
  },
  {
   "cell_type": "markdown",
   "metadata": {},
   "source": [
    "### Visualization of Sentiment (nltk) and Bitcoin Price Development (in % change)"
   ]
  },
  {
   "cell_type": "code",
   "execution_count": 95,
   "metadata": {},
   "outputs": [
    {
     "data": {
      "image/png": "[encoded data removed]",
      "text/plain": [
       "<Figure size 792x504 with 1 Axes>"
      ]
     },
     "metadata": {
      "needs_background": "light"
     },
     "output_type": "display_data"
    }
   ],
   "source": [
    "# define data to plot\n",
    "x = pnn_nltk['day']\n",
    "y = pnn_nltk['Sentiment']\n",
    "z = bit['Closing Price BTC']\n",
    "\n",
    "plt.plot(x, y, color=\"blue\")\n",
    "plt.plot(x, z, color=\"red\")\n",
    "plt.xlabel(\"January 2019\", fontsize=17)\n",
    "plt.ylabel(\"Change in %\", fontsize=17)\n",
    "plt.title(\"Development of tweet nltk sentiment & BTC price change in January 2019\", fontsize=18, fontweight=\"bold\")\n",
    "plt.xticks(rotation=90)\n",
    "plt.legend(loc='lower right')\n",
    "fig_size = plt.rcParams[\"figure.figsize\"]\n",
    "fig_size[0] = 11\n",
    "fig_size[1] = 7\n",
    "plt.rcParams[\"figure.figsize\"] = fig_size\n",
    "\n",
    "plt.show()"
   ]
  },
  {
   "cell_type": "markdown",
   "metadata": {},
   "source": [
    "### Visualization of Sentiment (textblob) and Bitcoin Price Development (in % change)"
   ]
  },
  {
   "cell_type": "code",
   "execution_count": 96,
   "metadata": {},
   "outputs": [
    {
     "data": {
      "image/png": "[encoded data removed]",
      "text/plain": [
       "<Figure size 792x504 with 1 Axes>"
      ]
     },
     "metadata": {
      "needs_background": "light"
     },
     "output_type": "display_data"
    }
   ],
   "source": [
    "# define data to plot\n",
    "x = pnn_txtb['day']\n",
    "y = pnn_txtb['Sentiment']\n",
    "z = bit['Closing Price BTC']\n",
    "\n",
    "plt.plot(x, y, color=\"blue\")\n",
    "plt.plot(x, z, color=\"red\")\n",
    "plt.xlabel(\"January 2019\", fontsize=17)\n",
    "plt.ylabel(\"Change in %\", fontsize=17)\n",
    "plt.title(\"Development of tweet textblob sentiment & BTC price change in January 2019\", fontsize=18, fontweight=\"bold\")\n",
    "plt.xticks(rotation=90)\n",
    "plt.legend(loc='lower right')\n",
    "fig_size = plt.rcParams[\"figure.figsize\"]\n",
    "fig_size[0] = 11\n",
    "fig_size[1] = 7\n",
    "plt.rcParams[\"figure.figsize\"] = fig_size\n",
    "\n",
    "plt.show()"
   ]
  },
  {
   "cell_type": "markdown",
   "metadata": {},
   "source": [
    "### Visualization of Sentiment (imdb) and Bitcoin Price Development (in % change)"
   ]
  },
  {
   "cell_type": "code",
   "execution_count": 98,
   "metadata": {},
   "outputs": [
    {
     "data": {
      "image/png": "[encoded data removed]",
      "text/plain": [
       "<Figure size 792x504 with 1 Axes>"
      ]
     },
     "metadata": {
      "needs_background": "light"
     },
     "output_type": "display_data"
    }
   ],
   "source": [
    "# define data to plot\n",
    "x = pnn_imdb['day']\n",
    "y = pnn_imdb['Sentiment']\n",
    "z = bit['Closing Price BTC']\n",
    "\n",
    "plt.plot(x, y, color=\"blue\")\n",
    "plt.plot(x, z, color=\"red\")\n",
    "plt.xlabel(\"January 2019\", fontsize=17)\n",
    "plt.ylabel(\"Change in %\", fontsize=17)\n",
    "plt.title(\"Development of tweet imdb sentiment & BTC price change in January 2019\", fontsize=18, fontweight=\"bold\")\n",
    "plt.xticks(rotation=90)\n",
    "plt.legend(loc='lower right')\n",
    "fig_size = plt.rcParams[\"figure.figsize\"]\n",
    "fig_size[0] = 11\n",
    "fig_size[1] = 7\n",
    "plt.rcParams[\"figure.figsize\"] = fig_size\n",
    "\n",
    "plt.show()"
   ]
  },
  {
   "cell_type": "markdown",
   "metadata": {},
   "source": [
    "### Visualization of Sentiment (own) and Bitcoin Price Development (in % change)"
   ]
  },
  {
   "cell_type": "code",
   "execution_count": 97,
   "metadata": {},
   "outputs": [
    {
     "data": {
      "image/png": "[encoded data removed]",
      "text/plain": [
       "<Figure size 792x504 with 1 Axes>"
      ]
     },
     "metadata": {
      "needs_background": "light"
     },
     "output_type": "display_data"
    }
   ],
   "source": [
    "# define data to plot\n",
    "x = pnn_own['day']\n",
    "y = pnn_own['Sentiment']\n",
    "z = bit['Closing Price BTC']\n",
    "\n",
    "plt.plot(x, y, color=\"blue\")\n",
    "plt.plot(x, z, color=\"red\")\n",
    "plt.xlabel(\"January 2019\", fontsize=17)\n",
    "plt.ylabel(\"Change in %\", fontsize=17)\n",
    "plt.title(\"Development of tweet own sentiment & BTC price change in January 2019\", fontsize=18, fontweight=\"bold\")\n",
    "plt.xticks(rotation=90)\n",
    "plt.legend(loc='lower right')\n",
    "fig_size = plt.rcParams[\"figure.figsize\"]\n",
    "fig_size[0] = 11\n",
    "fig_size[1] = 7\n",
    "plt.rcParams[\"figure.figsize\"] = fig_size\n",
    "\n",
    "plt.show()"
   ]
  },
  {
   "cell_type": "markdown",
   "metadata": {},
   "source": [
    "### Evaluating Correlations and absolute mean error of the price and tweet curves and shifted curves (avoid possible time effects)"
   ]
  },
  {
   "cell_type": "markdown",
   "metadata": {},
   "source": [
    "#### Shifting Price Curve"
   ]
  },
  {
   "cell_type": "code",
   "execution_count": 40,
   "metadata": {},
   "outputs": [
    {
     "name": "stdout",
     "output_type": "stream",
     "text": [
      "Correlation of total tweet count and bitcoin price development\n",
      "Initial: \n",
      "Correlation:  0.022842356182603045 Mean absolute error:  0.09877299405274896\n",
      "After shifting one day:\n",
      "Correlation:  0.15761084039580525 Mean absolute error:  0.10218165114820647\n",
      "After shifting two days:\n",
      "Correlation:  0.11150726790117463 Mean absolute error:  0.102119133066169\n"
     ]
    }
   ],
   "source": [
    "# correlation coefficient of tweet count and bitcoin price change curves when shifting bitcoin towards count curve\n",
    "\n",
    "from sklearn.metrics import mean_absolute_error\n",
    "import numpy as np\n",
    "\n",
    "a = bit['Closing Price BTC']\n",
    "b = tweets['Tweet Count %']\n",
    "# correlation\n",
    "corr_count = np.corrcoef(a, b)[0, 1]\n",
    "# mean absolute error\n",
    "mae_count = mean_absolute_error(a, b)\n",
    "\n",
    "# creating list and shifting by one day \n",
    "list_bit_count = list(a)\n",
    "list_sent_count = list(b)\n",
    "list_bit_count.insert(0, 0)\n",
    "list_bit_count = list_bit_count[:-1]\n",
    "list_bit_count = list_bit_count[1:]\n",
    "list_sent_count = list_sent_count[1:]\n",
    "\n",
    "# correlation after shifting one day\n",
    "corr_count_1 = np.corrcoef(list_bit_count, list_sent_count)[0,1]\n",
    "# mean absolute error after shifting one day\n",
    "mae_count_1 = mean_absolute_error(list_bit_count, list_sent_count)\n",
    "\n",
    "# shifting one more day\n",
    "list_bit_count.insert(0, 0)\n",
    "list_bit_count1 = list_bit_count[:-1]\n",
    "list_bit_count1 = list_bit_count1[1:]\n",
    "list_sent_count1 = list_sent_count[1:]\n",
    "\n",
    "# correlation after shifting two days\n",
    "corr_count_2 = np.corrcoef(list_bit_count1, list_sent_count1)[0, 1]\n",
    "# mean absolute error after shifting two days\n",
    "mae_count_2 = mean_absolute_error(list_bit_count1, list_sent_count1)\n",
    "\n",
    "print('Correlation of total tweet count and bitcoin price development')\n",
    "print('Initial: ')\n",
    "print('Correlation: ',corr_count, \"Mean absolute error: \", mae_count)\n",
    "print('After shifting one day:')\n",
    "print('Correlation: ',corr_count_1, \"Mean absolute error: \", mae_count_1)\n",
    "print('After shifting two days:')\n",
    "print('Correlation: ',corr_count_2, \"Mean absolute error: \", mae_count_2)"
   ]
  },
  {
   "cell_type": "code",
   "execution_count": 41,
   "metadata": {},
   "outputs": [
    {
     "name": "stdout",
     "output_type": "stream",
     "text": [
      "Correlation and mean absolute error of nltk sentiment and bitcoin price development\n",
      "Initial: \n",
      "Correlation:  0.05206660217093389 Mean absolute error:  0.10598656205850111\n",
      "After shifting one day:\n",
      "Correlation:  0.2595784233719069 Mean absolute error:  0.11054877062901808\n",
      "After shifting two days:\n",
      "Correlation:  0.038387227093739464 Mean absolute error:  0.1202712502339969\n"
     ]
    }
   ],
   "source": [
    "# correlation coefficient of nltk sentiment and bitcoin price change curves when shifting bitcoin towards sentiment curve\n",
    "\n",
    "import numpy as np\n",
    "a = bit['Closing Price BTC']\n",
    "b = pnn_nltk['Sentiment']\n",
    "# Correlation\n",
    "corr_count = np.corrcoef(a, b)[0, 1]\n",
    "# mean absolute error\n",
    "mae_count = mean_absolute_error(a, b)\n",
    "\n",
    "# creating list and shifting by one day \n",
    "list_bit_count = list(a)\n",
    "list_sent_count = list(b)\n",
    "list_bit_count.insert(0, 0)\n",
    "list_bit_count = list_bit_count[:-1]\n",
    "list_bit_count = list_bit_count[1:]\n",
    "list_sent_count = list_sent_count[1:]\n",
    "\n",
    "# correlation after shifting one day\n",
    "corr_count_1 = np.corrcoef(list_bit_count, list_sent_count)[0, 1]\n",
    "# mean absolute error after shifting one day\n",
    "mae_count_1 = mean_absolute_error(list_bit_count, list_sent_count)\n",
    "\n",
    "# shifting one more day\n",
    "list_bit_count.insert(0, 0)\n",
    "list_bit_count1 = list_bit_count[:-1]\n",
    "list_bit_count1 = list_bit_count1[1:]\n",
    "list_sent_count1 = list_sent_count[1:]\n",
    "\n",
    "# correlation after shifting two days\n",
    "corr_count_2 = np.corrcoef(list_bit_count1, list_sent_count1)[0, 1]\n",
    "# mean absolute error after shifting two days\n",
    "mae_count_2 = mean_absolute_error(list_bit_count1, list_sent_count1)\n",
    "\n",
    "print('Correlation and mean absolute error of nltk sentiment and bitcoin price development')\n",
    "print('Initial: ')\n",
    "print('Correlation: ',corr_count, \"Mean absolute error: \", mae_count)\n",
    "print('After shifting one day:')\n",
    "print('Correlation: ',corr_count_1, \"Mean absolute error: \", mae_count_1)\n",
    "print('After shifting two days:')\n",
    "print('Correlation: ',corr_count_2, \"Mean absolute error: \", mae_count_2)"
   ]
  },
  {
   "cell_type": "code",
   "execution_count": 42,
   "metadata": {},
   "outputs": [
    {
     "name": "stdout",
     "output_type": "stream",
     "text": [
      "Correlation of textblob sentiment and bitcoin price development\n",
      "Initial: \n",
      "Correlation:  -0.06445122288431968 Mean absolute error:  0.10122423365109666\n",
      "After shifting one day:\n",
      "Correlation:  0.32220303294793023 Mean absolute error:  0.09967836700899027\n",
      "After shifting two days:\n",
      "Correlation:  -0.10647353413304386 Mean absolute error:  0.10849431284621183\n"
     ]
    }
   ],
   "source": [
    "# correlation coefficient of textblob sentiment and bitcoin price change curves when shifting bitcoin towards sentiment curve\n",
    "\n",
    "import numpy as np\n",
    "a = bit['Closing Price BTC']\n",
    "b = pnn_txtb['Sentiment']\n",
    "# Correlation\n",
    "corr_count = np.corrcoef(a, b)[0, 1]\n",
    "# mean absolute error\n",
    "mae_count = mean_absolute_error(a, b)\n",
    "\n",
    "# creating list and shifting by one day \n",
    "list_bit_count = list(a)\n",
    "list_sent_count = list(b)\n",
    "list_bit_count.insert(0, 0)\n",
    "list_bit_count = list_bit_count[:-1]\n",
    "list_bit_count = list_bit_count[1:]\n",
    "list_sent_count = list_sent_count[1:]\n",
    "\n",
    "# correlation after shifting one day\n",
    "corr_count_1 = np.corrcoef(list_bit_count, list_sent_count)[0, 1]\n",
    "# mean absolute error after shifting one day\n",
    "mae_count_1 = mean_absolute_error(list_bit_count, list_sent_count)\n",
    "\n",
    "# shifting one more day\n",
    "list_bit_count.insert(0, 0)\n",
    "list_bit_count1 = list_bit_count[:-1]\n",
    "list_bit_count1 = list_bit_count1[1:]\n",
    "list_sent_count1 = list_sent_count[1:]\n",
    "\n",
    "# correlation after shifting two days\n",
    "corr_count_2 = np.corrcoef(list_bit_count1, list_sent_count1)[0, 1]\n",
    "# mean absolute error after shifting two days\n",
    "mae_count_2 = mean_absolute_error(list_bit_count1, list_sent_count1)\n",
    "\n",
    "print('Correlation of textblob sentiment and bitcoin price development')\n",
    "print('Initial: ')\n",
    "print('Correlation: ',corr_count, \"Mean absolute error: \", mae_count)\n",
    "print('After shifting one day:')\n",
    "print('Correlation: ',corr_count_1, \"Mean absolute error: \", mae_count_1)\n",
    "print('After shifting two days:')\n",
    "print('Correlation: ',corr_count_2, \"Mean absolute error: \", mae_count_2)"
   ]
  },
  {
   "cell_type": "code",
   "execution_count": 91,
   "metadata": {},
   "outputs": [
    {
     "name": "stdout",
     "output_type": "stream",
     "text": [
      "Correlation of imdb sentiment and bitcoin price development\n",
      "Initial: \n",
      "Correlation:  -0.21495057966726597 Mean absolute error:  0.11101835875483529\n",
      "After shifting one day:\n",
      "Correlation:  0.2012167577798337 Mean absolute error:  0.1119460218255921\n",
      "After shifting two days:\n",
      "Correlation:  0.1627465369992936 Mean absolute error:  0.1107659691080787\n"
     ]
    }
   ],
   "source": [
    "# correlation coefficient of imdb sentiment and bitcoin price change curves when shifting bitcoin towards sentiment curve\n",
    "\n",
    "import numpy as np\n",
    "a = bit['Closing Price BTC']\n",
    "b = pnn_imdb['Sentiment']\n",
    "# Correlation\n",
    "corr_count = np.corrcoef(a, b)[0, 1]\n",
    "# mean absolute error\n",
    "mae_count = mean_absolute_error(a, b)\n",
    "\n",
    "# creating list and shifting by one day \n",
    "list_bit_count = list(a)\n",
    "list_sent_count = list(b)\n",
    "list_bit_count.insert(0, 0)\n",
    "list_bit_count = list_bit_count[:-1]\n",
    "list_bit_count = list_bit_count[1:]\n",
    "list_sent_count = list_sent_count[1:]\n",
    "\n",
    "# correlation after shifting one day\n",
    "corr_count_1 = np.corrcoef(list_bit_count, list_sent_count)[0, 1]\n",
    "# mean absolute error after shifting one day\n",
    "mae_count_1 = mean_absolute_error(list_bit_count, list_sent_count)\n",
    "\n",
    "# shifting one more day\n",
    "list_bit_count.insert(0, 0)\n",
    "list_bit_count1 = list_bit_count[:-1]\n",
    "list_bit_count1 = list_bit_count1[1:]\n",
    "list_sent_count1 = list_sent_count[1:]\n",
    "\n",
    "# correlation after shifting two days\n",
    "corr_count_2 = np.corrcoef(list_bit_count1, list_sent_count1)[0, 1]\n",
    "# mean absolute error after shifting two days\n",
    "mae_count_2 = mean_absolute_error(list_bit_count1, list_sent_count1)\n",
    "\n",
    "print('Correlation of imdb sentiment and bitcoin price development')\n",
    "print('Initial: ')\n",
    "print('Correlation: ',corr_count, \"Mean absolute error: \", mae_count)\n",
    "print('After shifting one day:')\n",
    "print('Correlation: ',corr_count_1, \"Mean absolute error: \", mae_count_1)\n",
    "print('After shifting two days:')\n",
    "print('Correlation: ',corr_count_2, \"Mean absolute error: \", mae_count_2)"
   ]
  },
  {
   "cell_type": "code",
   "execution_count": 92,
   "metadata": {},
   "outputs": [
    {
     "name": "stdout",
     "output_type": "stream",
     "text": [
      "Correlation of own sentiment and bitcoin price development\n",
      "Initial: \n",
      "Correlation:  -0.6269235048231776 Mean absolute error:  2.7430655240138067\n",
      "After shifting one day:\n",
      "Correlation:  -0.021641433329691817 Mean absolute error:  2.837472947891087\n",
      "After shifting two days:\n",
      "Correlation:  0.10555026022562664 Mean absolute error:  2.8128762600036894\n"
     ]
    }
   ],
   "source": [
    "# correlation coefficient of own sentiment and bitcoin price change curves when shifting bitcoin towards sentiment curve\n",
    "\n",
    "import numpy as np\n",
    "a = bit['Closing Price BTC']\n",
    "b = pnn_own['Sentiment']\n",
    "# Correlation\n",
    "corr_count = np.corrcoef(a, b)[0, 1]\n",
    "# mean absolute error\n",
    "mae_count = mean_absolute_error(a, b)\n",
    "\n",
    "# creating list and shifting by one day \n",
    "list_bit_count = list(a)\n",
    "list_sent_count = list(b)\n",
    "list_bit_count.insert(0, 0)\n",
    "list_bit_count = list_bit_count[:-1]\n",
    "list_bit_count = list_bit_count[1:]\n",
    "list_sent_count = list_sent_count[1:]\n",
    "\n",
    "# correlation after shifting one day\n",
    "corr_count_1 = np.corrcoef(list_bit_count, list_sent_count)[0, 1]\n",
    "# mean absolute error after shifting one day\n",
    "mae_count_1 = mean_absolute_error(list_bit_count, list_sent_count)\n",
    "\n",
    "# shifting one more day\n",
    "list_bit_count.insert(0, 0)\n",
    "list_bit_count1 = list_bit_count[:-1]\n",
    "list_bit_count1 = list_bit_count1[1:]\n",
    "list_sent_count1 = list_sent_count[1:]\n",
    "\n",
    "# correlation after shifting two days\n",
    "corr_count_2 = np.corrcoef(list_bit_count1, list_sent_count1)[0, 1]\n",
    "# mean absolute error after shifting two days\n",
    "mae_count_2 = mean_absolute_error(list_bit_count1, list_sent_count1)\n",
    "\n",
    "print('Correlation of own sentiment and bitcoin price development')\n",
    "print('Initial: ')\n",
    "print('Correlation: ',corr_count, \"Mean absolute error: \", mae_count)\n",
    "print('After shifting one day:')\n",
    "print('Correlation: ',corr_count_1, \"Mean absolute error: \", mae_count_1)\n",
    "print('After shifting two days:')\n",
    "print('Correlation: ',corr_count_2, \"Mean absolute error: \", mae_count_2)"
   ]
  },
  {
   "cell_type": "markdown",
   "metadata": {},
   "source": [
    "#### Shifting Sentiment Curve"
   ]
  },
  {
   "cell_type": "code",
   "execution_count": 43,
   "metadata": {},
   "outputs": [
    {
     "name": "stdout",
     "output_type": "stream",
     "text": [
      "Correlation of total tweet count and bitcoin price development\n",
      "Initial: \n",
      "Correlation:  0.022842356182603045 Mean absolute error:  0.09877299405274896\n",
      "After shifting one day:\n",
      "Correlation:  -0.08102245850521972 Mean absolute error:  0.11041688207336119\n",
      "After shifting two days:\n",
      "Correlation:  0.05708694272623308 Mean absolute error:  0.10600636412799427\n"
     ]
    }
   ],
   "source": [
    "# correlation coefficient of tweet count and bitcoin price change curves when shifting count curve towards bitcoin price\n",
    "\n",
    "import numpy as np\n",
    "a = bit['Closing Price BTC']\n",
    "b = tweets['Tweet Count %']\n",
    "# Correlation\n",
    "corr_count = np.corrcoef(a, b)[0, 1]\n",
    "# mean absolute error\n",
    "mae_count = mean_absolute_error(a, b)\n",
    "\n",
    "# creating list and shifting by one day \n",
    "list_bit_count = list(a)\n",
    "list_sent_count = list(b)\n",
    "list_sent_count.insert(0, 0)\n",
    "list_sent_count = list_sent_count[:-1]\n",
    "list_sent_count = list_sent_count[1:]\n",
    "list_bit_count = list_bit_count[1:]\n",
    "\n",
    "# correlation after shifting one day\n",
    "corr_count_1 = np.corrcoef(list_bit_count, list_sent_count)[0, 1]\n",
    "# mean absolute error after shifting one day\n",
    "mae_count_1 = mean_absolute_error(list_bit_count, list_sent_count)\n",
    "\n",
    "# shifting one more day\n",
    "list_sent_count.insert(0, 0)\n",
    "list_sent_count1 = list_sent_count[:-1]\n",
    "list_sent_count1 = list_sent_count1[1:]\n",
    "list_bit_count1 = list_bit_count[1:]\n",
    "\n",
    "# correlation after shifting two days\n",
    "corr_count_2 = np.corrcoef(list_bit_count1, list_sent_count1)[0, 1]\n",
    "# mean absolute error after shifting two days\n",
    "mae_count_2 = mean_absolute_error(list_bit_count1, list_sent_count1)\n",
    "\n",
    "print('Correlation of total tweet count and bitcoin price development')\n",
    "print('Initial: ')\n",
    "print('Correlation: ',corr_count, \"Mean absolute error: \", mae_count)\n",
    "print('After shifting one day:')\n",
    "print('Correlation: ',corr_count_1, \"Mean absolute error: \", mae_count_1)\n",
    "print('After shifting two days:')\n",
    "print('Correlation: ',corr_count_2, \"Mean absolute error: \", mae_count_2)"
   ]
  },
  {
   "cell_type": "code",
   "execution_count": 44,
   "metadata": {},
   "outputs": [
    {
     "name": "stdout",
     "output_type": "stream",
     "text": [
      "Correlation of nltk sentiment and bitcoin price development\n",
      "Initial: \n",
      "Correlation:  0.05206660217093389 Mean absolute error:  0.10598656205850111\n",
      "After shifting one day:\n",
      "Correlation:  0.01779484447838582 Mean absolute error:  0.11798945682882374\n",
      "After shifting two days:\n",
      "Correlation:  0.1522934759147293 Mean absolute error:  0.1074104623700563\n"
     ]
    }
   ],
   "source": [
    "# correlation coefficient of nltk sentiment and bitcoin price change curves when shifting sentiment towards bitcoin curve\n",
    "\n",
    "import numpy as np\n",
    "a = bit['Closing Price BTC']\n",
    "b = pnn_nltk['Sentiment']\n",
    "# Correlation\n",
    "corr_count = np.corrcoef(a, b)[0, 1]\n",
    "# mean absolute error\n",
    "mae_count = mean_absolute_error(a, b)\n",
    "\n",
    "# creating list and shifting by one day \n",
    "list_bit_count = list(a)\n",
    "list_sent_count = list(b)\n",
    "list_sent_count.insert(0, 0)\n",
    "list_sent_count = list_sent_count[:-1]\n",
    "list_sent_count = list_sent_count[1:]\n",
    "list_bit_count = list_bit_count[1:]\n",
    "\n",
    "# correlation after shifting one day\n",
    "corr_count_1 = np.corrcoef(list_bit_count, list_sent_count)[0, 1]\n",
    "# mean absolute error after shifting one day\n",
    "mae_count_1 = mean_absolute_error(list_bit_count, list_sent_count)\n",
    "\n",
    "# shifting one more day\n",
    "list_sent_count.insert(0, 0)\n",
    "list_sent_count1 = list_sent_count[:-1]\n",
    "list_sent_count1 = list_sent_count1[1:]\n",
    "list_bit_count1 = list_bit_count[1:]\n",
    "\n",
    "# correlation after shifting two days\n",
    "corr_count_2 = np.corrcoef(list_bit_count1, list_sent_count1)[0, 1]\n",
    "# mean absolute error after shifting two days\n",
    "mae_count_2 = mean_absolute_error(list_bit_count1, list_sent_count1)\n",
    "\n",
    "print('Correlation of nltk sentiment and bitcoin price development')\n",
    "print('Initial: ')\n",
    "print('Correlation: ',corr_count, \"Mean absolute error: \", mae_count)\n",
    "print('After shifting one day:')\n",
    "print('Correlation: ',corr_count_1, \"Mean absolute error: \", mae_count_1)\n",
    "print('After shifting two days:')\n",
    "print('Correlation: ',corr_count_2, \"Mean absolute error: \", mae_count_2)"
   ]
  },
  {
   "cell_type": "code",
   "execution_count": 45,
   "metadata": {},
   "outputs": [
    {
     "name": "stdout",
     "output_type": "stream",
     "text": [
      "Correlation of textblob sentiment and bitcoin price development\n",
      "Initial: \n",
      "Correlation:  -0.06445122288431968 Mean absolute error:  0.10122423365109666\n",
      "After shifting one day:\n",
      "Correlation:  -0.06845378239159951 Mean absolute error:  0.10626571789522825\n",
      "After shifting two days:\n",
      "Correlation:  0.04464791408157779 Mean absolute error:  0.10471452090415044\n"
     ]
    }
   ],
   "source": [
    "# correlation coefficient of textblob sentiment and bitcoin price change curves when shifting sentiment towards bitcoin curve\n",
    "\n",
    "import numpy as np\n",
    "a = bit['Closing Price BTC']\n",
    "b = pnn_txtb['Sentiment']\n",
    "# Correlation\n",
    "corr_count = np.corrcoef(a, b)[0, 1]\n",
    "# mean absolute error\n",
    "mae_count = mean_absolute_error(a, b)\n",
    "\n",
    "# creating list and shifting by one day \n",
    "list_bit_count = list(a)\n",
    "list_sent_count = list(b)\n",
    "list_sent_count.insert(0, 0)\n",
    "list_sent_count = list_sent_count[:-1]\n",
    "list_sent_count = list_sent_count[1:]\n",
    "list_bit_count = list_bit_count[1:]\n",
    "\n",
    "# correlation after shifting one day\n",
    "corr_count_1 = np.corrcoef(list_bit_count, list_sent_count)[0, 1]\n",
    "# mean absolute error after shifting one day\n",
    "mae_count_1 = mean_absolute_error(list_bit_count, list_sent_count)\n",
    "\n",
    "# shifting one more day\n",
    "list_sent_count.insert(0, 0)\n",
    "list_sent_count1 = list_sent_count[:-1]\n",
    "list_sent_count1 = list_sent_count1[1:]\n",
    "list_bit_count1 = list_bit_count[1:]\n",
    "\n",
    "# correlation after shifting two days\n",
    "corr_count_2 = np.corrcoef(list_bit_count1, list_sent_count1)[0, 1]\n",
    "# mean absolute error after shifting two days\n",
    "mae_count_2 = mean_absolute_error(list_bit_count1, list_sent_count1)\n",
    "\n",
    "print('Correlation of textblob sentiment and bitcoin price development')\n",
    "print('Initial: ')\n",
    "print('Correlation: ',corr_count, \"Mean absolute error: \", mae_count)\n",
    "print('After shifting one day:')\n",
    "print('Correlation: ',corr_count_1, \"Mean absolute error: \", mae_count_1)\n",
    "print('After shifting two days:')\n",
    "print('Correlation: ',corr_count_2, \"Mean absolute error: \", mae_count_2)"
   ]
  },
  {
   "cell_type": "code",
   "execution_count": 93,
   "metadata": {},
   "outputs": [
    {
     "name": "stdout",
     "output_type": "stream",
     "text": [
      "Correlation of imdb sentiment and bitcoin price development\n",
      "Initial: \n",
      "Correlation:  -0.21495057966726597 Mean absolute error:  0.11101835875483529\n",
      "After shifting one day:\n",
      "Correlation:  0.07474925576356485 Mean absolute error:  0.1110074158855787\n",
      "After shifting two days:\n",
      "Correlation:  0.04424565465996556 Mean absolute error:  0.1095271355169045\n"
     ]
    }
   ],
   "source": [
    "# correlation coefficient of imdb sentiment and bitcoin price change curves when shifting sentiment towards bitcoin curve\n",
    "\n",
    "import numpy as np\n",
    "a = bit['Closing Price BTC']\n",
    "b = pnn_imdb['Sentiment']\n",
    "# Correlation\n",
    "corr_count = np.corrcoef(a, b)[0, 1]\n",
    "# mean absolute error\n",
    "mae_count = mean_absolute_error(a, b)\n",
    "\n",
    "# creating list and shifting by one day \n",
    "list_bit_count = list(a)\n",
    "list_sent_count = list(b)\n",
    "list_sent_count.insert(0, 0)\n",
    "list_sent_count = list_sent_count[:-1]\n",
    "list_sent_count = list_sent_count[1:]\n",
    "list_bit_count = list_bit_count[1:]\n",
    "\n",
    "# correlation after shifting one day\n",
    "corr_count_1 = np.corrcoef(list_bit_count, list_sent_count)[0, 1]\n",
    "# mean absolute error after shifting one day\n",
    "mae_count_1 = mean_absolute_error(list_bit_count, list_sent_count)\n",
    "\n",
    "# shifting one more day\n",
    "list_sent_count.insert(0, 0)\n",
    "list_sent_count1 = list_sent_count[:-1]\n",
    "list_sent_count1 = list_sent_count1[1:]\n",
    "list_bit_count1 = list_bit_count[1:]\n",
    "\n",
    "# correlation after shifting two days\n",
    "corr_count_2 = np.corrcoef(list_bit_count1, list_sent_count1)[0, 1]\n",
    "# mean absolute error after shifting two days\n",
    "mae_count_2 = mean_absolute_error(list_bit_count1, list_sent_count1)\n",
    "\n",
    "print('Correlation of imdb sentiment and bitcoin price development')\n",
    "print('Initial: ')\n",
    "print('Correlation: ',corr_count, \"Mean absolute error: \", mae_count)\n",
    "print('After shifting one day:')\n",
    "print('Correlation: ',corr_count_1, \"Mean absolute error: \", mae_count_1)\n",
    "print('After shifting two days:')\n",
    "print('Correlation: ',corr_count_2, \"Mean absolute error: \", mae_count_2)"
   ]
  },
  {
   "cell_type": "code",
   "execution_count": 94,
   "metadata": {},
   "outputs": [
    {
     "name": "stdout",
     "output_type": "stream",
     "text": [
      "Correlation of own sentiment and bitcoin price development\n",
      "Initial: \n",
      "Correlation:  -0.6269235048231776 Mean absolute error:  2.7430655240138067\n",
      "After shifting one day:\n",
      "Correlation:  0.01545132985065943 Mean absolute error:  2.8108884071778864\n",
      "After shifting two days:\n",
      "Correlation:  0.11496141469102845 Mean absolute error:  2.8955842828477434\n"
     ]
    }
   ],
   "source": [
    "# correlation coefficient of own sentiment and bitcoin price change curves when shifting sentiment towards bitcoin curve\n",
    "\n",
    "import numpy as np\n",
    "a = bit['Closing Price BTC']\n",
    "b = pnn_own['Sentiment']\n",
    "# Correlation\n",
    "corr_count = np.corrcoef(a, b)[0, 1]\n",
    "# mean absolute error\n",
    "mae_count = mean_absolute_error(a, b)\n",
    "\n",
    "# creating list and shifting by one day \n",
    "list_bit_count = list(a)\n",
    "list_sent_count = list(b)\n",
    "list_sent_count.insert(0, 0)\n",
    "list_sent_count = list_sent_count[:-1]\n",
    "list_sent_count = list_sent_count[1:]\n",
    "list_bit_count = list_bit_count[1:]\n",
    "\n",
    "# correlation after shifting one day\n",
    "corr_count_1 = np.corrcoef(list_bit_count, list_sent_count)[0, 1]\n",
    "# mean absolute error after shifting one day\n",
    "mae_count_1 = mean_absolute_error(list_bit_count, list_sent_count)\n",
    "\n",
    "# shifting one more day\n",
    "list_sent_count.insert(0, 0)\n",
    "list_sent_count1 = list_sent_count[:-1]\n",
    "list_sent_count1 = list_sent_count1[1:]\n",
    "list_bit_count1 = list_bit_count[1:]\n",
    "\n",
    "# correlation after shifting two days\n",
    "corr_count_2 = np.corrcoef(list_bit_count1, list_sent_count1)[0, 1]\n",
    "# mean absolute error after shifting two days\n",
    "mae_count_2 = mean_absolute_error(list_bit_count1, list_sent_count1)\n",
    "\n",
    "print('Correlation of own sentiment and bitcoin price development')\n",
    "print('Initial: ')\n",
    "print('Correlation: ',corr_count, \"Mean absolute error: \", mae_count)\n",
    "print('After shifting one day:')\n",
    "print('Correlation: ',corr_count_1, \"Mean absolute error: \", mae_count_1)\n",
    "print('After shifting two days:')\n",
    "print('Correlation: ',corr_count_2, \"Mean absolute error: \", mae_count_2)"
   ]
  },
  {
   "cell_type": "code",
   "execution_count": null,
   "metadata": {},
   "outputs": [],
   "source": []
  }
 ],
 "metadata": {
  "kernelspec": {
   "display_name": "Python 3",
   "language": "python",
   "name": "python3"
  },
  "language_info": {
   "codemirror_mode": {
    "name": "ipython",
    "version": 3
   },
   "file_extension": ".py",
   "mimetype": "text/x-python",
   "name": "python",
   "nbconvert_exporter": "python",
   "pygments_lexer": "ipython3",
   "version": "3.7.1"
  }
 },
 "nbformat": 4,
 "nbformat_minor": 2
}
