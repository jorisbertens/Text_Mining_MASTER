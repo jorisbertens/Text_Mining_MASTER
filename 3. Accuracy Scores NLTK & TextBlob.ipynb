{
 "cells": [
  {
   "cell_type": "markdown",
   "metadata": {},
   "source": [
    "### THIS NOTEBOOK SHOWS THE ACCURACY SCORE TESTS FOR THE TEXTBLOB AND NLTK MODELS"
   ]
  },
  {
   "cell_type": "code",
   "execution_count": 84,
   "metadata": {},
   "outputs": [
    {
     "name": "stderr",
     "output_type": "stream",
     "text": [
      "C:\\Users\\mariu\\anaconda\\lib\\site-packages\\pandas\\io\\excel.py:329: FutureWarning: The `sheetname` keyword is deprecated, use `sheet_name` instead\n",
      "  parse_dates=False,\n"
     ]
    },
    {
     "data": {
      "text/html": [
       "<div>\n",
       "<style scoped>\n",
       "    .dataframe tbody tr th:only-of-type {\n",
       "        vertical-align: middle;\n",
       "    }\n",
       "\n",
       "    .dataframe tbody tr th {\n",
       "        vertical-align: top;\n",
       "    }\n",
       "\n",
       "    .dataframe thead th {\n",
       "        text-align: right;\n",
       "    }\n",
       "</style>\n",
       "<table border=\"1\" class=\"dataframe\">\n",
       "  <thead>\n",
       "    <tr style=\"text-align: right;\">\n",
       "      <th></th>\n",
       "      <th>id</th>\n",
       "      <th>date</th>\n",
       "      <th>sentiment</th>\n",
       "      <th>text</th>\n",
       "      <th>language</th>\n",
       "    </tr>\n",
       "  </thead>\n",
       "  <tbody>\n",
       "    <tr>\n",
       "      <th>0</th>\n",
       "      <td>468324</td>\n",
       "      <td>2019-01-19 11:41:00</td>\n",
       "      <td>neu</td>\n",
       "      <td>Come Comprare  Bitcoin  su CryptoLocalATM  htt...</td>\n",
       "      <td>en</td>\n",
       "    </tr>\n",
       "    <tr>\n",
       "      <th>1</th>\n",
       "      <td>345757</td>\n",
       "      <td>2019-01-14 15:51:00</td>\n",
       "      <td>neg</td>\n",
       "      <td>I think you mean Crypto in general.  Bitcoin  ...</td>\n",
       "      <td>en</td>\n",
       "    </tr>\n",
       "    <tr>\n",
       "      <th>2</th>\n",
       "      <td>470091</td>\n",
       "      <td>2019-01-19 13:27:00</td>\n",
       "      <td>neu</td>\n",
       "      <td>Cointelegraph \"A group of academics from top U...</td>\n",
       "      <td>en</td>\n",
       "    </tr>\n",
       "    <tr>\n",
       "      <th>3</th>\n",
       "      <td>123969</td>\n",
       "      <td>2019-01-05 19:37:00</td>\n",
       "      <td>pos</td>\n",
       "      <td>And #bitcoin  is the one and only. #bitcoincas...</td>\n",
       "      <td>en</td>\n",
       "    </tr>\n",
       "    <tr>\n",
       "      <th>4</th>\n",
       "      <td>542464</td>\n",
       "      <td>2019-01-22 14:01:00</td>\n",
       "      <td>pos</td>\n",
       "      <td># XLM  Buy at #KuCoin  and sell at #Bitexen . ...</td>\n",
       "      <td>en</td>\n",
       "    </tr>\n",
       "  </tbody>\n",
       "</table>\n",
       "</div>"
      ],
      "text/plain": [
       "       id                date sentiment  \\\n",
       "0  468324 2019-01-19 11:41:00       neu   \n",
       "1  345757 2019-01-14 15:51:00       neg   \n",
       "2  470091 2019-01-19 13:27:00       neu   \n",
       "3  123969 2019-01-05 19:37:00       pos   \n",
       "4  542464 2019-01-22 14:01:00       pos   \n",
       "\n",
       "                                                text language  \n",
       "0  Come Comprare  Bitcoin  su CryptoLocalATM  htt...       en  \n",
       "1  I think you mean Crypto in general.  Bitcoin  ...       en  \n",
       "2  Cointelegraph \"A group of academics from top U...       en  \n",
       "3  And #bitcoin  is the one and only. #bitcoincas...       en  \n",
       "4  # XLM  Buy at #KuCoin  and sell at #Bitexen . ...       en  "
      ]
     },
     "execution_count": 84,
     "metadata": {},
     "output_type": "execute_result"
    }
   ],
   "source": [
    "import pandas as pd\n",
    "from pandas import ExcelWriter\n",
    "from pandas import ExcelFile\n",
    "from project_functions import *\n",
    "df = pd.read_excel('test_Set_4000_total.xlsx', sheetname='test_set_4000_total')\n",
    "df.head()"
   ]
  },
  {
   "cell_type": "code",
   "execution_count": 85,
   "metadata": {},
   "outputs": [
    {
     "data": {
      "text/plain": [
       "str"
      ]
     },
     "execution_count": 85,
     "metadata": {},
     "output_type": "execute_result"
    }
   ],
   "source": [
    "type(df[\"text\"][1])"
   ]
  },
  {
   "cell_type": "code",
   "execution_count": 86,
   "metadata": {},
   "outputs": [],
   "source": [
    "df = df_removal_function(df)"
   ]
  },
  {
   "cell_type": "code",
   "execution_count": 87,
   "metadata": {},
   "outputs": [
    {
     "data": {
      "text/plain": [
       "'Cointelegraph \"A group of academics from top U.S. universities launch a crypto that would outstrip Bitcoin and Visa in terms of procesing times pic.twiter.com/BDkrfGt \"'"
      ]
     },
     "execution_count": 87,
     "metadata": {},
     "output_type": "execute_result"
    }
   ],
   "source": [
    "df[\"text\"][2]"
   ]
  },
  {
   "cell_type": "code",
   "execution_count": 88,
   "metadata": {},
   "outputs": [],
   "source": [
    "df=df_tokenize_dataframe(df)"
   ]
  },
  {
   "cell_type": "code",
   "execution_count": 89,
   "metadata": {},
   "outputs": [
    {
     "data": {
      "text/html": [
       "<div>\n",
       "<style scoped>\n",
       "    .dataframe tbody tr th:only-of-type {\n",
       "        vertical-align: middle;\n",
       "    }\n",
       "\n",
       "    .dataframe tbody tr th {\n",
       "        vertical-align: top;\n",
       "    }\n",
       "\n",
       "    .dataframe thead th {\n",
       "        text-align: right;\n",
       "    }\n",
       "</style>\n",
       "<table border=\"1\" class=\"dataframe\">\n",
       "  <thead>\n",
       "    <tr style=\"text-align: right;\">\n",
       "      <th></th>\n",
       "      <th>id</th>\n",
       "      <th>date</th>\n",
       "      <th>sentiment</th>\n",
       "      <th>text</th>\n",
       "      <th>language</th>\n",
       "    </tr>\n",
       "  </thead>\n",
       "  <tbody>\n",
       "    <tr>\n",
       "      <th>0</th>\n",
       "      <td>468324</td>\n",
       "      <td>2019-01-19 11:41:00</td>\n",
       "      <td>neu</td>\n",
       "      <td>[come, comprare, bitcoin, su, cryptolocalatm, ...</td>\n",
       "      <td>en</td>\n",
       "    </tr>\n",
       "    <tr>\n",
       "      <th>1</th>\n",
       "      <td>345757</td>\n",
       "      <td>2019-01-14 15:51:00</td>\n",
       "      <td>neg</td>\n",
       "      <td>[think, mean, crypto, general, bitcoin, heavil...</td>\n",
       "      <td>en</td>\n",
       "    </tr>\n",
       "    <tr>\n",
       "      <th>2</th>\n",
       "      <td>470091</td>\n",
       "      <td>2019-01-19 13:27:00</td>\n",
       "      <td>neu</td>\n",
       "      <td>[cointelegraph, group, academics, top, u, univ...</td>\n",
       "      <td>en</td>\n",
       "    </tr>\n",
       "    <tr>\n",
       "      <th>3</th>\n",
       "      <td>123969</td>\n",
       "      <td>2019-01-05 19:37:00</td>\n",
       "      <td>pos</td>\n",
       "      <td>[bitcoin, one, bitcoincash, bitcoinsv, shitcoins]</td>\n",
       "      <td>en</td>\n",
       "    </tr>\n",
       "    <tr>\n",
       "      <th>4</th>\n",
       "      <td>542464</td>\n",
       "      <td>2019-01-22 14:01:00</td>\n",
       "      <td>pos</td>\n",
       "      <td>[xlm, buy, kucoin, sel, bitexen, ratio, buy, k...</td>\n",
       "      <td>en</td>\n",
       "    </tr>\n",
       "  </tbody>\n",
       "</table>\n",
       "</div>"
      ],
      "text/plain": [
       "       id                date sentiment  \\\n",
       "0  468324 2019-01-19 11:41:00       neu   \n",
       "1  345757 2019-01-14 15:51:00       neg   \n",
       "2  470091 2019-01-19 13:27:00       neu   \n",
       "3  123969 2019-01-05 19:37:00       pos   \n",
       "4  542464 2019-01-22 14:01:00       pos   \n",
       "\n",
       "                                                text language  \n",
       "0  [come, comprare, bitcoin, su, cryptolocalatm, ...       en  \n",
       "1  [think, mean, crypto, general, bitcoin, heavil...       en  \n",
       "2  [cointelegraph, group, academics, top, u, univ...       en  \n",
       "3  [bitcoin, one, bitcoincash, bitcoinsv, shitcoins]       en  \n",
       "4  [xlm, buy, kucoin, sel, bitexen, ratio, buy, k...       en  "
      ]
     },
     "execution_count": 89,
     "metadata": {},
     "output_type": "execute_result"
    }
   ],
   "source": [
    "df = df_remove_stopwords_dataframe(df)\n",
    "df.head()"
   ]
  },
  {
   "cell_type": "code",
   "execution_count": 90,
   "metadata": {},
   "outputs": [],
   "source": [
    "df = df_untokenize_dataframe(df)"
   ]
  },
  {
   "cell_type": "code",
   "execution_count": 91,
   "metadata": {},
   "outputs": [],
   "source": [
    "df.to_csv('test_set_normalized.csv', sep='|')"
   ]
  },
  {
   "cell_type": "code",
   "execution_count": 92,
   "metadata": {},
   "outputs": [
    {
     "data": {
      "text/html": [
       "<div>\n",
       "<style scoped>\n",
       "    .dataframe tbody tr th:only-of-type {\n",
       "        vertical-align: middle;\n",
       "    }\n",
       "\n",
       "    .dataframe tbody tr th {\n",
       "        vertical-align: top;\n",
       "    }\n",
       "\n",
       "    .dataframe thead th {\n",
       "        text-align: right;\n",
       "    }\n",
       "</style>\n",
       "<table border=\"1\" class=\"dataframe\">\n",
       "  <thead>\n",
       "    <tr style=\"text-align: right;\">\n",
       "      <th></th>\n",
       "      <th>id</th>\n",
       "      <th>date</th>\n",
       "      <th>sentiment</th>\n",
       "      <th>text</th>\n",
       "      <th>language</th>\n",
       "    </tr>\n",
       "  </thead>\n",
       "  <tbody>\n",
       "    <tr>\n",
       "      <th>0</th>\n",
       "      <td>468324</td>\n",
       "      <td>2019-01-19 11:41:00</td>\n",
       "      <td>neu</td>\n",
       "      <td>come comprare bitcoin su cryptolocalatm youtu ...</td>\n",
       "      <td>en</td>\n",
       "    </tr>\n",
       "    <tr>\n",
       "      <th>1</th>\n",
       "      <td>345757</td>\n",
       "      <td>2019-01-14 15:51:00</td>\n",
       "      <td>neg</td>\n",
       "      <td>think mean crypto general bitcoin heavily infl...</td>\n",
       "      <td>en</td>\n",
       "    </tr>\n",
       "    <tr>\n",
       "      <th>2</th>\n",
       "      <td>470091</td>\n",
       "      <td>2019-01-19 13:27:00</td>\n",
       "      <td>neu</td>\n",
       "      <td>cointelegraph group academics top u universiti...</td>\n",
       "      <td>en</td>\n",
       "    </tr>\n",
       "    <tr>\n",
       "      <th>3</th>\n",
       "      <td>123969</td>\n",
       "      <td>2019-01-05 19:37:00</td>\n",
       "      <td>pos</td>\n",
       "      <td>bitcoin one bitcoincash bitcoinsv shitcoins</td>\n",
       "      <td>en</td>\n",
       "    </tr>\n",
       "    <tr>\n",
       "      <th>4</th>\n",
       "      <td>542464</td>\n",
       "      <td>2019-01-22 14:01:00</td>\n",
       "      <td>pos</td>\n",
       "      <td>xlm buy kucoin sel bitexen ratio buy kucoin se...</td>\n",
       "      <td>en</td>\n",
       "    </tr>\n",
       "  </tbody>\n",
       "</table>\n",
       "</div>"
      ],
      "text/plain": [
       "       id                date sentiment  \\\n",
       "0  468324 2019-01-19 11:41:00       neu   \n",
       "1  345757 2019-01-14 15:51:00       neg   \n",
       "2  470091 2019-01-19 13:27:00       neu   \n",
       "3  123969 2019-01-05 19:37:00       pos   \n",
       "4  542464 2019-01-22 14:01:00       pos   \n",
       "\n",
       "                                                text language  \n",
       "0  come comprare bitcoin su cryptolocalatm youtu ...       en  \n",
       "1  think mean crypto general bitcoin heavily infl...       en  \n",
       "2  cointelegraph group academics top u universiti...       en  \n",
       "3        bitcoin one bitcoincash bitcoinsv shitcoins       en  \n",
       "4  xlm buy kucoin sel bitexen ratio buy kucoin se...       en  "
      ]
     },
     "execution_count": 92,
     "metadata": {},
     "output_type": "execute_result"
    }
   ],
   "source": [
    "df.head()"
   ]
  },
  {
   "cell_type": "code",
   "execution_count": 93,
   "metadata": {},
   "outputs": [],
   "source": [
    "from textblob import TextBlob"
   ]
  },
  {
   "cell_type": "code",
   "execution_count": 94,
   "metadata": {},
   "outputs": [],
   "source": [
    "def sentiment_textblob(text):\n",
    "    analyze = TextBlob(text)\n",
    "\n",
    "    if analyze.polarity == 0.0:\n",
    "        sentiment_value = \"neu\"\n",
    "        return sentiment_value, analyze.polarity\n",
    "    elif analyze.polarity < 0.0:\n",
    "        sentiment_value = \"neg\"\n",
    "        return sentiment_value, analyze.polarity\n",
    "    elif analyze.polarity > 0.0:\n",
    "        sentiment_value = \"pos\"\n",
    "        return sentiment_value, analyze.polarity"
   ]
  },
  {
   "cell_type": "code",
   "execution_count": 95,
   "metadata": {},
   "outputs": [],
   "source": [
    "def add_sentiment_textblob(dataframe):\n",
    "    text_column = dataframe[\"text\"]\n",
    "    sentiment_textblob_list = []\n",
    "\n",
    "    for i in text_column:\n",
    "        sentiment_value, polarity = sentiment_textblob(i)#sentiment_textblob(i)\n",
    "        sentiment_textblob_list.append(sentiment_value)\n",
    "\n",
    "    dataframe[\"sentiment_textblob_2\"] = sentiment_textblob_list\n",
    "    \n",
    "    return dataframe"
   ]
  },
  {
   "cell_type": "code",
   "execution_count": 96,
   "metadata": {},
   "outputs": [
    {
     "data": {
      "text/html": [
       "<div>\n",
       "<style scoped>\n",
       "    .dataframe tbody tr th:only-of-type {\n",
       "        vertical-align: middle;\n",
       "    }\n",
       "\n",
       "    .dataframe tbody tr th {\n",
       "        vertical-align: top;\n",
       "    }\n",
       "\n",
       "    .dataframe thead th {\n",
       "        text-align: right;\n",
       "    }\n",
       "</style>\n",
       "<table border=\"1\" class=\"dataframe\">\n",
       "  <thead>\n",
       "    <tr style=\"text-align: right;\">\n",
       "      <th></th>\n",
       "      <th>id</th>\n",
       "      <th>date</th>\n",
       "      <th>sentiment</th>\n",
       "      <th>text</th>\n",
       "      <th>language</th>\n",
       "      <th>sentiment_textblob_2</th>\n",
       "    </tr>\n",
       "  </thead>\n",
       "  <tbody>\n",
       "    <tr>\n",
       "      <th>0</th>\n",
       "      <td>468324</td>\n",
       "      <td>2019-01-19 11:41:00</td>\n",
       "      <td>neu</td>\n",
       "      <td>come comprare bitcoin su cryptolocalatm youtu ...</td>\n",
       "      <td>en</td>\n",
       "      <td>neu</td>\n",
       "    </tr>\n",
       "    <tr>\n",
       "      <th>1</th>\n",
       "      <td>345757</td>\n",
       "      <td>2019-01-14 15:51:00</td>\n",
       "      <td>neg</td>\n",
       "      <td>think mean crypto general bitcoin heavily infl...</td>\n",
       "      <td>en</td>\n",
       "      <td>neg</td>\n",
       "    </tr>\n",
       "    <tr>\n",
       "      <th>2</th>\n",
       "      <td>470091</td>\n",
       "      <td>2019-01-19 13:27:00</td>\n",
       "      <td>neu</td>\n",
       "      <td>cointelegraph group academics top u universiti...</td>\n",
       "      <td>en</td>\n",
       "      <td>pos</td>\n",
       "    </tr>\n",
       "    <tr>\n",
       "      <th>3</th>\n",
       "      <td>123969</td>\n",
       "      <td>2019-01-05 19:37:00</td>\n",
       "      <td>pos</td>\n",
       "      <td>bitcoin one bitcoincash bitcoinsv shitcoins</td>\n",
       "      <td>en</td>\n",
       "      <td>neu</td>\n",
       "    </tr>\n",
       "    <tr>\n",
       "      <th>4</th>\n",
       "      <td>542464</td>\n",
       "      <td>2019-01-22 14:01:00</td>\n",
       "      <td>pos</td>\n",
       "      <td>xlm buy kucoin sel bitexen ratio buy kucoin se...</td>\n",
       "      <td>en</td>\n",
       "      <td>neu</td>\n",
       "    </tr>\n",
       "  </tbody>\n",
       "</table>\n",
       "</div>"
      ],
      "text/plain": [
       "       id                date sentiment  \\\n",
       "0  468324 2019-01-19 11:41:00       neu   \n",
       "1  345757 2019-01-14 15:51:00       neg   \n",
       "2  470091 2019-01-19 13:27:00       neu   \n",
       "3  123969 2019-01-05 19:37:00       pos   \n",
       "4  542464 2019-01-22 14:01:00       pos   \n",
       "\n",
       "                                                text language  \\\n",
       "0  come comprare bitcoin su cryptolocalatm youtu ...       en   \n",
       "1  think mean crypto general bitcoin heavily infl...       en   \n",
       "2  cointelegraph group academics top u universiti...       en   \n",
       "3        bitcoin one bitcoincash bitcoinsv shitcoins       en   \n",
       "4  xlm buy kucoin sel bitexen ratio buy kucoin se...       en   \n",
       "\n",
       "  sentiment_textblob_2  \n",
       "0                  neu  \n",
       "1                  neg  \n",
       "2                  pos  \n",
       "3                  neu  \n",
       "4                  neu  "
      ]
     },
     "execution_count": 96,
     "metadata": {},
     "output_type": "execute_result"
    }
   ],
   "source": [
    "df = add_sentiment_textblob(df)\n",
    "df.head()"
   ]
  },
  {
   "cell_type": "code",
   "execution_count": 97,
   "metadata": {},
   "outputs": [],
   "source": [
    "df = df.dropna()"
   ]
  },
  {
   "cell_type": "code",
   "execution_count": 98,
   "metadata": {},
   "outputs": [],
   "source": [
    "df = df.reset_index(drop=True)"
   ]
  },
  {
   "cell_type": "code",
   "execution_count": 99,
   "metadata": {},
   "outputs": [
    {
     "name": "stdout",
     "output_type": "stream",
     "text": [
      "the accuracy of TextBlob on our data is: 0.5028936947913494\n"
     ]
    }
   ],
   "source": [
    "correct = 0\n",
    "false = 0\n",
    "for i in range(len(df[\"sentiment\"])):\n",
    "    #print(i)\n",
    "    if df[\"sentiment\"][i] == df[\"sentiment_textblob_2\"][i]:\n",
    "        correct = correct+1\n",
    "    else:\n",
    "        false = false+1\n",
    "print('the accuracy of TextBlob on our data is:' , correct/(correct +false))"
   ]
  },
  {
   "cell_type": "code",
   "execution_count": 100,
   "metadata": {},
   "outputs": [],
   "source": [
    "from nltk.sentiment.vader import SentimentIntensityAnalyzer\n",
    "def sentiment_nltk(text):\n",
    "    sia = SentimentIntensityAnalyzer()\n",
    "\n",
    "    if sia.polarity_scores(text)[\"compound\"] == 0.0:\n",
    "        sentiment_value = \"neu\"\n",
    "        return sentiment_value, sia.polarity_scores(text)[\"compound\"]\n",
    "    elif sia.polarity_scores(text)[\"compound\"] < 0.0:\n",
    "        sentiment_value = \"neg\"\n",
    "        return sentiment_value, sia.polarity_scores(text)[\"compound\"]\n",
    "    elif sia.polarity_scores(text)[\"compound\"] > 0.0:\n",
    "        sentiment_value = \"pos\"\n",
    "        return sentiment_value, sia.polarity_scores(text)[\"compound\"]"
   ]
  },
  {
   "cell_type": "code",
   "execution_count": 101,
   "metadata": {},
   "outputs": [],
   "source": [
    "def add_sentiment_nltk(dataframe):\n",
    "    text_column = dataframe[\"text\"]\n",
    "    sentiment_nltk_list = []\n",
    "\n",
    "    for i in text_column:\n",
    "        sentiment_value, polarity = sentiment_nltk(i)#sentiment_textblob(i)\n",
    "        sentiment_nltk_list.append(sentiment_value)\n",
    "\n",
    "    dataframe[\"sentiment_nltk\"] = sentiment_nltk_list\n",
    "    \n",
    "    return dataframe"
   ]
  },
  {
   "cell_type": "code",
   "execution_count": 102,
   "metadata": {},
   "outputs": [
    {
     "data": {
      "text/html": [
       "<div>\n",
       "<style scoped>\n",
       "    .dataframe tbody tr th:only-of-type {\n",
       "        vertical-align: middle;\n",
       "    }\n",
       "\n",
       "    .dataframe tbody tr th {\n",
       "        vertical-align: top;\n",
       "    }\n",
       "\n",
       "    .dataframe thead th {\n",
       "        text-align: right;\n",
       "    }\n",
       "</style>\n",
       "<table border=\"1\" class=\"dataframe\">\n",
       "  <thead>\n",
       "    <tr style=\"text-align: right;\">\n",
       "      <th></th>\n",
       "      <th>id</th>\n",
       "      <th>date</th>\n",
       "      <th>sentiment</th>\n",
       "      <th>text</th>\n",
       "      <th>language</th>\n",
       "      <th>sentiment_textblob_2</th>\n",
       "      <th>sentiment_nltk</th>\n",
       "    </tr>\n",
       "  </thead>\n",
       "  <tbody>\n",
       "    <tr>\n",
       "      <th>0</th>\n",
       "      <td>468324</td>\n",
       "      <td>2019-01-19 11:41:00</td>\n",
       "      <td>neu</td>\n",
       "      <td>come comprare bitcoin su cryptolocalatm youtu ...</td>\n",
       "      <td>en</td>\n",
       "      <td>neu</td>\n",
       "      <td>neu</td>\n",
       "    </tr>\n",
       "    <tr>\n",
       "      <th>1</th>\n",
       "      <td>345757</td>\n",
       "      <td>2019-01-14 15:51:00</td>\n",
       "      <td>neg</td>\n",
       "      <td>think mean crypto general bitcoin heavily infl...</td>\n",
       "      <td>en</td>\n",
       "      <td>neg</td>\n",
       "      <td>neu</td>\n",
       "    </tr>\n",
       "    <tr>\n",
       "      <th>2</th>\n",
       "      <td>470091</td>\n",
       "      <td>2019-01-19 13:27:00</td>\n",
       "      <td>neu</td>\n",
       "      <td>cointelegraph group academics top u universiti...</td>\n",
       "      <td>en</td>\n",
       "      <td>pos</td>\n",
       "      <td>pos</td>\n",
       "    </tr>\n",
       "    <tr>\n",
       "      <th>3</th>\n",
       "      <td>123969</td>\n",
       "      <td>2019-01-05 19:37:00</td>\n",
       "      <td>pos</td>\n",
       "      <td>bitcoin one bitcoincash bitcoinsv shitcoins</td>\n",
       "      <td>en</td>\n",
       "      <td>neu</td>\n",
       "      <td>neu</td>\n",
       "    </tr>\n",
       "    <tr>\n",
       "      <th>4</th>\n",
       "      <td>542464</td>\n",
       "      <td>2019-01-22 14:01:00</td>\n",
       "      <td>pos</td>\n",
       "      <td>xlm buy kucoin sel bitexen ratio buy kucoin se...</td>\n",
       "      <td>en</td>\n",
       "      <td>neu</td>\n",
       "      <td>neu</td>\n",
       "    </tr>\n",
       "  </tbody>\n",
       "</table>\n",
       "</div>"
      ],
      "text/plain": [
       "       id                date sentiment  \\\n",
       "0  468324 2019-01-19 11:41:00       neu   \n",
       "1  345757 2019-01-14 15:51:00       neg   \n",
       "2  470091 2019-01-19 13:27:00       neu   \n",
       "3  123969 2019-01-05 19:37:00       pos   \n",
       "4  542464 2019-01-22 14:01:00       pos   \n",
       "\n",
       "                                                text language  \\\n",
       "0  come comprare bitcoin su cryptolocalatm youtu ...       en   \n",
       "1  think mean crypto general bitcoin heavily infl...       en   \n",
       "2  cointelegraph group academics top u universiti...       en   \n",
       "3        bitcoin one bitcoincash bitcoinsv shitcoins       en   \n",
       "4  xlm buy kucoin sel bitexen ratio buy kucoin se...       en   \n",
       "\n",
       "  sentiment_textblob_2 sentiment_nltk  \n",
       "0                  neu            neu  \n",
       "1                  neg            neu  \n",
       "2                  pos            pos  \n",
       "3                  neu            neu  \n",
       "4                  neu            neu  "
      ]
     },
     "execution_count": 102,
     "metadata": {},
     "output_type": "execute_result"
    }
   ],
   "source": [
    "df = add_sentiment_nltk(df)\n",
    "df.head()"
   ]
  },
  {
   "cell_type": "code",
   "execution_count": 103,
   "metadata": {},
   "outputs": [
    {
     "name": "stdout",
     "output_type": "stream",
     "text": [
      "the accuracy of NLTK on our data is: 0.44319220225403594\n"
     ]
    }
   ],
   "source": [
    "correct = 0\n",
    "false = 0\n",
    "for i in range(len(df[\"sentiment\"])):\n",
    "    #print(i)\n",
    "    if df[\"sentiment\"][i] == df[\"sentiment_nltk\"][i]:\n",
    "        correct = correct+1\n",
    "    else:\n",
    "        false = false+1\n",
    "print('the accuracy of NLTK on our data is:' , correct/(correct +false))"
   ]
  },
  {
   "cell_type": "code",
   "execution_count": 79,
   "metadata": {},
   "outputs": [
    {
     "data": {
      "text/plain": [
       "(3283, 8)"
      ]
     },
     "execution_count": 79,
     "metadata": {},
     "output_type": "execute_result"
    }
   ],
   "source": []
  },
  {
   "cell_type": "code",
   "execution_count": null,
   "metadata": {},
   "outputs": [],
   "source": []
  }
 ],
 "metadata": {
  "kernelspec": {
   "display_name": "Python 3",
   "language": "python",
   "name": "python3"
  },
  "language_info": {
   "codemirror_mode": {
    "name": "ipython",
    "version": 3
   },
   "file_extension": ".py",
   "mimetype": "text/x-python",
   "name": "python",
   "nbconvert_exporter": "python",
   "pygments_lexer": "ipython3",
   "version": "3.7.1"
  },
  "stem_cell": {
   "cell_type": "raw",
   "metadata": {
    "pycharm": {
     "metadata": false
    }
   },
   "source": "import nltk\nimport random\nfrom nltk.corpus import movie_reviews\nfrom nltk.classify.scikitlearn import SklearnClassifier\nfrom nltk import word_tokenize\nimport pickle\n\nfrom sklearn.naive_bayes import MultinomialNB, GaussianNB, BernoulliNB\n\nfrom sklearn.linear_model import LogisticRegression, SGDClassifier\nfrom sklearn.svm import SVC, LinearSVC, NuSVC\n\nfrom nltk.classify import ClassifierI\nfrom statistics import mode\n\n\n\nclass VoteClassifier(ClassifierI):\n    def __init__(self, *classifiers):\n        self._classifiers = classifiers\n    \n    def classify(self, features):\n        votes = []\n        for c in self._classifiers:\n            v = c.classify(features)\n            votes.append(v)\n        return mode(votes)\n    \n    def confidence(self, features):\n        \n        votes = []\n        for c in self._classifiers:\n            v = c.classify(features)\n            votes.append(v)\n        \n        choice_votes = votes.count(mode(votes))\n        conf = choice_votes / len(votes)\n        return conf\n        \ndocuments_f = open(\"pickled_algorithms/documents.pickle\", \"rb\")\ndocuments = pickle.load(documents_f)\ndocuments_f.close()\n\nword_features_f = open(\"pickled_algorithms/word_features.pickle\", \"rb\")\nword_features = pickle.load(word_features_f)\nword_features_f.close()\n\n\ndef find_features(document):\n    words = word_tokenize(document)\n    features = {}\n    for w in word_features:\n        features[w] = (w in words)\n    \n    return features"
  }
 },
 "nbformat": 4,
 "nbformat_minor": 2
}
